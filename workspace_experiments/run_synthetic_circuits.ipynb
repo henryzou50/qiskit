{
 "cells": [
  {
   "cell_type": "code",
   "execution_count": 2,
   "metadata": {},
   "outputs": [],
   "source": [
    "from experiment_setup.pass_managers import run_experiment\n",
    "from experiment_setup.circuits.circuit_files import get_circuits_from_directory\n",
    "from experiment_setup.coupling_maps.coupling_maps_files import file_to_coupling_map\n",
    "from qiskit.transpiler import CouplingMap"
   ]
  },
  {
   "cell_type": "code",
   "execution_count": 5,
   "metadata": {},
   "outputs": [],
   "source": [
    "circuits_path_list = [\"zou_circuits/problems_ring_27\",\n",
    "                 \"zou_circuits/problems_ring_27_scrambled\",\n",
    "                 \"zou_circuits/problems_heavy_hex_27\",\n",
    "                 \"zou_circuits/problems_heavy_hex_27_scrambled\",\n",
    "                 \"zou_circuits/problems_square_25\",\n",
    "                 \"zou_circuits/problems_square_25_scrambled\",                 \n",
    "                 ]\n",
    "cm_ring   = CouplingMap.from_ring(27)\n",
    "cm_hex    = file_to_coupling_map(\"experiment_setup/coupling_maps/heavy_hex_027.txt\")\n",
    "cm_square = CouplingMap.from_grid(5, 5)\n",
    "\n",
    "cm_list =  [cm_ring, cm_ring, cm_hex, cm_hex, cm_square, cm_square]\n",
    "\n",
    "rp_str_list =  [\"sabre_v0_20_\", \"sabre_v0_20_extended\", \"sabre_depth\"]\n",
    "\n",
    "lp_str = \"sabre_layout\""
   ]
  },
  {
   "cell_type": "code",
   "execution_count": null,
   "metadata": {},
   "outputs": [],
   "source": [
    "for i in range(len(circuits_path_list)):\n",
    "    for rp_str in rp_str_list:\n",
    "        circuit_path = circuits_path_list[i]\n",
    "        cm           = cm_list[i]\n",
    "\n",
    "        save_path =  f\"results/{circuit_path}/{rp_str}.csv\"\n",
    "\n",
    "        qc_list_directory = f\"experiment_setup/circuits/{circuit_path}\"\n",
    "        qc_list = get_circuits_from_directory(qc_list_directory)\n",
    "\n",
    "        data = run_experiment(save_path, qc_list, rp_str, lp_str, cm, max_iter=3)\n",
    "\n",
    "\n"
   ]
  }
 ],
 "metadata": {
  "kernelspec": {
   "display_name": "qiskit-sabre",
   "language": "python",
   "name": "python3"
  },
  "language_info": {
   "codemirror_mode": {
    "name": "ipython",
    "version": 3
   },
   "file_extension": ".py",
   "mimetype": "text/x-python",
   "name": "python",
   "nbconvert_exporter": "python",
   "pygments_lexer": "ipython3",
   "version": "3.11.4"
  }
 },
 "nbformat": 4,
 "nbformat_minor": 2
}
