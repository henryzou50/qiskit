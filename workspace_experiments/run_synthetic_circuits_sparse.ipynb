{
 "cells": [
  {
   "cell_type": "code",
   "execution_count": 1,
   "metadata": {},
   "outputs": [],
   "source": [
    "from experiment_setup.pass_managers import run_experiment\n",
    "from experiment_setup.circuits.circuit_files import get_circuits_from_directory\n",
    "from experiment_setup.coupling_maps.coupling_maps_files import file_to_coupling_map\n",
    "from qiskit.transpiler import CouplingMap"
   ]
  },
  {
   "cell_type": "code",
   "execution_count": 2,
   "metadata": {},
   "outputs": [],
   "source": [
    "circuits_path_list = [\"zou_circuits/problems_ring_27_sparse\",\n",
    "                 \"zou_circuits/problems_heavy_hex_27_sparse\",\n",
    "                 \"zou_circuits/problems_square_25_sparse\",              \n",
    "                 ]\n",
    "cm_ring   = CouplingMap.from_ring(27)\n",
    "cm_hex    = file_to_coupling_map(\"experiment_setup/coupling_maps/heavy_hex_027.txt\")\n",
    "cm_square = CouplingMap.from_grid(5, 5)\n",
    "\n",
    "cm_list =  [cm_ring, cm_hex, cm_square]\n",
    "\n",
    "rp_str_list =  [\"sabre_v0_20_\", \"sabre_v0_20_extended\", \"sabre_v0_20_depth\", \"sabre_v0_20_depth_old\"]\n",
    "\n",
    "lp_str = \"sabre_layout\""
   ]
  },
  {
   "cell_type": "code",
   "execution_count": 3,
   "metadata": {},
   "outputs": [
    {
     "name": "stdout",
     "output_type": "stream",
     "text": [
      "Using seed 42 for routing pass.\n",
      "    Building Sabre v0.20 routing pass\n",
      "        Using seed 42 and max iterations 3 for layout pass.\n",
      "            Building Sabre layout pass\n",
      "Using seed 43 for routing pass.\n",
      "    Building Sabre v0.20 routing pass\n",
      "        Using seed 43 and max iterations 3 for layout pass.\n",
      "            Building Sabre layout pass\n",
      "Using seed 44 for routing pass.\n",
      "    Building Sabre v0.20 routing pass\n",
      "        Using seed 44 and max iterations 3 for layout pass.\n",
      "            Building Sabre layout pass\n",
      "Using seed 45 for routing pass.\n",
      "    Building Sabre v0.20 routing pass\n",
      "        Using seed 45 and max iterations 3 for layout pass.\n",
      "            Building Sabre layout pass\n",
      "Finished: 0 out of 100 with depth 1 and time 0.010986089706420898\n",
      "Finished: 1 out of 100 with depth 8 and time 0.01786017417907715\n",
      "Finished: 2 out of 100 with depth 9 and time 0.02446603775024414\n",
      "Finished: 3 out of 100 with depth 12 and time 0.03033590316772461\n",
      "Finished: 4 out of 100 with depth 22 and time 0.06524205207824707\n",
      "Finished: 5 out of 100 with depth 22 and time 0.05809307098388672\n",
      "Finished: 6 out of 100 with depth 31 and time 0.08344721794128418\n",
      "Finished: 7 out of 100 with depth 21 and time 0.04715895652770996\n",
      "Finished: 8 out of 100 with depth 33 and time 0.07741189002990723\n",
      "Finished: 9 out of 100 with depth 31 and time 0.07105588912963867\n",
      "Finished: 10 out of 100 with depth 42 and time 0.0898427963256836\n",
      "Finished: 11 out of 100 with depth 39 and time 0.08376717567443848\n",
      "Finished: 12 out of 100 with depth 44 and time 0.09296822547912598\n",
      "Finished: 13 out of 100 with depth 58 and time 0.13486099243164062\n",
      "Finished: 14 out of 100 with depth 66 and time 0.09064292907714844\n",
      "Finished: 15 out of 100 with depth 30 and time 0.1062479019165039\n",
      "Finished: 16 out of 100 with depth 40 and time 0.11091876029968262\n",
      "Finished: 17 out of 100 with depth 27 and time 0.09015393257141113\n",
      "Finished: 18 out of 100 with depth 30 and time 0.09005618095397949\n",
      "Finished: 19 out of 100 with depth 83 and time 0.15842103958129883\n",
      "Finished: 20 out of 100 with depth 41 and time 0.09678387641906738\n",
      "Finished: 21 out of 100 with depth 53 and time 0.10814213752746582\n",
      "Finished: 22 out of 100 with depth 100 and time 0.19026780128479004\n",
      "Finished: 23 out of 100 with depth 53 and time 0.11315464973449707\n",
      "Finished: 24 out of 100 with depth 78 and time 0.12734007835388184\n",
      "Finished: 25 out of 100 with depth 38 and time 0.12112903594970703\n",
      "Finished: 26 out of 100 with depth 56 and time 0.13229608535766602\n"
     ]
    }
   ],
   "source": [
    "for i in range(len(circuits_path_list)):\n",
    "    for rp_str in rp_str_list:\n",
    "        circuit_path = circuits_path_list[i]\n",
    "        cm           = cm_list[i]\n",
    "\n",
    "        save_path =  f\"results/{circuit_path}/{rp_str}.csv\"\n",
    "\n",
    "        qc_list_directory = f\"experiment_setup/circuits/{circuit_path}\"\n",
    "        qc_list = get_circuits_from_directory(qc_list_directory)\n",
    "\n",
    "        data = run_experiment(save_path, qc_list, rp_str, lp_str, cm, max_iter=3)"
   ]
  }
 ],
 "metadata": {
  "kernelspec": {
   "display_name": "qiskit-sabre",
   "language": "python",
   "name": "python3"
  },
  "language_info": {
   "codemirror_mode": {
    "name": "ipython",
    "version": 3
   },
   "file_extension": ".py",
   "mimetype": "text/x-python",
   "name": "python",
   "nbconvert_exporter": "python",
   "pygments_lexer": "ipython3",
   "version": "3.11.4"
  }
 },
 "nbformat": 4,
 "nbformat_minor": 2
}
