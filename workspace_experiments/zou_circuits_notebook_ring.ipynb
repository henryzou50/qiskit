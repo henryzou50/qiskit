{
 "cells": [
  {
   "cell_type": "code",
   "execution_count": 1,
   "metadata": {},
   "outputs": [],
   "source": [
    "from qiskit import QuantumCircuit\n",
    "from qiskit.transpiler import CouplingMap\n",
    "import random\n",
    "from qiskit.transpiler import PassManager\n",
    "from qiskit.transpiler.passes.routing.sabre_swap_v0_20_      import SabreSwap \n",
    "from qiskit.transpiler.passes import ApplyLayout, FullAncillaAllocation, \\\n",
    "                                     EnlargeWithAncilla\n",
    "from qiskit.transpiler.passes.layout.sabre_layout    import SabreLayout\n",
    "from qiskit.qasm2 import dump \n",
    "from zou_circuits import create_parallel_circuit, apply_swaps_and_get_matching_circuit, scramble_qubits\n",
    "random.seed(42)"
   ]
  },
  {
   "cell_type": "code",
   "execution_count": 2,
   "metadata": {},
   "outputs": [
    {
     "name": "stdout",
     "output_type": "stream",
     "text": [
      "Original Circuit:\n",
      "             \n",
      "q_0: ────────\n",
      "     ┌───┐   \n",
      "q_1: ┤ X ├─X─\n",
      "     └─┬─┘ │ \n",
      "q_2: ──■───X─\n",
      "             \n",
      "\n",
      "Modified Circuit after applying SWAPs:\n",
      "          \n",
      "q_0: ─────\n",
      "          \n",
      "q_1: ──■──\n",
      "     ┌─┴─┐\n",
      "q_2: ┤ X ├\n",
      "     └───┘\n",
      "\n",
      "Transpiled Circuit of the modified circuit:\n",
      "         ┌───┐\n",
      "q_2 -> 0 ┤ X ├\n",
      "         └─┬─┘\n",
      "q_0 -> 1 ──┼──\n",
      "           │  \n",
      "q_1 -> 2 ──■──\n",
      "              \n"
     ]
    }
   ],
   "source": [
    "num_qubits = 3\n",
    "num_layers = 1\n",
    "cm = CouplingMap.from_ring(num_qubits)\n",
    "\n",
    "\n",
    "qc = create_parallel_circuit(num_qubits, num_layers, cm)\n",
    "\n",
    "# Get the matching circuit after swaps are applied\n",
    "matching_circuit = apply_swaps_and_get_matching_circuit(qc)\n",
    "\n",
    "# Get transpiled circuit of the matching circuit\n",
    "rp = SabreSwap(cm, seed=42)\n",
    "lp = SabreLayout(cm, routing_pass=rp)\n",
    "\n",
    "pm = PassManager([\n",
    "    lp,\n",
    "    FullAncillaAllocation(cm),\n",
    "    EnlargeWithAncilla(),\n",
    "    ApplyLayout(),\n",
    "    rp\n",
    "])\n",
    "\n",
    "qc_transpiled = pm.run(matching_circuit)\n",
    "qc_transpiled.draw()\n",
    "\n",
    "\n",
    "# Print the original and modified circuits\n",
    "print(\"Original Circuit:\")\n",
    "print(qc)\n",
    "print(\"\\nModified Circuit after applying SWAPs:\")\n",
    "print(matching_circuit.draw())\n",
    "print(\"\\nTranspiled Circuit of the modified circuit:\")\n",
    "print(qc_transpiled.draw())"
   ]
  },
  {
   "cell_type": "code",
   "execution_count": 3,
   "metadata": {},
   "outputs": [
    {
     "name": "stdout",
     "output_type": "stream",
     "text": [
      "\n",
      "Original Circuit Depth: 2\n",
      "Decomposed Original Circuit Depth: 4\n",
      "\n",
      "Transpiled Circuit Depth: 1\n",
      "Decomposed Transpiled Circuit Depth: 1\n",
      "\n",
      "Modified Circuit Depth: 1\n"
     ]
    }
   ],
   "source": [
    "print(\"\\nOriginal Circuit Depth:\", qc.depth())\n",
    "print(\"Decomposed Original Circuit Depth:\", qc.decompose().depth())\n",
    "\n",
    "print(\"\\nTranspiled Circuit Depth:\", qc_transpiled.depth())\n",
    "print(\"Decomposed Transpiled Circuit Depth:\", qc_transpiled.decompose().depth())\n",
    "\n",
    "print(\"\\nModified Circuit Depth:\", matching_circuit.depth())\n"
   ]
  },
  {
   "cell_type": "code",
   "execution_count": 4,
   "metadata": {},
   "outputs": [],
   "source": [
    "def create_parallel_circuits_set(num_qubits, num_layers_list, coupling_map):\n",
    "    # Create a set of quantum circuits with the given number of qubits and number of layers\n",
    "    qc_list = [] # a list of tuples (original_circuit, matching_circuit)\n",
    "    seed = 42\n",
    "    for num_layers in num_layers_list:\n",
    "        qc_orig = create_parallel_circuit(num_qubits, num_layers, coupling_map)\n",
    "        file_answer = f\"experiment_setup/circuits/zou_circuits/answers_ring_27_sample/parallel_circuit_{num_qubits}_{num_layers}.qasm\"\n",
    "        dump(qc_orig, file_answer)\n",
    "\n",
    "        qc_match = apply_swaps_and_get_matching_circuit(qc_orig)\n",
    "        file_problem  = f\"experiment_setup/circuits/zou_circuits/problems_ring_27_sample/parallel_circuit_{num_qubits}_{num_layers}.qasm\"\n",
    "        dump(qc_match, file_problem)\n",
    "\n",
    "        #file_scrambled = f\"experiment_setup/circuits/zou_circuits/problems_ring_27_scrambled/parallel_circuit_{num_qubits}_{num_layers}.qasm\"\n",
    "        #qc_scrambled = scramble_qubits(qc_match, seed)\n",
    "        #dump(qc_scrambled, file_scrambled)\n",
    "\n",
    "        qc_list.append((qc_orig, qc_match))\n",
    "\n",
    "        print(\"Done with num_layers = \", num_layers)\n",
    "        seed += 1\n",
    "    return qc_list"
   ]
  },
  {
   "cell_type": "code",
   "execution_count": 5,
   "metadata": {},
   "outputs": [],
   "source": [
    "num_qubits = 27\n",
    "num_layers_list = [10, 20, 30, 40, 50, 60, 70, 80, 90, 100]\n",
    "cm = CouplingMap.from_ring(num_qubits)\n"
   ]
  },
  {
   "cell_type": "code",
   "execution_count": 6,
   "metadata": {},
   "outputs": [
    {
     "name": "stdout",
     "output_type": "stream",
     "text": [
      "Done with num_layers =  10\n",
      "Done with num_layers =  20\n",
      "Done with num_layers =  30\n",
      "Done with num_layers =  40\n",
      "Done with num_layers =  50\n",
      "Done with num_layers =  60\n",
      "Done with num_layers =  70\n",
      "Done with num_layers =  80\n",
      "Done with num_layers =  90\n",
      "Done with num_layers =  100\n"
     ]
    }
   ],
   "source": [
    "qc_list = create_parallel_circuits_set(num_qubits, num_layers_list, cm)"
   ]
  },
  {
   "cell_type": "code",
   "execution_count": null,
   "metadata": {},
   "outputs": [],
   "source": []
  }
 ],
 "metadata": {
  "kernelspec": {
   "display_name": "qiskit-sabre",
   "language": "python",
   "name": "python3"
  },
  "language_info": {
   "codemirror_mode": {
    "name": "ipython",
    "version": 3
   },
   "file_extension": ".py",
   "mimetype": "text/x-python",
   "name": "python",
   "nbconvert_exporter": "python",
   "pygments_lexer": "ipython3",
   "version": "3.11.4"
  }
 },
 "nbformat": 4,
 "nbformat_minor": 2
}
