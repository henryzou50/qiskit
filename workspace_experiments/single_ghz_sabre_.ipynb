{
 "cells": [
  {
   "cell_type": "code",
   "execution_count": 1,
   "metadata": {},
   "outputs": [],
   "source": [
    "from experiment_setup.pass_managers import run_experiment\n",
    "from experiment_setup.circuits.circuit_files import get_circuits_from_directory\n",
    "from experiment_setup.coupling_maps.coupling_maps_files import file_to_coupling_map"
   ]
  },
  {
   "cell_type": "code",
   "execution_count": 2,
   "metadata": {},
   "outputs": [],
   "source": [
    "# Parameters to change\n",
    "circuit = \"ghz_25\"\n",
    "rp_str  = \"sabre_v0_20_\"\n",
    "lp_str  = \"fast_layout\"\n",
    "cp_str  = \"heavy_hex_027\""
   ]
  },
  {
   "cell_type": "code",
   "execution_count": 3,
   "metadata": {},
   "outputs": [],
   "source": [
    "path = f\"results/{circuit}/{rp_str}.csv\"\n",
    "cm_filename = f\"experiment_setup/coupling_maps/{cp_str}.txt\"\n",
    "\n",
    "qc_list_directory = f\"experiment_setup/circuits/{circuit}/\"\n",
    "qc_list = get_circuits_from_directory(qc_list_directory)\n",
    "cm = file_to_coupling_map(cm_filename)"
   ]
  },
  {
   "cell_type": "code",
   "execution_count": 4,
   "metadata": {},
   "outputs": [
    {
     "name": "stdout",
     "output_type": "stream",
     "text": [
      "Using seed 42 for routing pass.\n",
      "    Building Sabre v0.20 routing pass\n",
      "        Using seed 42 and max iterations 1 for layout pass.\n",
      "            Building Fast layout pass\n",
      "Finished: 0 out of 1 with depth 119 and time 0.0346980094909668\n"
     ]
    }
   ],
   "source": [
    "data = run_experiment(path, qc_list, rp_str, lp_str, cm, num_pm=1)"
   ]
  },
  {
   "cell_type": "code",
   "execution_count": 5,
   "metadata": {},
   "outputs": [
    {
     "name": "stdout",
     "output_type": "stream",
     "text": [
      "Using seed 42 for routing pass.\n",
      "    Building Sabre v0.20 extended routing pass\n",
      "        Using seed 42 and max iterations 1 for layout pass.\n",
      "            Building Fast layout pass\n",
      "Finished: 0 out of 1 with depth 120 and time 0.01287388801574707\n"
     ]
    }
   ],
   "source": [
    "rp_str  = \"sabre_v0_20_extended\"\n",
    "path = f\"results/{circuit}/{rp_str}.csv\"\n",
    "data = run_experiment(path, qc_list, rp_str, lp_str, cm, num_pm=1)"
   ]
  },
  {
   "cell_type": "code",
   "execution_count": 6,
   "metadata": {},
   "outputs": [
    {
     "name": "stdout",
     "output_type": "stream",
     "text": [
      "Using seed 42 for routing pass.\n",
      "    Building Sabre v0.20 depth routing pass\n",
      "        Using seed 42 and max iterations 1 for layout pass.\n",
      "            Building Fast layout pass\n",
      "Finished: 0 out of 1 with depth 88 and time 0.011593818664550781\n"
     ]
    }
   ],
   "source": [
    "rp_str  = \"sabre_v0_20_depth\"\n",
    "path = f\"results/{circuit}/{rp_str}.csv\"\n",
    "data = run_experiment(path, qc_list, rp_str, lp_str, cm, num_pm=1)"
   ]
  },
  {
   "cell_type": "code",
   "execution_count": null,
   "metadata": {},
   "outputs": [],
   "source": []
  }
 ],
 "metadata": {
  "kernelspec": {
   "display_name": "qiskit-sabre",
   "language": "python",
   "name": "python3"
  },
  "language_info": {
   "codemirror_mode": {
    "name": "ipython",
    "version": 3
   },
   "file_extension": ".py",
   "mimetype": "text/x-python",
   "name": "python",
   "nbconvert_exporter": "python",
   "pygments_lexer": "ipython3",
   "version": "3.11.4"
  }
 },
 "nbformat": 4,
 "nbformat_minor": 2
}
