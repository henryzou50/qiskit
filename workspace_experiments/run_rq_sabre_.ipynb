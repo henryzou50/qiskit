{
 "cells": [
  {
   "cell_type": "code",
   "execution_count": 7,
   "metadata": {},
   "outputs": [],
   "source": [
    "from experiment_setup.pass_managers import run_experiment\n",
    "from experiment_setup.circuits.circuit_files import get_circuits_from_directory\n",
    "from experiment_setup.coupling_maps.coupling_maps_files import file_to_coupling_map"
   ]
  },
  {
   "cell_type": "code",
   "execution_count": 8,
   "metadata": {},
   "outputs": [],
   "source": [
    "# Parameters to change\n",
    "circuit = \"red_queen_small\"\n",
    "rp_str  = \"sabre_v0_20_\"\n",
    "lp_str  = \"sabre_layout\"\n",
    "cp_str  = \"heavy_hex_127\"\n",
    "\n",
    "num_pm = 1"
   ]
  },
  {
   "cell_type": "code",
   "execution_count": 9,
   "metadata": {},
   "outputs": [],
   "source": [
    "path = f\"results/{circuit}/{rp_str}.csv\"\n",
    "cm_filename = f\"experiment_setup/coupling_maps/{cp_str}.txt\"\n",
    "\n",
    "qc_list_directory = f\"experiment_setup/circuits/{circuit}/\"\n",
    "qc_list = get_circuits_from_directory(qc_list_directory)\n",
    "cm = file_to_coupling_map(cm_filename)\n",
    "\n",
    "# decompose each circuit\n",
    "qc_list_decomposed = []\n",
    "for qc in qc_list:\n",
    "    qc_decomposed = qc.decompose().decompose()\n",
    "    qc_list_decomposed.append(qc_decomposed)\n"
   ]
  },
  {
   "cell_type": "code",
   "execution_count": 10,
   "metadata": {},
   "outputs": [
    {
     "name": "stdout",
     "output_type": "stream",
     "text": [
      "84\n",
      "40\n",
      "65\n",
      "96\n",
      "96\n",
      "246\n",
      "84\n",
      "252\n",
      "52\n",
      "192\n"
     ]
    }
   ],
   "source": [
    "# print the number of cx gates in each circuit\n",
    "for qc in qc_list_decomposed:\n",
    "    print(qc.count_ops()['cx'])"
   ]
  },
  {
   "cell_type": "code",
   "execution_count": 4,
   "metadata": {},
   "outputs": [
    {
     "name": "stdout",
     "output_type": "stream",
     "text": [
      "Using seed 42 for routing pass.\n",
      "    Building Sabre v0.20 routing pass\n",
      "        Using seed 42 and max iterations 1 for layout pass.\n",
      "            Building Fast layout pass\n",
      "Finished: 0 out of 10 with depth 239 and time 0.037781715393066406\n",
      "Finished: 1 out of 10 with depth 92 and time 0.016666889190673828\n",
      "Finished: 2 out of 10 with depth 128 and time 0.04349017143249512\n",
      "Finished: 3 out of 10 with depth 194 and time 0.030833005905151367\n",
      "Finished: 4 out of 10 with depth 194 and time 0.03134512901306152\n",
      "Finished: 5 out of 10 with depth 460 and time 0.07906293869018555\n",
      "Finished: 6 out of 10 with depth 130 and time 0.029232263565063477\n",
      "Finished: 7 out of 10 with depth 640 and time 0.0882420539855957\n",
      "Finished: 8 out of 10 with depth 135 and time 0.032694101333618164\n",
      "Finished: 9 out of 10 with depth 96 and time 0.10900306701660156\n"
     ]
    }
   ],
   "source": [
    "data = run_experiment(path, qc_list_decomposed, rp_str, lp_str, cm, num_pm=num_pm)"
   ]
  },
  {
   "cell_type": "code",
   "execution_count": 5,
   "metadata": {},
   "outputs": [
    {
     "name": "stdout",
     "output_type": "stream",
     "text": [
      "Using seed 42 for routing pass.\n",
      "    Building Sabre v0.20 extended routing pass\n",
      "        Using seed 42 and max iterations 1 for layout pass.\n",
      "            Building Fast layout pass\n",
      "Finished: 0 out of 10 with depth 207 and time 0.0369260311126709\n",
      "Finished: 1 out of 10 with depth 84 and time 0.017562150955200195\n",
      "Finished: 2 out of 10 with depth 122 and time 0.019607067108154297\n",
      "Finished: 3 out of 10 with depth 200 and time 0.030900955200195312\n",
      "Finished: 4 out of 10 with depth 200 and time 0.030431032180786133\n",
      "Finished: 5 out of 10 with depth 359 and time 0.07809090614318848\n",
      "Finished: 6 out of 10 with depth 114 and time 0.02946925163269043\n",
      "Finished: 7 out of 10 with depth 558 and time 0.11524200439453125\n",
      "Finished: 8 out of 10 with depth 108 and time 0.03243112564086914\n",
      "Finished: 9 out of 10 with depth 96 and time 0.08209109306335449\n"
     ]
    }
   ],
   "source": [
    "rp_str  = \"sabre_v0_20_extended\"\n",
    "path = f\"results/{circuit}/{rp_str}.csv\"\n",
    "data = run_experiment(path, qc_list_decomposed, rp_str, lp_str, cm, num_pm=num_pm)"
   ]
  },
  {
   "cell_type": "code",
   "execution_count": 6,
   "metadata": {},
   "outputs": [
    {
     "name": "stdout",
     "output_type": "stream",
     "text": [
      "Using seed 42 for routing pass.\n",
      "    Building Sabre v0.20 depth routing pass\n",
      "        Using seed 42 and max iterations 1 for layout pass.\n",
      "            Building Fast layout pass\n",
      "Finished: 0 out of 10 with depth 300 and time 0.03626203536987305\n",
      "Finished: 1 out of 10 with depth 98 and time 0.017852306365966797\n",
      "Finished: 2 out of 10 with depth 176 and time 0.020451784133911133\n",
      "Finished: 3 out of 10 with depth 139 and time 0.03150296211242676\n",
      "Finished: 4 out of 10 with depth 139 and time 0.0317990779876709\n",
      "Finished: 5 out of 10 with depth 436 and time 0.08209514617919922\n",
      "Finished: 6 out of 10 with depth 178 and time 0.031494140625\n",
      "Finished: 7 out of 10 with depth 625 and time 0.08780789375305176\n",
      "Finished: 8 out of 10 with depth 114 and time 0.03340315818786621\n",
      "Finished: 9 out of 10 with depth 123 and time 0.11047101020812988\n"
     ]
    }
   ],
   "source": [
    "rp_str  = \"sabre_v0_20_depth\"\n",
    "path = f\"results/{circuit}/{rp_str}.csv\"\n",
    "data = run_experiment(path, qc_list_decomposed, rp_str, lp_str, cm, num_pm=num_pm)"
   ]
  }
 ],
 "metadata": {
  "kernelspec": {
   "display_name": "qiskit-sabre",
   "language": "python",
   "name": "python3"
  },
  "language_info": {
   "codemirror_mode": {
    "name": "ipython",
    "version": 3
   },
   "file_extension": ".py",
   "mimetype": "text/x-python",
   "name": "python",
   "nbconvert_exporter": "python",
   "pygments_lexer": "ipython3",
   "version": "3.11.4"
  }
 },
 "nbformat": 4,
 "nbformat_minor": 2
}
