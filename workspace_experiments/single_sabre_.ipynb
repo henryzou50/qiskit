{
 "cells": [
  {
   "cell_type": "code",
   "execution_count": 1,
   "metadata": {},
   "outputs": [],
   "source": [
    "from experiment_setup.pass_managers import run_beam_experiment\n",
    "from experiment_setup.circuits.circuit_files import get_circuits_from_directory\n",
    "from experiment_setup.coupling_maps.coupling_maps_files import file_to_coupling_map"
   ]
  },
  {
   "cell_type": "code",
   "execution_count": 2,
   "metadata": {},
   "outputs": [],
   "source": [
    "# Parameters to change\n",
    "circuit = \"red_queen_small\"\n",
    "rp_str  = \"sabre_v0_20_\"\n",
    "lp_str  = \"fast_layout\"\n",
    "cp_str  = \"heavy_hex_027\"\n",
    "\n",
    "beam_list = [1]"
   ]
  },
  {
   "cell_type": "code",
   "execution_count": 3,
   "metadata": {},
   "outputs": [],
   "source": [
    "path = f\"results/{circuit}/{rp_str}.csv\"\n",
    "cm_filename = f\"experiment_setup/coupling_maps/{cp_str}.txt\"\n",
    "\n",
    "qc_list_directory = f\"experiment_setup/circuits/{circuit}/\"\n",
    "qc_list = get_circuits_from_directory(qc_list_directory)\n",
    "cm = file_to_coupling_map(cm_filename)\n",
    "\n",
    "# decompose each circuit\n",
    "qc_list_decomposed = []\n",
    "for qc in qc_list:\n",
    "    qc_decomposed = qc.decompose().decompose()\n",
    "    qc_list_decomposed.append(qc_decomposed)"
   ]
  },
  {
   "cell_type": "code",
   "execution_count": 4,
   "metadata": {},
   "outputs": [
    {
     "name": "stdout",
     "output_type": "stream",
     "text": [
      "Using seed 42 for routing pass.\n",
      "    Building Sabre v0.20 routing pass\n",
      "        Using seed 42 and max iterations 1 for layout pass.\n",
      "            Building Fast layout pass\n",
      "Finished: 0 out of 1 with depth 239 and time 0.0367581844329834, for qc 1\n",
      "Using seed 42 for routing pass.\n",
      "    Building Sabre v0.20 routing pass\n",
      "        Using seed 42 and max iterations 1 for layout pass.\n",
      "            Building Fast layout pass\n",
      "Finished: 1 out of 1 with depth 92 and time 0.017325878143310547, for qc 2\n",
      "Using seed 42 for routing pass.\n",
      "    Building Sabre v0.20 routing pass\n",
      "        Using seed 42 and max iterations 1 for layout pass.\n",
      "            Building Fast layout pass\n",
      "Finished: 2 out of 1 with depth 128 and time 0.04427909851074219, for qc 3\n",
      "Using seed 42 for routing pass.\n",
      "    Building Sabre v0.20 routing pass\n",
      "        Using seed 42 and max iterations 1 for layout pass.\n",
      "            Building Fast layout pass\n",
      "Finished: 3 out of 1 with depth 194 and time 0.030535221099853516, for qc 4\n",
      "Using seed 42 for routing pass.\n",
      "    Building Sabre v0.20 routing pass\n",
      "        Using seed 42 and max iterations 1 for layout pass.\n",
      "            Building Fast layout pass\n",
      "Finished: 4 out of 1 with depth 194 and time 0.03087306022644043, for qc 5\n",
      "Using seed 42 for routing pass.\n",
      "    Building Sabre v0.20 routing pass\n",
      "        Using seed 42 and max iterations 1 for layout pass.\n",
      "            Building Fast layout pass\n",
      "Finished: 5 out of 1 with depth 460 and time 0.07894301414489746, for qc 6\n",
      "Using seed 42 for routing pass.\n",
      "    Building Sabre v0.20 routing pass\n",
      "        Using seed 42 and max iterations 1 for layout pass.\n",
      "            Building Fast layout pass\n",
      "Finished: 6 out of 1 with depth 130 and time 0.029194116592407227, for qc 7\n",
      "Using seed 42 for routing pass.\n",
      "    Building Sabre v0.20 routing pass\n",
      "        Using seed 42 and max iterations 1 for layout pass.\n",
      "            Building Fast layout pass\n",
      "Finished: 7 out of 1 with depth 640 and time 0.08579206466674805, for qc 8\n",
      "Using seed 42 for routing pass.\n",
      "    Building Sabre v0.20 routing pass\n",
      "        Using seed 42 and max iterations 1 for layout pass.\n",
      "            Building Fast layout pass\n",
      "Finished: 8 out of 1 with depth 135 and time 0.0320887565612793, for qc 9\n",
      "Using seed 42 for routing pass.\n",
      "    Building Sabre v0.20 routing pass\n",
      "        Using seed 42 and max iterations 1 for layout pass.\n",
      "            Building Fast layout pass\n",
      "Finished: 9 out of 1 with depth 96 and time 0.11390304565429688, for qc 10\n"
     ]
    }
   ],
   "source": [
    "data = run_beam_experiment(path, qc_list_decomposed, rp_str, lp_str, cm, beam_list)"
   ]
  },
  {
   "cell_type": "code",
   "execution_count": 5,
   "metadata": {},
   "outputs": [
    {
     "name": "stdout",
     "output_type": "stream",
     "text": [
      "Using seed 42 for routing pass.\n",
      "    Building Sabre v0.20 extended routing pass\n",
      "        Using seed 42 and max iterations 1 for layout pass.\n",
      "            Building Fast layout pass\n",
      "Finished: 0 out of 1 with depth 207 and time 0.03525829315185547, for qc 1\n",
      "Using seed 42 for routing pass.\n",
      "    Building Sabre v0.20 extended routing pass\n",
      "        Using seed 42 and max iterations 1 for layout pass.\n",
      "            Building Fast layout pass\n",
      "Finished: 1 out of 1 with depth 84 and time 0.01655292510986328, for qc 2\n",
      "Using seed 42 for routing pass.\n",
      "    Building Sabre v0.20 extended routing pass\n",
      "        Using seed 42 and max iterations 1 for layout pass.\n",
      "            Building Fast layout pass\n",
      "Finished: 2 out of 1 with depth 122 and time 0.01900005340576172, for qc 3\n",
      "Using seed 42 for routing pass.\n",
      "    Building Sabre v0.20 extended routing pass\n",
      "        Using seed 42 and max iterations 1 for layout pass.\n",
      "            Building Fast layout pass\n",
      "Finished: 3 out of 1 with depth 200 and time 0.030897140502929688, for qc 4\n",
      "Using seed 42 for routing pass.\n",
      "    Building Sabre v0.20 extended routing pass\n",
      "        Using seed 42 and max iterations 1 for layout pass.\n",
      "            Building Fast layout pass\n",
      "Finished: 4 out of 1 with depth 200 and time 0.030961036682128906, for qc 5\n",
      "Using seed 42 for routing pass.\n",
      "    Building Sabre v0.20 extended routing pass\n",
      "        Using seed 42 and max iterations 1 for layout pass.\n",
      "            Building Fast layout pass\n",
      "Finished: 5 out of 1 with depth 359 and time 0.08016610145568848, for qc 6\n",
      "Using seed 42 for routing pass.\n",
      "    Building Sabre v0.20 extended routing pass\n",
      "        Using seed 42 and max iterations 1 for layout pass.\n",
      "            Building Fast layout pass\n",
      "Finished: 6 out of 1 with depth 114 and time 0.030675888061523438, for qc 7\n",
      "Using seed 42 for routing pass.\n",
      "    Building Sabre v0.20 extended routing pass\n",
      "        Using seed 42 and max iterations 1 for layout pass.\n",
      "            Building Fast layout pass\n",
      "Finished: 7 out of 1 with depth 558 and time 0.11373114585876465, for qc 8\n",
      "Using seed 42 for routing pass.\n",
      "    Building Sabre v0.20 extended routing pass\n",
      "        Using seed 42 and max iterations 1 for layout pass.\n",
      "            Building Fast layout pass\n",
      "Finished: 8 out of 1 with depth 108 and time 0.0335230827331543, for qc 9\n",
      "Using seed 42 for routing pass.\n",
      "    Building Sabre v0.20 extended routing pass\n",
      "        Using seed 42 and max iterations 1 for layout pass.\n",
      "            Building Fast layout pass\n",
      "Finished: 9 out of 1 with depth 96 and time 0.08798384666442871, for qc 10\n"
     ]
    }
   ],
   "source": [
    "rp_str  = \"sabre_v0_20_extended\"\n",
    "path = f\"results/{circuit}/{rp_str}.csv\"\n",
    "data = run_beam_experiment(path, qc_list_decomposed, rp_str, lp_str, cm, beam_list)"
   ]
  },
  {
   "cell_type": "code",
   "execution_count": 6,
   "metadata": {},
   "outputs": [
    {
     "name": "stdout",
     "output_type": "stream",
     "text": [
      "Using seed 42 for routing pass.\n",
      "    Building Sabre v0.20 depth routing pass\n",
      "        Using seed 42 and max iterations 1 for layout pass.\n",
      "            Building Fast layout pass\n",
      "Finished: 0 out of 1 with depth 300 and time 0.037847042083740234, for qc 1\n",
      "Using seed 42 for routing pass.\n",
      "    Building Sabre v0.20 depth routing pass\n",
      "        Using seed 42 and max iterations 1 for layout pass.\n",
      "            Building Fast layout pass\n",
      "Finished: 1 out of 1 with depth 98 and time 0.01809096336364746, for qc 2\n",
      "Using seed 42 for routing pass.\n",
      "    Building Sabre v0.20 depth routing pass\n",
      "        Using seed 42 and max iterations 1 for layout pass.\n",
      "            Building Fast layout pass\n",
      "Finished: 2 out of 1 with depth 176 and time 0.020405292510986328, for qc 3\n",
      "Using seed 42 for routing pass.\n",
      "    Building Sabre v0.20 depth routing pass\n",
      "        Using seed 42 and max iterations 1 for layout pass.\n",
      "            Building Fast layout pass\n",
      "Finished: 3 out of 1 with depth 139 and time 0.0583040714263916, for qc 4\n",
      "Using seed 42 for routing pass.\n",
      "    Building Sabre v0.20 depth routing pass\n",
      "        Using seed 42 and max iterations 1 for layout pass.\n",
      "            Building Fast layout pass\n",
      "Finished: 4 out of 1 with depth 139 and time 0.030966997146606445, for qc 5\n",
      "Using seed 42 for routing pass.\n",
      "    Building Sabre v0.20 depth routing pass\n",
      "        Using seed 42 and max iterations 1 for layout pass.\n",
      "            Building Fast layout pass\n",
      "Finished: 5 out of 1 with depth 436 and time 0.08202290534973145, for qc 6\n",
      "Using seed 42 for routing pass.\n",
      "    Building Sabre v0.20 depth routing pass\n",
      "        Using seed 42 and max iterations 1 for layout pass.\n",
      "            Building Fast layout pass\n",
      "Finished: 6 out of 1 with depth 178 and time 0.0315089225769043, for qc 7\n",
      "Using seed 42 for routing pass.\n",
      "    Building Sabre v0.20 depth routing pass\n",
      "        Using seed 42 and max iterations 1 for layout pass.\n",
      "            Building Fast layout pass\n",
      "Finished: 7 out of 1 with depth 625 and time 0.0884711742401123, for qc 8\n",
      "Using seed 42 for routing pass.\n",
      "    Building Sabre v0.20 depth routing pass\n",
      "        Using seed 42 and max iterations 1 for layout pass.\n",
      "            Building Fast layout pass\n",
      "Finished: 8 out of 1 with depth 114 and time 0.03253006935119629, for qc 9\n",
      "Using seed 42 for routing pass.\n",
      "    Building Sabre v0.20 depth routing pass\n",
      "        Using seed 42 and max iterations 1 for layout pass.\n",
      "            Building Fast layout pass\n",
      "Finished: 9 out of 1 with depth 123 and time 0.1264200210571289, for qc 10\n"
     ]
    }
   ],
   "source": [
    "rp_str  = \"sabre_v0_20_depth\"\n",
    "path = f\"results/{circuit}/{rp_str}.csv\"\n",
    "data = run_beam_experiment(path, qc_list_decomposed, rp_str, lp_str, cm, beam_list)"
   ]
  },
  {
   "cell_type": "code",
   "execution_count": null,
   "metadata": {},
   "outputs": [],
   "source": []
  }
 ],
 "metadata": {
  "kernelspec": {
   "display_name": "qiskit-sabre",
   "language": "python",
   "name": "python3"
  },
  "language_info": {
   "codemirror_mode": {
    "name": "ipython",
    "version": 3
   },
   "file_extension": ".py",
   "mimetype": "text/x-python",
   "name": "python",
   "nbconvert_exporter": "python",
   "pygments_lexer": "ipython3",
   "version": "3.11.4"
  }
 },
 "nbformat": 4,
 "nbformat_minor": 2
}
