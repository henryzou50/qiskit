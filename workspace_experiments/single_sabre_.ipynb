{
 "cells": [
  {
   "cell_type": "code",
   "execution_count": 31,
   "metadata": {},
   "outputs": [],
   "source": [
    "from experiment_setup.pass_managers import run_beam_experiment\n",
    "from experiment_setup.circuits.circuit_files import get_circuits_from_directory\n",
    "from experiment_setup.coupling_maps.coupling_maps_files import file_to_coupling_map"
   ]
  },
  {
   "cell_type": "code",
   "execution_count": 32,
   "metadata": {},
   "outputs": [],
   "source": [
    "# Parameters to change\n",
    "circuit = \"red_queen_small\"\n",
    "rp_str  = \"sabre_v0_20_\"\n",
    "lp_str  = \"fast_layout\"\n",
    "cp_str  = \"heavy_hex_027\"\n",
    "\n",
    "beam_list = [1]"
   ]
  },
  {
   "cell_type": "code",
   "execution_count": 33,
   "metadata": {},
   "outputs": [
    {
     "name": "stdout",
     "output_type": "stream",
     "text": [
      "2. grover.qasm\n",
      "3. multiply_n13.qasm\n",
      "4. adder_n10.qasm\n",
      "5. knn_n25.qasm\n",
      "6. swap_test_n25.qasm\n",
      "7. cat_state_n22.qasm\n",
      "8. multiplier_n15.qasm\n",
      "9. seca_n11.qasm\n",
      "10. sat_n11.qasm\n",
      "11. wstate_n27.qasm\n",
      "12. dnn_n8.qasm\n"
     ]
    }
   ],
   "source": [
    "path = f\"results/{circuit}/{rp_str}.csv\"\n",
    "cm_filename = f\"experiment_setup/coupling_maps/{cp_str}.txt\"\n",
    "\n",
    "qc_list_directory = f\"experiment_setup/circuits/{circuit}/\"\n",
    "qc_list = get_circuits_from_directory(qc_list_directory)\n",
    "cm = file_to_coupling_map(cm_filename)\n",
    "\n",
    "# decompose each circuit\n",
    "qc_list_decomposed = []\n",
    "for qc in qc_list:\n",
    "    qc_decomposed = qc.decompose().decompose()\n",
    "    qc_list_decomposed.append(qc_decomposed)"
   ]
  },
  {
   "cell_type": "code",
   "execution_count": 34,
   "metadata": {},
   "outputs": [
    {
     "name": "stdout",
     "output_type": "stream",
     "text": [
      "Using seed 42 for routing pass.\n",
      "    Building Sabre v0.20 routing pass\n",
      "        Using seed 42 and max iterations 1 for layout pass.\n",
      "            Building Fast layout pass\n",
      "Finished: 0 out of 1 with depth 239 and time 0.035797119140625, for qc 1\n",
      "Using seed 42 for routing pass.\n",
      "    Building Sabre v0.20 routing pass\n",
      "        Using seed 42 and max iterations 1 for layout pass.\n",
      "            Building Fast layout pass\n",
      "Finished: 1 out of 1 with depth 92 and time 0.016510009765625, for qc 2\n",
      "Using seed 42 for routing pass.\n",
      "    Building Sabre v0.20 routing pass\n",
      "        Using seed 42 and max iterations 1 for layout pass.\n",
      "            Building Fast layout pass\n",
      "Finished: 2 out of 1 with depth 128 and time 0.018231868743896484, for qc 3\n",
      "Using seed 42 for routing pass.\n",
      "    Building Sabre v0.20 routing pass\n",
      "        Using seed 42 and max iterations 1 for layout pass.\n",
      "            Building Fast layout pass\n",
      "Finished: 3 out of 1 with depth 194 and time 0.027712106704711914, for qc 4\n",
      "Using seed 42 for routing pass.\n",
      "    Building Sabre v0.20 routing pass\n",
      "        Using seed 42 and max iterations 1 for layout pass.\n",
      "            Building Fast layout pass\n",
      "Finished: 4 out of 1 with depth 194 and time 0.029654979705810547, for qc 5\n",
      "Using seed 42 for routing pass.\n",
      "    Building Sabre v0.20 routing pass\n",
      "        Using seed 42 and max iterations 1 for layout pass.\n",
      "            Building Fast layout pass\n",
      "Finished: 5 out of 1 with depth 82 and time 0.011641263961791992, for qc 6\n",
      "Using seed 42 for routing pass.\n",
      "    Building Sabre v0.20 routing pass\n",
      "        Using seed 42 and max iterations 1 for layout pass.\n",
      "            Building Fast layout pass\n",
      "Finished: 6 out of 1 with depth 460 and time 0.07589077949523926, for qc 7\n",
      "Using seed 42 for routing pass.\n",
      "    Building Sabre v0.20 routing pass\n",
      "        Using seed 42 and max iterations 1 for layout pass.\n",
      "            Building Fast layout pass\n",
      "Finished: 7 out of 1 with depth 130 and time 0.03353595733642578, for qc 8\n",
      "Using seed 42 for routing pass.\n",
      "    Building Sabre v0.20 routing pass\n",
      "        Using seed 42 and max iterations 1 for layout pass.\n",
      "            Building Fast layout pass\n",
      "Finished: 8 out of 1 with depth 640 and time 0.08640527725219727, for qc 9\n",
      "Using seed 42 for routing pass.\n",
      "    Building Sabre v0.20 routing pass\n",
      "        Using seed 42 and max iterations 1 for layout pass.\n",
      "            Building Fast layout pass\n",
      "Finished: 9 out of 1 with depth 135 and time 0.03164482116699219, for qc 10\n",
      "Using seed 42 for routing pass.\n",
      "    Building Sabre v0.20 routing pass\n",
      "        Using seed 42 and max iterations 1 for layout pass.\n",
      "            Building Fast layout pass\n",
      "Finished: 10 out of 1 with depth 96 and time 0.07716798782348633, for qc 11\n"
     ]
    }
   ],
   "source": [
    "data = run_beam_experiment(path, qc_list_decomposed, rp_str, lp_str, cm, beam_list)"
   ]
  },
  {
   "cell_type": "code",
   "execution_count": 35,
   "metadata": {},
   "outputs": [
    {
     "name": "stdout",
     "output_type": "stream",
     "text": [
      "Using seed 42 for routing pass.\n",
      "    Building Sabre v0.20 extended routing pass\n",
      "        Using seed 42 and max iterations 1 for layout pass.\n",
      "            Building Fast layout pass\n",
      "Finished: 0 out of 1 with depth 207 and time 0.0612187385559082, for qc 1\n",
      "Using seed 42 for routing pass.\n",
      "    Building Sabre v0.20 extended routing pass\n",
      "        Using seed 42 and max iterations 1 for layout pass.\n",
      "            Building Fast layout pass\n",
      "Finished: 1 out of 1 with depth 84 and time 0.015453338623046875, for qc 2\n",
      "Using seed 42 for routing pass.\n",
      "    Building Sabre v0.20 extended routing pass\n",
      "        Using seed 42 and max iterations 1 for layout pass.\n",
      "            Building Fast layout pass\n",
      "Finished: 2 out of 1 with depth 122 and time 0.018347978591918945, for qc 3\n",
      "Using seed 42 for routing pass.\n",
      "    Building Sabre v0.20 extended routing pass\n",
      "        Using seed 42 and max iterations 1 for layout pass.\n",
      "            Building Fast layout pass\n",
      "Finished: 3 out of 1 with depth 200 and time 0.028423786163330078, for qc 4\n",
      "Using seed 42 for routing pass.\n",
      "    Building Sabre v0.20 extended routing pass\n",
      "        Using seed 42 and max iterations 1 for layout pass.\n",
      "            Building Fast layout pass\n",
      "Finished: 4 out of 1 with depth 200 and time 0.028223037719726562, for qc 5\n",
      "Using seed 42 for routing pass.\n",
      "    Building Sabre v0.20 extended routing pass\n",
      "        Using seed 42 and max iterations 1 for layout pass.\n",
      "            Building Fast layout pass\n",
      "Finished: 5 out of 1 with depth 77 and time 0.010606050491333008, for qc 6\n",
      "Using seed 42 for routing pass.\n",
      "    Building Sabre v0.20 extended routing pass\n",
      "        Using seed 42 and max iterations 1 for layout pass.\n",
      "            Building Fast layout pass\n",
      "Finished: 6 out of 1 with depth 359 and time 0.07367110252380371, for qc 7\n",
      "Using seed 42 for routing pass.\n",
      "    Building Sabre v0.20 extended routing pass\n",
      "        Using seed 42 and max iterations 1 for layout pass.\n",
      "            Building Fast layout pass\n",
      "Finished: 7 out of 1 with depth 114 and time 0.02763199806213379, for qc 8\n",
      "Using seed 42 for routing pass.\n",
      "    Building Sabre v0.20 extended routing pass\n",
      "        Using seed 42 and max iterations 1 for layout pass.\n",
      "            Building Fast layout pass\n",
      "Finished: 8 out of 1 with depth 558 and time 0.08085799217224121, for qc 9\n",
      "Using seed 42 for routing pass.\n",
      "    Building Sabre v0.20 extended routing pass\n",
      "        Using seed 42 and max iterations 1 for layout pass.\n",
      "            Building Fast layout pass\n",
      "Finished: 9 out of 1 with depth 108 and time 0.05454397201538086, for qc 10\n",
      "Using seed 42 for routing pass.\n",
      "    Building Sabre v0.20 extended routing pass\n",
      "        Using seed 42 and max iterations 1 for layout pass.\n",
      "            Building Fast layout pass\n",
      "Finished: 10 out of 1 with depth 96 and time 0.07826471328735352, for qc 11\n"
     ]
    }
   ],
   "source": [
    "rp_str  = \"sabre_v0_20_extended\"\n",
    "path = f\"results/{circuit}/{rp_str}.csv\"\n",
    "data = run_beam_experiment(path, qc_list_decomposed, rp_str, lp_str, cm, beam_list)"
   ]
  },
  {
   "cell_type": "code",
   "execution_count": 36,
   "metadata": {},
   "outputs": [
    {
     "name": "stdout",
     "output_type": "stream",
     "text": [
      "Using seed 42 for routing pass.\n",
      "    Building Sabre v0.20 depth routing pass\n",
      "        Using seed 42 and max iterations 1 for layout pass.\n",
      "            Building Fast layout pass\n",
      "Finished: 0 out of 1 with depth 300 and time 0.03471708297729492, for qc 1\n",
      "Using seed 42 for routing pass.\n",
      "    Building Sabre v0.20 depth routing pass\n",
      "        Using seed 42 and max iterations 1 for layout pass.\n",
      "            Building Fast layout pass\n",
      "Finished: 1 out of 1 with depth 98 and time 0.01771712303161621, for qc 2\n",
      "Using seed 42 for routing pass.\n",
      "    Building Sabre v0.20 depth routing pass\n",
      "        Using seed 42 and max iterations 1 for layout pass.\n",
      "            Building Fast layout pass\n",
      "Finished: 2 out of 1 with depth 176 and time 0.019342899322509766, for qc 3\n",
      "Using seed 42 for routing pass.\n",
      "    Building Sabre v0.20 depth routing pass\n",
      "        Using seed 42 and max iterations 1 for layout pass.\n",
      "            Building Fast layout pass\n",
      "Finished: 3 out of 1 with depth 139 and time 0.029230833053588867, for qc 4\n",
      "Using seed 42 for routing pass.\n",
      "    Building Sabre v0.20 depth routing pass\n",
      "        Using seed 42 and max iterations 1 for layout pass.\n",
      "            Building Fast layout pass\n",
      "Finished: 4 out of 1 with depth 139 and time 0.028805255889892578, for qc 5\n",
      "Using seed 42 for routing pass.\n",
      "    Building Sabre v0.20 depth routing pass\n",
      "        Using seed 42 and max iterations 1 for layout pass.\n",
      "            Building Fast layout pass\n",
      "Finished: 5 out of 1 with depth 59 and time 0.013782024383544922, for qc 6\n",
      "Using seed 42 for routing pass.\n",
      "    Building Sabre v0.20 depth routing pass\n",
      "        Using seed 42 and max iterations 1 for layout pass.\n",
      "            Building Fast layout pass\n",
      "Finished: 6 out of 1 with depth 436 and time 0.1000070571899414, for qc 7\n",
      "Using seed 42 for routing pass.\n",
      "    Building Sabre v0.20 depth routing pass\n",
      "        Using seed 42 and max iterations 1 for layout pass.\n",
      "            Building Fast layout pass\n",
      "Finished: 7 out of 1 with depth 178 and time 0.029513120651245117, for qc 8\n",
      "Using seed 42 for routing pass.\n",
      "    Building Sabre v0.20 depth routing pass\n",
      "        Using seed 42 and max iterations 1 for layout pass.\n",
      "            Building Fast layout pass\n",
      "Finished: 8 out of 1 with depth 625 and time 0.08032393455505371, for qc 9\n",
      "Using seed 42 for routing pass.\n",
      "    Building Sabre v0.20 depth routing pass\n",
      "        Using seed 42 and max iterations 1 for layout pass.\n",
      "            Building Fast layout pass\n",
      "Finished: 9 out of 1 with depth 114 and time 0.03028392791748047, for qc 10\n",
      "Using seed 42 for routing pass.\n",
      "    Building Sabre v0.20 depth routing pass\n",
      "        Using seed 42 and max iterations 1 for layout pass.\n",
      "            Building Fast layout pass\n",
      "Finished: 10 out of 1 with depth 123 and time 0.10013079643249512, for qc 11\n"
     ]
    }
   ],
   "source": [
    "rp_str  = \"sabre_v0_20_depth\"\n",
    "path = f\"results/{circuit}/{rp_str}.csv\"\n",
    "data = run_beam_experiment(path, qc_list_decomposed, rp_str, lp_str, cm, beam_list)"
   ]
  },
  {
   "cell_type": "code",
   "execution_count": null,
   "metadata": {},
   "outputs": [],
   "source": []
  }
 ],
 "metadata": {
  "kernelspec": {
   "display_name": "qiskit-sabre",
   "language": "python",
   "name": "python3"
  },
  "language_info": {
   "codemirror_mode": {
    "name": "ipython",
    "version": 3
   },
   "file_extension": ".py",
   "mimetype": "text/x-python",
   "name": "python",
   "nbconvert_exporter": "python",
   "pygments_lexer": "ipython3",
   "version": "3.11.4"
  }
 },
 "nbformat": 4,
 "nbformat_minor": 2
}
