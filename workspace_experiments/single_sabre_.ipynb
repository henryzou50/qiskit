{
 "cells": [
  {
   "cell_type": "code",
   "execution_count": 1,
   "metadata": {},
   "outputs": [],
   "source": [
    "from experiment_setup.pass_managers import run_beam_experiment\n",
    "from experiment_setup.circuits.circuit_files import get_circuits_from_directory\n",
    "from experiment_setup.coupling_maps.coupling_maps_files import file_to_coupling_map"
   ]
  },
  {
   "cell_type": "code",
   "execution_count": 2,
   "metadata": {},
   "outputs": [],
   "source": [
    "# Parameters to change\n",
    "circuit = \"red_queen_small\"\n",
    "rp_str  = \"sabre_v0_20_\"\n",
    "lp_str  = \"fast_layout\"\n",
    "cp_str  = \"heavy_hex_027\"\n",
    "\n",
    "beam_list = [1]"
   ]
  },
  {
   "cell_type": "code",
   "execution_count": 3,
   "metadata": {},
   "outputs": [
    {
     "name": "stdout",
     "output_type": "stream",
     "text": [
      "2. grover.qasm\n",
      "3. multiply_n13.qasm\n",
      "4. adder_n10.qasm\n",
      "5. knn_n25.qasm\n",
      "6. swap_test_n25.qasm\n",
      "7. multiplier_n15.qasm\n",
      "8. seca_n11.qasm\n",
      "9. sat_n11.qasm\n",
      "10. wstate_n27.qasm\n",
      "11. dnn_n8.qasm\n"
     ]
    }
   ],
   "source": [
    "path = f\"results/{circuit}/{rp_str}.csv\"\n",
    "cm_filename = f\"experiment_setup/coupling_maps/{cp_str}.txt\"\n",
    "\n",
    "qc_list_directory = f\"experiment_setup/circuits/{circuit}/\"\n",
    "qc_list = get_circuits_from_directory(qc_list_directory)\n",
    "cm = file_to_coupling_map(cm_filename)\n",
    "\n",
    "# decompose each circuit\n",
    "qc_list_decomposed = []\n",
    "for qc in qc_list:\n",
    "    qc_decomposed = qc.decompose().decompose()\n",
    "    qc_list_decomposed.append(qc_decomposed)"
   ]
  },
  {
   "cell_type": "code",
   "execution_count": 4,
   "metadata": {},
   "outputs": [
    {
     "name": "stdout",
     "output_type": "stream",
     "text": [
      "Using seed 42 for routing pass.\n",
      "    Building Sabre v0.20 routing pass\n",
      "        Using seed 42 and max iterations 1 for layout pass.\n",
      "            Building Fast layout pass\n",
      "Finished: 0 out of 1 with depth 239 and time 0.03880929946899414, for qc 1\n",
      "Using seed 42 for routing pass.\n",
      "    Building Sabre v0.20 routing pass\n",
      "        Using seed 42 and max iterations 1 for layout pass.\n",
      "            Building Fast layout pass\n",
      "Finished: 1 out of 1 with depth 92 and time 0.017148256301879883, for qc 2\n",
      "Using seed 42 for routing pass.\n",
      "    Building Sabre v0.20 routing pass\n",
      "        Using seed 42 and max iterations 1 for layout pass.\n",
      "            Building Fast layout pass\n",
      "Finished: 2 out of 1 with depth 128 and time 0.0195770263671875, for qc 3\n",
      "Using seed 42 for routing pass.\n",
      "    Building Sabre v0.20 routing pass\n",
      "        Using seed 42 and max iterations 1 for layout pass.\n",
      "            Building Fast layout pass\n",
      "Finished: 3 out of 1 with depth 194 and time 0.030470848083496094, for qc 4\n",
      "Using seed 42 for routing pass.\n",
      "    Building Sabre v0.20 routing pass\n",
      "        Using seed 42 and max iterations 1 for layout pass.\n",
      "            Building Fast layout pass\n",
      "Finished: 4 out of 1 with depth 194 and time 0.031161785125732422, for qc 5\n",
      "Using seed 42 for routing pass.\n",
      "    Building Sabre v0.20 routing pass\n",
      "        Using seed 42 and max iterations 1 for layout pass.\n",
      "            Building Fast layout pass\n",
      "Finished: 5 out of 1 with depth 460 and time 0.08150792121887207, for qc 6\n",
      "Using seed 42 for routing pass.\n",
      "    Building Sabre v0.20 routing pass\n",
      "        Using seed 42 and max iterations 1 for layout pass.\n",
      "            Building Fast layout pass\n",
      "Finished: 6 out of 1 with depth 130 and time 0.029599905014038086, for qc 7\n",
      "Using seed 42 for routing pass.\n",
      "    Building Sabre v0.20 routing pass\n",
      "        Using seed 42 and max iterations 1 for layout pass.\n",
      "            Building Fast layout pass\n",
      "Finished: 7 out of 1 with depth 640 and time 0.08869194984436035, for qc 8\n",
      "Using seed 42 for routing pass.\n",
      "    Building Sabre v0.20 routing pass\n",
      "        Using seed 42 and max iterations 1 for layout pass.\n",
      "            Building Fast layout pass\n",
      "Finished: 8 out of 1 with depth 135 and time 0.03263401985168457, for qc 9\n",
      "Using seed 42 for routing pass.\n",
      "    Building Sabre v0.20 routing pass\n",
      "        Using seed 42 and max iterations 1 for layout pass.\n",
      "            Building Fast layout pass\n",
      "Finished: 9 out of 1 with depth 96 and time 0.08485221862792969, for qc 10\n"
     ]
    }
   ],
   "source": [
    "data = run_beam_experiment(path, qc_list_decomposed, rp_str, lp_str, cm, beam_list)"
   ]
  },
  {
   "cell_type": "code",
   "execution_count": 5,
   "metadata": {},
   "outputs": [
    {
     "name": "stdout",
     "output_type": "stream",
     "text": [
      "Using seed 42 for routing pass.\n",
      "    Building Sabre v0.20 extended routing pass\n",
      "        Using seed 42 and max iterations 1 for layout pass.\n",
      "            Building Fast layout pass\n",
      "Finished: 0 out of 1 with depth 207 and time 0.07453799247741699, for qc 1\n",
      "Using seed 42 for routing pass.\n",
      "    Building Sabre v0.20 extended routing pass\n",
      "        Using seed 42 and max iterations 1 for layout pass.\n",
      "            Building Fast layout pass\n",
      "Finished: 1 out of 1 with depth 84 and time 0.017763137817382812, for qc 2\n",
      "Using seed 42 for routing pass.\n",
      "    Building Sabre v0.20 extended routing pass\n",
      "        Using seed 42 and max iterations 1 for layout pass.\n",
      "            Building Fast layout pass\n",
      "Finished: 2 out of 1 with depth 122 and time 0.019330978393554688, for qc 3\n",
      "Using seed 42 for routing pass.\n",
      "    Building Sabre v0.20 extended routing pass\n",
      "        Using seed 42 and max iterations 1 for layout pass.\n",
      "            Building Fast layout pass\n",
      "Finished: 3 out of 1 with depth 200 and time 0.030755996704101562, for qc 4\n",
      "Using seed 42 for routing pass.\n",
      "    Building Sabre v0.20 extended routing pass\n",
      "        Using seed 42 and max iterations 1 for layout pass.\n",
      "            Building Fast layout pass\n",
      "Finished: 4 out of 1 with depth 200 and time 0.03364109992980957, for qc 5\n",
      "Using seed 42 for routing pass.\n",
      "    Building Sabre v0.20 extended routing pass\n",
      "        Using seed 42 and max iterations 1 for layout pass.\n",
      "            Building Fast layout pass\n",
      "Finished: 5 out of 1 with depth 359 and time 0.0797879695892334, for qc 6\n",
      "Using seed 42 for routing pass.\n",
      "    Building Sabre v0.20 extended routing pass\n",
      "        Using seed 42 and max iterations 1 for layout pass.\n",
      "            Building Fast layout pass\n",
      "Finished: 6 out of 1 with depth 114 and time 0.030512094497680664, for qc 7\n",
      "Using seed 42 for routing pass.\n",
      "    Building Sabre v0.20 extended routing pass\n",
      "        Using seed 42 and max iterations 1 for layout pass.\n",
      "            Building Fast layout pass\n",
      "Finished: 7 out of 1 with depth 558 and time 0.08932280540466309, for qc 8\n",
      "Using seed 42 for routing pass.\n",
      "    Building Sabre v0.20 extended routing pass\n",
      "        Using seed 42 and max iterations 1 for layout pass.\n",
      "            Building Fast layout pass\n",
      "Finished: 8 out of 1 with depth 108 and time 0.03340506553649902, for qc 9\n",
      "Using seed 42 for routing pass.\n",
      "    Building Sabre v0.20 extended routing pass\n",
      "        Using seed 42 and max iterations 1 for layout pass.\n",
      "            Building Fast layout pass\n",
      "Finished: 9 out of 1 with depth 96 and time 0.08552694320678711, for qc 10\n"
     ]
    }
   ],
   "source": [
    "rp_str  = \"sabre_v0_20_extended\"\n",
    "path = f\"results/{circuit}/{rp_str}.csv\"\n",
    "data = run_beam_experiment(path, qc_list_decomposed, rp_str, lp_str, cm, beam_list)"
   ]
  },
  {
   "cell_type": "code",
   "execution_count": 6,
   "metadata": {},
   "outputs": [
    {
     "name": "stdout",
     "output_type": "stream",
     "text": [
      "Using seed 42 for routing pass.\n",
      "    Building Sabre v0.20 depth routing pass\n",
      "        Using seed 42 and max iterations 1 for layout pass.\n",
      "            Building Fast layout pass\n",
      "Finished: 0 out of 1 with depth 300 and time 0.036218881607055664, for qc 1\n",
      "Using seed 42 for routing pass.\n",
      "    Building Sabre v0.20 depth routing pass\n",
      "        Using seed 42 and max iterations 1 for layout pass.\n",
      "            Building Fast layout pass\n",
      "Finished: 1 out of 1 with depth 98 and time 0.018217802047729492, for qc 2\n",
      "Using seed 42 for routing pass.\n",
      "    Building Sabre v0.20 depth routing pass\n",
      "        Using seed 42 and max iterations 1 for layout pass.\n",
      "            Building Fast layout pass\n",
      "Finished: 2 out of 1 with depth 176 and time 0.021497011184692383, for qc 3\n",
      "Using seed 42 for routing pass.\n",
      "    Building Sabre v0.20 depth routing pass\n",
      "        Using seed 42 and max iterations 1 for layout pass.\n",
      "            Building Fast layout pass\n",
      "Finished: 3 out of 1 with depth 139 and time 0.03222084045410156, for qc 4\n",
      "Using seed 42 for routing pass.\n",
      "    Building Sabre v0.20 depth routing pass\n",
      "        Using seed 42 and max iterations 1 for layout pass.\n",
      "            Building Fast layout pass\n",
      "Finished: 4 out of 1 with depth 139 and time 0.031800031661987305, for qc 5\n",
      "Using seed 42 for routing pass.\n",
      "    Building Sabre v0.20 depth routing pass\n",
      "        Using seed 42 and max iterations 1 for layout pass.\n",
      "            Building Fast layout pass\n",
      "Finished: 5 out of 1 with depth 436 and time 0.08350086212158203, for qc 6\n",
      "Using seed 42 for routing pass.\n",
      "    Building Sabre v0.20 depth routing pass\n",
      "        Using seed 42 and max iterations 1 for layout pass.\n",
      "            Building Fast layout pass\n",
      "Finished: 6 out of 1 with depth 178 and time 0.03144502639770508, for qc 7\n",
      "Using seed 42 for routing pass.\n",
      "    Building Sabre v0.20 depth routing pass\n",
      "        Using seed 42 and max iterations 1 for layout pass.\n",
      "            Building Fast layout pass\n",
      "Finished: 7 out of 1 with depth 625 and time 0.08732891082763672, for qc 8\n",
      "Using seed 42 for routing pass.\n",
      "    Building Sabre v0.20 depth routing pass\n",
      "        Using seed 42 and max iterations 1 for layout pass.\n",
      "            Building Fast layout pass\n",
      "Finished: 8 out of 1 with depth 114 and time 0.0349431037902832, for qc 9\n",
      "Using seed 42 for routing pass.\n",
      "    Building Sabre v0.20 depth routing pass\n",
      "        Using seed 42 and max iterations 1 for layout pass.\n",
      "            Building Fast layout pass\n",
      "Finished: 9 out of 1 with depth 123 and time 0.08588910102844238, for qc 10\n"
     ]
    }
   ],
   "source": [
    "rp_str  = \"sabre_v0_20_depth\"\n",
    "path = f\"results/{circuit}/{rp_str}.csv\"\n",
    "data = run_beam_experiment(path, qc_list_decomposed, rp_str, lp_str, cm, beam_list)"
   ]
  },
  {
   "cell_type": "code",
   "execution_count": null,
   "metadata": {},
   "outputs": [],
   "source": []
  }
 ],
 "metadata": {
  "kernelspec": {
   "display_name": "qiskit-sabre",
   "language": "python",
   "name": "python3"
  },
  "language_info": {
   "codemirror_mode": {
    "name": "ipython",
    "version": 3
   },
   "file_extension": ".py",
   "mimetype": "text/x-python",
   "name": "python",
   "nbconvert_exporter": "python",
   "pygments_lexer": "ipython3",
   "version": "3.11.4"
  }
 },
 "nbformat": 4,
 "nbformat_minor": 2
}
