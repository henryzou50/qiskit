{
 "cells": [
  {
   "cell_type": "code",
   "execution_count": 3,
   "metadata": {},
   "outputs": [],
   "source": [
    "import pandas as pd\n",
    "import os\n",
    "\n",
    "def get_avg_depth_beam():\n",
    "    # Initialize a list to store the data\n",
    "    data = []\n",
    "    \n",
    "    # Get a list of all files in the current directory\n",
    "    files = [f for f in os.listdir('.') if f.endswith('.csv')]\n",
    "    \n",
    "    # Loop through each file\n",
    "    for file in files:\n",
    "        # Load the CSV file into a dataframe\n",
    "        df = pd.read_csv(file)\n",
    "        \n",
    "        # Calculate the average depth and beam\n",
    "        avg_depth = df['depth'].mean()\n",
    "        avg_beam =  int(df['beam'].mean())\n",
    "        \n",
    "        # Append the results to the data list\n",
    "        data.append({'filename': file, 'average_depth': avg_depth, 'average_beam': avg_beam})\n",
    "    \n",
    "    # Convert the list to a DataFrame\n",
    "    results_df = pd.DataFrame(data)\n",
    "    \n",
    "    # Sort the DataFrame by the 'average_beam' column\n",
    "    results_df_sorted = results_df.sort_values(by='average_beam', ascending=True)\n",
    "    \n",
    "    # Return the sorted DataFrame\n",
    "    return results_df_sorted\n"
   ]
  },
  {
   "cell_type": "code",
   "execution_count": 4,
   "metadata": {},
   "outputs": [
    {
     "name": "stdout",
     "output_type": "stream",
     "text": [
      "                         filename  average_depth  average_beam\n",
      "0                sabre_v0_20_.csv          230.8             1\n",
      "1        sabre_v0_20_extended.csv          204.8             1\n",
      "3           sabre_v0_20_depth.csv          232.8             1\n",
      "2  sabre_v0_20_dive_beam_0100.csv          193.8           100\n"
     ]
    }
   ],
   "source": [
    "# Now you can call the function and store the result\n",
    "df = get_avg_depth_beam()\n",
    "print(df)"
   ]
  },
  {
   "cell_type": "code",
   "execution_count": null,
   "metadata": {},
   "outputs": [],
   "source": []
  }
 ],
 "metadata": {
  "kernelspec": {
   "display_name": "qiskit-sabre",
   "language": "python",
   "name": "python3"
  },
  "language_info": {
   "codemirror_mode": {
    "name": "ipython",
    "version": 3
   },
   "file_extension": ".py",
   "mimetype": "text/x-python",
   "name": "python",
   "nbconvert_exporter": "python",
   "pygments_lexer": "ipython3",
   "version": "3.11.4"
  }
 },
 "nbformat": 4,
 "nbformat_minor": 2
}
