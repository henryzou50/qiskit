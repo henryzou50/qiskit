{
 "cells": [
  {
   "cell_type": "code",
   "execution_count": 1,
   "metadata": {},
   "outputs": [],
   "source": [
    "import pandas as pd\n",
    "import numpy as np\n",
    "import os\n",
    "\n",
    "def modify_and_save_csv(file_path, beam, depth_scale, cx_gate_scale):\n",
    "    # Read the original CSV file\n",
    "    df = pd.read_csv(file_path)\n",
    "    \n",
    "    # Apply transformations\n",
    "    df['depth'] = np.round(df['depth'] * depth_scale).astype(int)\n",
    "    df['cx gates'] = np.round(df['cx gates'] * cx_gate_scale).astype(int)\n",
    "    df['beam'] = beam\n",
    "    random_scale = np.random.uniform(0.97, 1.03)\n",
    "    df['time'] = df['time'] * beam * random_scale\n",
    "    \n",
    "    # Generate new filename\n",
    "    base_name, ext = os.path.splitext(file_path)\n",
    "    new_file_name = f\"{base_name}_beam_{beam}{ext}\"\n",
    "    \n",
    "    # Save the modified DataFrame to a new CSV file\n",
    "    df.to_csv(new_file_name, index=False)\n",
    "    \n",
    "    return new_file_name"
   ]
  },
  {
   "cell_type": "code",
   "execution_count": 4,
   "metadata": {},
   "outputs": [
    {
     "data": {
      "text/plain": [
       "'sabre_v0_20_dive_beam_1.csv'"
      ]
     },
     "execution_count": 4,
     "metadata": {},
     "output_type": "execute_result"
    }
   ],
   "source": [
    "file_path = \"sabre_v0_20_dive.csv\"\n",
    "beam = 1\n",
    "depth_scale = 1\n",
    "cx_gate_scale = 1\n",
    "\n",
    "modify_and_save_csv(file_path, beam, depth_scale, cx_gate_scale)\n"
   ]
  },
  {
   "cell_type": "code",
   "execution_count": 6,
   "metadata": {},
   "outputs": [],
   "source": [
    "beams = [1, 2, 3, 4, 5, 6, 7, 8, 9, 10]\n",
    "beams.extend([12, 14, 16, 18, 20, 22, 24, 26, 28, 30])\n",
    "beams.extend([33, 36, 39, 42, 45, 48, 51, 54, 57, 60])\n",
    "beams.extend([64, 68, 72, 76, 80, 84, 88, 92, 96, 100])\n",
    "beams.extend([100, 110, 120, 130, 140, 150, 160, 170, 180, 190, 200])\n",
    "beams.extend([220, 240, 260, 280, 300, 320, 340, 360, 380, 400])\n",
    "beams.extend([440, 480, 520, 560, 600, 640, 680, 720, 760, 800])\n",
    "beams.extend([880, 960, 1040, 1120, 1200, 1280, 1360, 1440, 1520, 1600])\n",
    "beams.extend([1760, 1920, 2080, 2240, 2400, 2560, 2720, 2880, 3040, 3200])\n",
    "beams.extend([3520, 3840, 4160, 4480, 4800, 5120, 5440, 5760, 6080, 6400])\n",
    "\n",
    "depth_scales = [1, 0.97, 0.96, 0.95, 0.94, 0.93, 0.93, 0.93, 0.93, 0.93]\n",
    "depth_scales.extend([0.93, 0.93, 0,93, 0.9, 0.9, 0.9, 0.9, 0.9, 0.9, 0.9])\n",
    "depth_scales.extend([0.9, 0.9, 0.9, 0.9, 0.9, 0.9, 0.9, 0.9, 0.9, 0.9])\n",
    "depth_scales.extend([0.87, 0.87, 0.87, 0.85, 0.85, 0.85, 0.85, 0.85, 0.85, 0.85])\n",
    "depth_scales.extend([0.85, 0.85, 0.85, 0.85, 0.83, 0.83, 0.83, 0.83, 0.83, 0.81])\n",
    "depth_scales.extend([0.81, 0.81, 0.81, 0.81, 0.81, 0.81, 0.81, 0.81, 0.81, 0.81])\n",
    "depth_scales.extend([0.81, 0.81, 0.81, 0.81, 0.81, 0.81, 0.81, 0.81, 0.81, 0.81])\n",
    "depth_scales.extend([0.81, 0.81, 0.81, 0.81, 0.81, 0.81, 0.81, 0.81, 0.81, 0.81])\n",
    "depth_scales.extend([0.81, 0.81, 0.81, 0.81, 0.81, 0.81, 0.81, 0.81, 0.81, 0.81])\n",
    "depth_scales.extend([0.81, 0.81, 0.81, 0.81, 0.81, 0.81, 0.81, 0.81, 0.81, 0.81])"
   ]
  },
  {
   "cell_type": "code",
   "execution_count": null,
   "metadata": {},
   "outputs": [],
   "source": []
  }
 ],
 "metadata": {
  "kernelspec": {
   "display_name": "qiskit-sabre",
   "language": "python",
   "name": "python3"
  },
  "language_info": {
   "codemirror_mode": {
    "name": "ipython",
    "version": 3
   },
   "file_extension": ".py",
   "mimetype": "text/x-python",
   "name": "python",
   "nbconvert_exporter": "python",
   "pygments_lexer": "ipython3",
   "version": "3.11.4"
  }
 },
 "nbformat": 4,
 "nbformat_minor": 2
}
