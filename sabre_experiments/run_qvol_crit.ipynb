{
 "cells": [
  {
   "cell_type": "code",
   "execution_count": 1,
   "metadata": {},
   "outputs": [],
   "source": [
    "from ulti.pass_manager import run_experiment\n",
    "from ulti.process_files import file_to_circuit_list, file_to_coupling_map\n",
    "from qiskit.transpiler.passes.routing.sabre_swap_025 import SabreSwap\n",
    "from qiskit.transpiler.passes.layout.sabre_layout import SabreLayout"
   ]
  },
  {
   "cell_type": "code",
   "execution_count": 2,
   "metadata": {},
   "outputs": [],
   "source": [
    "# Set up\n",
    "circuit = \"qvol\"\n",
    "path = f\"results/{circuit}/sabre_025_crit_8.csv\"\n",
    "cm_filename = \"coupling_maps/heavy_hex_027.txt\"\n",
    "\n",
    "qc_list_filename = f\"circuits/{circuit}/\"\n",
    "qc_list = file_to_circuit_list(qc_list_filename)\n",
    "cm = file_to_coupling_map(cm_filename)"
   ]
  },
  {
   "cell_type": "markdown",
   "metadata": {},
   "source": [
    "Testing experiment for SabreSwap 0.45"
   ]
  },
  {
   "cell_type": "code",
   "execution_count": 3,
   "metadata": {},
   "outputs": [
    {
     "name": "stdout",
     "output_type": "stream",
     "text": [
      "Finished:  0  out of  100\n",
      "Finished:  1  out of  100\n",
      "Finished:  2  out of  100\n",
      "Finished:  3  out of  100\n",
      "Finished:  4  out of  100\n",
      "Finished:  5  out of  100\n",
      "Finished:  6  out of  100\n",
      "Finished:  7  out of  100\n",
      "Finished:  8  out of  100\n",
      "Finished:  9  out of  100\n",
      "Finished:  10  out of  100\n",
      "Finished:  11  out of  100\n",
      "Finished:  12  out of  100\n",
      "Finished:  13  out of  100\n",
      "Finished:  14  out of  100\n",
      "Finished:  15  out of  100\n",
      "Finished:  16  out of  100\n",
      "Finished:  17  out of  100\n",
      "Finished:  18  out of  100\n",
      "Finished:  19  out of  100\n",
      "Finished:  20  out of  100\n",
      "Finished:  21  out of  100\n",
      "Finished:  22  out of  100\n",
      "Finished:  23  out of  100\n",
      "Finished:  24  out of  100\n",
      "Finished:  25  out of  100\n",
      "Finished:  26  out of  100\n",
      "Finished:  27  out of  100\n",
      "Finished:  28  out of  100\n",
      "Finished:  29  out of  100\n",
      "Finished:  30  out of  100\n",
      "Finished:  31  out of  100\n",
      "Finished:  32  out of  100\n",
      "Finished:  33  out of  100\n",
      "Finished:  34  out of  100\n",
      "Finished:  35  out of  100\n",
      "Finished:  36  out of  100\n",
      "Finished:  37  out of  100\n",
      "Finished:  38  out of  100\n",
      "Finished:  39  out of  100\n",
      "Finished:  40  out of  100\n",
      "Finished:  41  out of  100\n",
      "Finished:  42  out of  100\n",
      "Finished:  43  out of  100\n",
      "Finished:  44  out of  100\n",
      "Finished:  45  out of  100\n",
      "Finished:  46  out of  100\n",
      "Finished:  47  out of  100\n",
      "Finished:  48  out of  100\n",
      "Finished:  49  out of  100\n",
      "Finished:  50  out of  100\n",
      "Finished:  51  out of  100\n",
      "Finished:  52  out of  100\n",
      "Finished:  53  out of  100\n",
      "Finished:  54  out of  100\n",
      "Finished:  55  out of  100\n",
      "Finished:  56  out of  100\n",
      "Finished:  57  out of  100\n",
      "Finished:  58  out of  100\n",
      "Finished:  59  out of  100\n",
      "Finished:  60  out of  100\n",
      "Finished:  61  out of  100\n",
      "Finished:  62  out of  100\n",
      "Finished:  63  out of  100\n",
      "Finished:  64  out of  100\n",
      "Finished:  65  out of  100\n",
      "Finished:  66  out of  100\n",
      "Finished:  67  out of  100\n",
      "Finished:  68  out of  100\n",
      "Finished:  69  out of  100\n",
      "Finished:  70  out of  100\n",
      "Finished:  71  out of  100\n",
      "Finished:  72  out of  100\n",
      "Finished:  73  out of  100\n",
      "Finished:  74  out of  100\n",
      "Finished:  75  out of  100\n",
      "Finished:  76  out of  100\n",
      "Finished:  77  out of  100\n",
      "Finished:  78  out of  100\n",
      "Finished:  79  out of  100\n",
      "Finished:  80  out of  100\n",
      "Finished:  81  out of  100\n",
      "Finished:  82  out of  100\n",
      "Finished:  83  out of  100\n",
      "Finished:  84  out of  100\n",
      "Finished:  85  out of  100\n",
      "Finished:  86  out of  100\n",
      "Finished:  87  out of  100\n",
      "Finished:  88  out of  100\n",
      "Finished:  89  out of  100\n",
      "Finished:  90  out of  100\n",
      "Finished:  91  out of  100\n",
      "Finished:  92  out of  100\n",
      "Finished:  93  out of  100\n",
      "Finished:  94  out of  100\n",
      "Finished:  95  out of  100\n",
      "Finished:  96  out of  100\n",
      "Finished:  97  out of  100\n",
      "Finished:  98  out of  100\n",
      "Finished:  99  out of  100\n"
     ]
    }
   ],
   "source": [
    "data = run_experiment(path, qc_list, SabreSwap, SabreLayout, cm)"
   ]
  }
 ],
 "metadata": {
  "kernelspec": {
   "display_name": "qiskit-dev",
   "language": "python",
   "name": "python3"
  },
  "language_info": {
   "codemirror_mode": {
    "name": "ipython",
    "version": 3
   },
   "file_extension": ".py",
   "mimetype": "text/x-python",
   "name": "python",
   "nbconvert_exporter": "python",
   "pygments_lexer": "ipython3",
   "version": "3.11.4"
  }
 },
 "nbformat": 4,
 "nbformat_minor": 2
}
