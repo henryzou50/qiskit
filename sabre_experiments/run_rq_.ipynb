{
 "cells": [
  {
   "cell_type": "code",
   "execution_count": 1,
   "metadata": {},
   "outputs": [],
   "source": [
    "from ulti.pass_manager import run_experiment\n",
    "from ulti.process_files import file_to_circuit_list, file_to_coupling_map"
   ]
  },
  {
   "cell_type": "code",
   "execution_count": 2,
   "metadata": {},
   "outputs": [],
   "source": [
    "# Set up\n",
    "circuit = \"rq\"\n",
    "rp_str = \"sabre_025_dive\"\n",
    "lp_str = \"fast_layout\"\n",
    "beam = 1\n",
    "\n",
    "path = f\"results/{circuit}/{rp_str}_beam_{beam}.csv\"\n",
    "cm_filename = \"coupling_maps/heavy_hex_127.txt\"\n",
    "\n",
    "qc_list_filename = f\"circuits/{circuit}/\"\n",
    "qc_list = file_to_circuit_list(qc_list_filename)\n",
    "cm = file_to_coupling_map(cm_filename)"
   ]
  },
  {
   "cell_type": "markdown",
   "metadata": {},
   "source": [
    "Testing experiment for SabreSwap 0.45"
   ]
  },
  {
   "cell_type": "code",
   "execution_count": 3,
   "metadata": {},
   "outputs": [
    {
     "name": "stdout",
     "output_type": "stream",
     "text": [
      "Successfully built Sabre_Dive. Seed:  42  Beam:  1\n",
      "Successfully built Fast_Layout\n",
      "Successfully built Sabre_Dive. Seed:  43  Beam:  1\n",
      "Successfully built Fast_Layout\n",
      "Successfully built Sabre_Dive. Seed:  44  Beam:  1\n",
      "Successfully built Fast_Layout\n",
      "Successfully built Sabre_Dive. Seed:  45  Beam:  1\n",
      "Successfully built Fast_Layout\n",
      "Running SabreSwap\n",
      "Beam Search Iteration 0\n",
      "New Lowest Depth: 1058\n",
      "New Lowest Depth: 983\n",
      "New Lowest Depth: 951\n",
      "Beam Search Iteration 1\n",
      "New Lowest Depth: 919\n",
      "Beam Search Iteration 2\n",
      "New Lowest Depth: 901\n",
      "Beam Search Iteration 3\n",
      "New Lowest Depth: 893\n",
      "Beam Search Iteration 4\n",
      "New Lowest Depth: 886\n",
      "New Lowest Depth: 883\n",
      "Beam Search Iteration 5\n",
      "Beam Search Iteration 6\n",
      "Beam Search Iteration 7\n",
      "Beam Search Iteration 8\n",
      "Beam Search Iteration 9\n",
      "Running SabreSwap\n",
      "Beam Search Iteration 0\n",
      "New Lowest Depth: 1051\n",
      "New Lowest Depth: 999\n",
      "New Lowest Depth: 983\n",
      "New Lowest Depth: 915\n",
      "Beam Search Iteration 1\n",
      "New Lowest Depth: 901\n",
      "Beam Search Iteration 2\n",
      "New Lowest Depth: 895\n",
      "Beam Search Iteration 3\n",
      "Beam Search Iteration 4\n",
      "Beam Search Iteration 5\n",
      "Beam Search Iteration 6\n",
      "Beam Search Iteration 7\n",
      "Beam Search Iteration 8\n",
      "Beam Search Iteration 9\n",
      "Running SabreSwap\n",
      "Beam Search Iteration 0\n",
      "New Lowest Depth: 1024\n",
      "New Lowest Depth: 969\n",
      "Beam Search Iteration 1\n",
      "New Lowest Depth: 943\n",
      "New Lowest Depth: 936\n",
      "Beam Search Iteration 2\n",
      "New Lowest Depth: 910\n",
      "Beam Search Iteration 3\n",
      "Beam Search Iteration 4\n",
      "Beam Search Iteration 5\n",
      "Beam Search Iteration 6\n",
      "Beam Search Iteration 7\n",
      "Beam Search Iteration 8\n",
      "Beam Search Iteration 9\n",
      "Running SabreSwap\n",
      "Beam Search Iteration 0\n",
      "New Lowest Depth: 1165\n",
      "New Lowest Depth: 1156\n",
      "New Lowest Depth: 1118\n",
      "New Lowest Depth: 1054\n",
      "New Lowest Depth: 1038\n",
      "New Lowest Depth: 998\n",
      "New Lowest Depth: 974\n",
      "Beam Search Iteration 1\n",
      "New Lowest Depth: 966\n",
      "New Lowest Depth: 941\n",
      "Beam Search Iteration 2\n",
      "Beam Search Iteration 3\n",
      "Beam Search Iteration 4\n",
      "Beam Search Iteration 5\n",
      "Beam Search Iteration 6\n",
      "Beam Search Iteration 7\n",
      "Beam Search Iteration 8\n",
      "Beam Search Iteration 9\n",
      "Finished:  0  out of  1\n"
     ]
    }
   ],
   "source": [
    "data = run_experiment(path, qc_list, rp_str, lp_str, cm, beam=beam)"
   ]
  },
  {
   "cell_type": "code",
   "execution_count": null,
   "metadata": {},
   "outputs": [],
   "source": []
  }
 ],
 "metadata": {
  "kernelspec": {
   "display_name": "qiskit-dev",
   "language": "python",
   "name": "python3"
  },
  "language_info": {
   "codemirror_mode": {
    "name": "ipython",
    "version": 3
   },
   "file_extension": ".py",
   "mimetype": "text/x-python",
   "name": "python",
   "nbconvert_exporter": "python",
   "pygments_lexer": "ipython3",
   "version": "3.11.4"
  }
 },
 "nbformat": 4,
 "nbformat_minor": 2
}
