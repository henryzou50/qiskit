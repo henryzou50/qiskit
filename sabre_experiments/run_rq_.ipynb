{
 "cells": [
  {
   "cell_type": "code",
   "execution_count": 1,
   "metadata": {},
   "outputs": [],
   "source": [
    "from ulti.pass_manager import run_experiment\n",
    "from ulti.process_files import file_to_circuit_list, file_to_coupling_map"
   ]
  },
  {
   "cell_type": "code",
   "execution_count": 2,
   "metadata": {},
   "outputs": [],
   "source": [
    "# Set up\n",
    "circuit = \"rq\"\n",
    "rp_str = \"sabre_025_dive\"\n",
    "lp_str = \"fast_layout\"\n",
    "\n",
    "path = f\"results/{circuit}/{rp_str}_.csv\"\n",
    "cm_filename = \"coupling_maps/heavy_hex_127.txt\"\n",
    "\n",
    "qc_list_filename = f\"circuits/{circuit}/\"\n",
    "qc_list = file_to_circuit_list(qc_list_filename)\n",
    "cm = file_to_coupling_map(cm_filename)"
   ]
  },
  {
   "cell_type": "markdown",
   "metadata": {},
   "source": [
    "Testing experiment for SabreSwap 0.45"
   ]
  },
  {
   "cell_type": "code",
   "execution_count": 3,
   "metadata": {},
   "outputs": [
    {
     "name": "stdout",
     "output_type": "stream",
     "text": [
      "Successfully built Sabre_Dive. Seed:  42  Beam:  10\n"
     ]
    },
    {
     "ename": "TypeError",
     "evalue": "SabreSwap.__init__() got an unexpected keyword argument 'beam'",
     "output_type": "error",
     "traceback": [
      "\u001b[0;31m---------------------------------------------------------------------------\u001b[0m",
      "\u001b[0;31mTypeError\u001b[0m                                 Traceback (most recent call last)",
      "Cell \u001b[0;32mIn[3], line 1\u001b[0m\n\u001b[0;32m----> 1\u001b[0m data \u001b[38;5;241m=\u001b[39m \u001b[43mrun_experiment\u001b[49m\u001b[43m(\u001b[49m\u001b[43mpath\u001b[49m\u001b[43m,\u001b[49m\u001b[43m \u001b[49m\u001b[43mqc_list\u001b[49m\u001b[43m,\u001b[49m\u001b[43m \u001b[49m\u001b[43mrp_str\u001b[49m\u001b[43m,\u001b[49m\u001b[43m \u001b[49m\u001b[43mlp_str\u001b[49m\u001b[43m,\u001b[49m\u001b[43m \u001b[49m\u001b[43mcm\u001b[49m\u001b[43m,\u001b[49m\u001b[43m \u001b[49m\u001b[43mbeam\u001b[49m\u001b[38;5;241;43m=\u001b[39;49m\u001b[38;5;241;43m10\u001b[39;49m\u001b[43m)\u001b[49m\n",
      "File \u001b[0;32m~/Documents/GitHub/qiskit/sabre_experiments/ulti/pass_manager.py:210\u001b[0m, in \u001b[0;36mrun_experiment\u001b[0;34m(filename, qc_list, rp_str, lp_str, coupling_map, num_pm, seed, look, beam, crit)\u001b[0m\n\u001b[1;32m    192\u001b[0m \u001b[38;5;250m\u001b[39m\u001b[38;5;124;03m\"\"\" Runs the experiment for the given parameters and saves the results to a CSV file.\u001b[39;00m\n\u001b[1;32m    193\u001b[0m \n\u001b[1;32m    194\u001b[0m \u001b[38;5;124;03mArgs:\u001b[39;00m\n\u001b[0;32m   (...)\u001b[0m\n\u001b[1;32m    206\u001b[0m \u001b[38;5;124;03m    df (pd.DataFrame): A dataframe with the results of the experiment.\u001b[39;00m\n\u001b[1;32m    207\u001b[0m \u001b[38;5;124;03m\"\"\"\u001b[39;00m \n\u001b[1;32m    209\u001b[0m \u001b[38;5;66;03m# Build the pass managers\u001b[39;00m\n\u001b[0;32m--> 210\u001b[0m pm_list \u001b[38;5;241m=\u001b[39m \u001b[43mbuild_pm_list\u001b[49m\u001b[43m(\u001b[49m\u001b[43mrp_str\u001b[49m\u001b[43m,\u001b[49m\u001b[43m \u001b[49m\u001b[43mlp_str\u001b[49m\u001b[43m,\u001b[49m\u001b[43m \u001b[49m\u001b[43mcoupling_map\u001b[49m\u001b[43m,\u001b[49m\u001b[43m \u001b[49m\u001b[43mnum_pm\u001b[49m\u001b[43m,\u001b[49m\u001b[43m \u001b[49m\u001b[43mseed\u001b[49m\u001b[43m,\u001b[49m\u001b[43m \u001b[49m\u001b[43mlook\u001b[49m\u001b[43m,\u001b[49m\u001b[43m \u001b[49m\u001b[43mbeam\u001b[49m\u001b[43m,\u001b[49m\u001b[43m \u001b[49m\u001b[43mcrit\u001b[49m\u001b[43m)\u001b[49m\n\u001b[1;32m    212\u001b[0m \u001b[38;5;66;03m# Initialize an empty list to hold the data frames\u001b[39;00m\n\u001b[1;32m    213\u001b[0m data_frames \u001b[38;5;241m=\u001b[39m []\n",
      "File \u001b[0;32m~/Documents/GitHub/qiskit/sabre_experiments/ulti/pass_manager.py:123\u001b[0m, in \u001b[0;36mbuild_pm_list\u001b[0;34m(rp_str, lp_str, coupling_map, num_pm, seed, look, beam, crit)\u001b[0m\n\u001b[1;32m    120\u001b[0m pm_list \u001b[38;5;241m=\u001b[39m []\n\u001b[1;32m    122\u001b[0m \u001b[38;5;28;01mfor\u001b[39;00m i \u001b[38;5;129;01min\u001b[39;00m \u001b[38;5;28mrange\u001b[39m(num_pm):\n\u001b[0;32m--> 123\u001b[0m     routing_pass \u001b[38;5;241m=\u001b[39m \u001b[43mbuild_routing_pass\u001b[49m\u001b[43m(\u001b[49m\u001b[43mrp_str\u001b[49m\u001b[43m,\u001b[49m\u001b[43m \u001b[49m\u001b[43mcoupling_map\u001b[49m\u001b[43m,\u001b[49m\u001b[43m \u001b[49m\u001b[43mseed\u001b[49m\u001b[38;5;241;43m+\u001b[39;49m\u001b[43mi\u001b[49m\u001b[43m,\u001b[49m\u001b[43m \u001b[49m\u001b[43mlook\u001b[49m\u001b[43m,\u001b[49m\u001b[43m \u001b[49m\u001b[43mbeam\u001b[49m\u001b[43m,\u001b[49m\u001b[43m \u001b[49m\u001b[43mcrit\u001b[49m\u001b[43m)\u001b[49m\n\u001b[1;32m    124\u001b[0m     layout_pass \u001b[38;5;241m=\u001b[39m build_layout_pass(lp_str, coupling_map, routing_pass, seed\u001b[38;5;241m+\u001b[39mi)\n\u001b[1;32m    125\u001b[0m     pm_list\u001b[38;5;241m.\u001b[39mappend(build_pm(routing_pass, layout_pass, coupling_map))\n",
      "File \u001b[0;32m~/Documents/GitHub/qiskit/sabre_experiments/ulti/pass_manager.py:47\u001b[0m, in \u001b[0;36mbuild_routing_pass\u001b[0;34m(rp_str, coupling_map, seed, look, beam, crit)\u001b[0m\n\u001b[1;32m     45\u001b[0m \u001b[38;5;28;01melif\u001b[39;00m rp_str \u001b[38;5;241m==\u001b[39m \u001b[38;5;124m\"\u001b[39m\u001b[38;5;124msabre_025_dive\u001b[39m\u001b[38;5;124m\"\u001b[39m:\n\u001b[1;32m     46\u001b[0m     \u001b[38;5;28mprint\u001b[39m(\u001b[38;5;124m\"\u001b[39m\u001b[38;5;124mSuccessfully built Sabre_Dive. Seed: \u001b[39m\u001b[38;5;124m\"\u001b[39m, seed, \u001b[38;5;124m\"\u001b[39m\u001b[38;5;124m Beam: \u001b[39m\u001b[38;5;124m\"\u001b[39m, beam)\n\u001b[0;32m---> 47\u001b[0m     routing_pass \u001b[38;5;241m=\u001b[39m \u001b[43mSabreDive\u001b[49m\u001b[43m(\u001b[49m\u001b[43mcoupling_map\u001b[49m\u001b[38;5;241;43m=\u001b[39;49m\u001b[43mcoupling_map\u001b[49m\u001b[43m,\u001b[49m\u001b[43m \u001b[49m\u001b[43mseed\u001b[49m\u001b[38;5;241;43m=\u001b[39;49m\u001b[43mseed\u001b[49m\u001b[43m,\u001b[49m\u001b[43m  \u001b[49m\u001b[43mbeam\u001b[49m\u001b[38;5;241;43m=\u001b[39;49m\u001b[43mbeam\u001b[49m\u001b[43m)\u001b[49m\n\u001b[1;32m     48\u001b[0m \u001b[38;5;28;01melif\u001b[39;00m rp_str \u001b[38;5;241m==\u001b[39m \u001b[38;5;124m\"\u001b[39m\u001b[38;5;124msabre_025_look\u001b[39m\u001b[38;5;124m\"\u001b[39m:\n\u001b[1;32m     49\u001b[0m     \u001b[38;5;28mprint\u001b[39m(\u001b[38;5;124m\"\u001b[39m\u001b[38;5;124mSuccessfully built Sabre_Look. Seed: \u001b[39m\u001b[38;5;124m\"\u001b[39m, seed, \u001b[38;5;124m\"\u001b[39m\u001b[38;5;124m Look: \u001b[39m\u001b[38;5;124m\"\u001b[39m, look, \u001b[38;5;124m\"\u001b[39m\u001b[38;5;124m Beam: \u001b[39m\u001b[38;5;124m\"\u001b[39m, beam)\n",
      "File \u001b[0;32m~/Documents/GitHub/qiskit/qiskit/transpiler/basepasses.py:51\u001b[0m, in \u001b[0;36mMetaPass.__call__\u001b[0;34m(cls, *args, **kwargs)\u001b[0m\n\u001b[1;32m     50\u001b[0m \u001b[38;5;28;01mdef\u001b[39;00m \u001b[38;5;21m__call__\u001b[39m(\u001b[38;5;28mcls\u001b[39m, \u001b[38;5;241m*\u001b[39margs, \u001b[38;5;241m*\u001b[39m\u001b[38;5;241m*\u001b[39mkwargs):\n\u001b[0;32m---> 51\u001b[0m     pass_instance \u001b[38;5;241m=\u001b[39m \u001b[38;5;28;43mtype\u001b[39;49m\u001b[38;5;241;43m.\u001b[39;49m\u001b[38;5;21;43m__call__\u001b[39;49m\u001b[43m(\u001b[49m\u001b[38;5;28;43mcls\u001b[39;49m\u001b[43m,\u001b[49m\u001b[43m \u001b[49m\u001b[38;5;241;43m*\u001b[39;49m\u001b[43margs\u001b[49m\u001b[43m,\u001b[49m\u001b[43m \u001b[49m\u001b[38;5;241;43m*\u001b[39;49m\u001b[38;5;241;43m*\u001b[39;49m\u001b[43mkwargs\u001b[49m\u001b[43m)\u001b[49m\n\u001b[1;32m     52\u001b[0m     pass_instance\u001b[38;5;241m.\u001b[39m_hash \u001b[38;5;241m=\u001b[39m \u001b[38;5;28mhash\u001b[39m(MetaPass\u001b[38;5;241m.\u001b[39m_freeze_init_parameters(\u001b[38;5;28mcls\u001b[39m, args, kwargs))\n\u001b[1;32m     53\u001b[0m     \u001b[38;5;28;01mreturn\u001b[39;00m pass_instance\n",
      "\u001b[0;31mTypeError\u001b[0m: SabreSwap.__init__() got an unexpected keyword argument 'beam'"
     ]
    }
   ],
   "source": [
    "data = run_experiment(path, qc_list, rp_str, lp_str, cm, beam=10)"
   ]
  },
  {
   "cell_type": "code",
   "execution_count": null,
   "metadata": {},
   "outputs": [],
   "source": []
  }
 ],
 "metadata": {
  "kernelspec": {
   "display_name": "qiskit-dev",
   "language": "python",
   "name": "python3"
  },
  "language_info": {
   "codemirror_mode": {
    "name": "ipython",
    "version": 3
   },
   "file_extension": ".py",
   "mimetype": "text/x-python",
   "name": "python",
   "nbconvert_exporter": "python",
   "pygments_lexer": "ipython3",
   "version": "3.11.4"
  }
 },
 "nbformat": 4,
 "nbformat_minor": 2
}
