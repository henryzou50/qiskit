{
 "cells": [
  {
   "cell_type": "code",
   "execution_count": 5,
   "metadata": {},
   "outputs": [
    {
     "name": "stdout",
     "output_type": "stream",
     "text": [
      "Routing pass 1: sabre_025\n",
      "    Average Depth: 1800.2028985507247\n",
      "    Average CX Gates: 4344.115942028986\n",
      "    Average Time: 11.645539574001146\n",
      "Routing pass 2: sabre_depth\n",
      "    Average Depth: 2044.5121951219512\n",
      "    Average CX Gates: 5247.8536585365855\n",
      "    Average Time: 19.957315729885565\n"
     ]
    }
   ],
   "source": [
    "import pandas as pd\n",
    "\n",
    "circuit = \"BSS\"\n",
    "rp1 = \"sabre_025\"\n",
    "rp2 = \"sabre_depth\"\n",
    "\n",
    "# Load the CSV file\n",
    "df = pd.read_csv(f'results/{circuit}/{rp1}.csv')\n",
    "\n",
    "# Calculate the average of the specified columns\n",
    "average_depth = df['depth'].mean()\n",
    "average_cx_gates = df['cx gates'].mean()\n",
    "average_time = df['time'].mean()\n",
    "\n",
    "# Print the results \n",
    "print(f\"Routing pass 1: {rp1}\")\n",
    "print(f\"    Average Depth: {average_depth}\")\n",
    "print(f\"    Average CX Gates: {average_cx_gates}\")\n",
    "print(f\"    Average Time: {average_time}\")\n",
    "\n",
    "# Load the CSV file\n",
    "df = pd.read_csv(f'results/{circuit}/{rp2}.csv')\n",
    "\n",
    "# Calculate the average of the specified columns\n",
    "average_depth = df['depth'].mean()\n",
    "average_cx_gates = df['cx gates'].mean()\n",
    "average_time = df['time'].mean()\n",
    "\n",
    "# Print the results\n",
    "print(f\"Routing pass 2: {rp2}\")\n",
    "print(f\"    Average Depth: {average_depth}\")\n",
    "print(f\"    Average CX Gates: {average_cx_gates}\")\n",
    "print(f\"    Average Time: {average_time}\")"
   ]
  },
  {
   "cell_type": "code",
   "execution_count": null,
   "metadata": {},
   "outputs": [],
   "source": []
  }
 ],
 "metadata": {
  "kernelspec": {
   "display_name": "qiskit-dev",
   "language": "python",
   "name": "python3"
  },
  "language_info": {
   "codemirror_mode": {
    "name": "ipython",
    "version": 3
   },
   "file_extension": ".py",
   "mimetype": "text/x-python",
   "name": "python",
   "nbconvert_exporter": "python",
   "pygments_lexer": "ipython3",
   "version": "3.11.4"
  }
 },
 "nbformat": 4,
 "nbformat_minor": 2
}
