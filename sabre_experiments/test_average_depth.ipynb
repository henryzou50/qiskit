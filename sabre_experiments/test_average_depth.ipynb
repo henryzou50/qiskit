{
 "cells": [
  {
   "cell_type": "code",
   "execution_count": 1,
   "metadata": {},
   "outputs": [
    {
     "name": "stdout",
     "output_type": "stream",
     "text": [
      "Routing pass 1: sabre_025_depth_\n",
      "    Average Depth: 659.5\n",
      "    Average CX Gates: 1212.0\n",
      "    Average Time: 0.06886262893676752\n",
      "Routing pass 2: sabre_025_\n",
      "    Average Depth: 659.5\n",
      "    Average CX Gates: 1212.0\n",
      "    Average Time: 0.07607354164123531\n"
     ]
    }
   ],
   "source": [
    "import pandas as pd\n",
    "\n",
    "circuit = \"parallel_vary_layers\"\n",
    "rp1 = \"sabre_025_depth_\"\n",
    "rp2 = \"sabre_025_\"\n",
    "\n",
    "# Load the CSV file\n",
    "df = pd.read_csv(f'results/{circuit}/{rp1}.csv')\n",
    "\n",
    "# Calculate the average of the specified columns\n",
    "average_depth = df['depth'].mean()\n",
    "average_cx_gates = df['cx gates'].mean()\n",
    "average_time = df['time'].mean()\n",
    "df1= df\n",
    "\n",
    "# Print the results \n",
    "print(f\"Routing pass 1: {rp1}\")\n",
    "print(f\"    Average Depth: {average_depth}\")\n",
    "print(f\"    Average CX Gates: {average_cx_gates}\")\n",
    "print(f\"    Average Time: {average_time}\")\n",
    "\n",
    "# Load the CSV file\n",
    "df = pd.read_csv(f'results/{circuit}/{rp2}.csv')\n",
    "df2 = df\n",
    "\n",
    "# Calculate the average of the specified columns\n",
    "average_depth = df['depth'].mean()\n",
    "average_cx_gates = df['cx gates'].mean()\n",
    "average_time = df['time'].mean()\n",
    "\n",
    "# Print the results\n",
    "print(f\"Routing pass 2: {rp2}\")\n",
    "print(f\"    Average Depth: {average_depth}\")\n",
    "print(f\"    Average CX Gates: {average_cx_gates}\")\n",
    "print(f\"    Average Time: {average_time}\")"
   ]
  },
  {
   "cell_type": "code",
   "execution_count": null,
   "metadata": {},
   "outputs": [],
   "source": []
  }
 ],
 "metadata": {
  "kernelspec": {
   "display_name": "qiskit-dev",
   "language": "python",
   "name": "python3"
  },
  "language_info": {
   "codemirror_mode": {
    "name": "ipython",
    "version": 3
   },
   "file_extension": ".py",
   "mimetype": "text/x-python",
   "name": "python",
   "nbconvert_exporter": "python",
   "pygments_lexer": "ipython3",
   "version": "3.11.4"
  }
 },
 "nbformat": 4,
 "nbformat_minor": 2
}
