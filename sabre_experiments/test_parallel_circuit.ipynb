{
 "cells": [
  {
   "cell_type": "code",
   "execution_count": 2,
   "metadata": {},
   "outputs": [],
   "source": [
    "from qiskit import QuantumCircuit\n",
    "from qiskit.circuit.library import RXGate, RZZGate\n",
    "from qiskit.qasm2 import dump"
   ]
  },
  {
   "cell_type": "code",
   "execution_count": 3,
   "metadata": {},
   "outputs": [],
   "source": [
    "def create_parallel_circuit(num_layers, num_size):\n",
    "    qc = QuantumCircuit(num_size)\n",
    "    angle_rzz = 3.141592653589793/6\n",
    "\n",
    "    for i in range(num_layers):\n",
    "        # Apply RX gate with angle 0 to each qubit\n",
    "        for j in range(num_size):\n",
    "            qc.rx(0, j)\n",
    "        # barrier to separate the gates\n",
    "        qc.barrier()\n",
    "        # Apply RZZ gate with angle 0 between specific pairs of qubits\n",
    "        for j in range(0, num_size - 1, 2):\n",
    "            qc.rzz(angle_rzz, j, j+1)\n",
    "\n",
    "        # Apply RZZ gate with angle 0 again between the same pairs, staggered across the circuit's timeline\n",
    "        for j in range(1, num_size - 1, 2):\n",
    "            qc.rzz(angle_rzz, j, j+1)\n",
    "\n",
    "        # Apply RZZ gate with angle 0 on the last pair of qubits\n",
    "        qc.rzz(angle_rzz, 0, num_size-1)\n",
    "        # barrier to separate the gates\n",
    "        qc.barrier()\n",
    "    return qc"
   ]
  },
  {
   "cell_type": "code",
   "execution_count": 12,
   "metadata": {},
   "outputs": [],
   "source": [
    "qc = create_parallel_circuit(3, 5)\n",
    "qc.draw(output='mpl')\n",
    "path = 'circuits/parallel/test.qasm'\n",
    "dump(qc, path)"
   ]
  },
  {
   "cell_type": "code",
   "execution_count": 15,
   "metadata": {},
   "outputs": [],
   "source": [
    "num_size = 6\n",
    "num_layers_list = range(1, 101)\n",
    "for num_layers in num_layers_list:\n",
    "    qc = create_parallel_circuit(num_layers, num_size)\n",
    "    path = 'circuits/parallel_vary_layers/parallel_{}_{}.qasm'.format(num_layers, num_size)\n",
    "    dump(qc, path)"
   ]
  },
  {
   "cell_type": "code",
   "execution_count": 11,
   "metadata": {},
   "outputs": [],
   "source": [
    "num_layers = 90\n",
    "num_size_list = range(5, 13)\n",
    "for num_size in num_size_list:\n",
    "    qc = create_parallel_circuit(num_layers, num_size)\n",
    "    path = 'circuits/parallel_vary_size/parallel_{}_{}.qasm'.format(num_layers, num_size)\n",
    "    dump(qc, path)"
   ]
  },
  {
   "cell_type": "code",
   "execution_count": null,
   "metadata": {},
   "outputs": [],
   "source": []
  }
 ],
 "metadata": {
  "kernelspec": {
   "display_name": "qiskit-dev",
   "language": "python",
   "name": "python3"
  },
  "language_info": {
   "codemirror_mode": {
    "name": "ipython",
    "version": 3
   },
   "file_extension": ".py",
   "mimetype": "text/x-python",
   "name": "python",
   "nbconvert_exporter": "python",
   "pygments_lexer": "ipython3",
   "version": "3.11.4"
  }
 },
 "nbformat": 4,
 "nbformat_minor": 2
}
