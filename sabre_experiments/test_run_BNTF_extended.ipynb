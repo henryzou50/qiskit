{
 "cells": [
  {
   "cell_type": "code",
   "execution_count": 6,
   "metadata": {},
   "outputs": [],
   "source": [
    "from ulti.pass_manager import run_experiment\n",
    "from ulti.process_files import file_to_circuit_list, file_to_coupling_map\n",
    "from qiskit.transpiler.passes.routing.sabre_swap_025 import SabreSwap\n",
    "from qiskit.transpiler.passes.layout.sabre_layout import SabreLayout"
   ]
  },
  {
   "cell_type": "code",
   "execution_count": 7,
   "metadata": {},
   "outputs": [],
   "source": [
    "# Set up\n",
    "qc_list_filename = \"circuits/BNTF/\"\n",
    "cm_filename = \"coupling_maps/heavy_hex_027.txt\"\n",
    "qc_list = file_to_circuit_list(qc_list_filename)\n",
    "cm = file_to_coupling_map(cm_filename)"
   ]
  },
  {
   "cell_type": "markdown",
   "metadata": {},
   "source": [
    "Testing experiment for SabreSwap 0.45"
   ]
  },
  {
   "cell_type": "code",
   "execution_count": 8,
   "metadata": {},
   "outputs": [],
   "source": [
    "data = run_experiment(qc_list, SabreSwap, SabreLayout, cm)"
   ]
  },
  {
   "cell_type": "code",
   "execution_count": 10,
   "metadata": {},
   "outputs": [],
   "source": [
    "path = \"results/BNTF/\"\n",
    "# Store data to path\n",
    "data.to_csv(path + \"sabre.csv\")"
   ]
  }
 ],
 "metadata": {
  "kernelspec": {
   "display_name": "qiskit-dev",
   "language": "python",
   "name": "python3"
  },
  "language_info": {
   "codemirror_mode": {
    "name": "ipython",
    "version": 3
   },
   "file_extension": ".py",
   "mimetype": "text/x-python",
   "name": "python",
   "nbconvert_exporter": "python",
   "pygments_lexer": "ipython3",
   "version": "3.11.4"
  }
 },
 "nbformat": 4,
 "nbformat_minor": 2
}
