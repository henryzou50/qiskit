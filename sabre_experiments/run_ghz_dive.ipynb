{
 "cells": [
  {
   "cell_type": "code",
   "execution_count": null,
   "metadata": {},
   "outputs": [],
   "source": [
    "from ulti.pass_manager import run_experiment, run_experiment_beam\n",
    "from ulti.process_files import file_to_circuit_list, file_to_coupling_map\n",
    "from qiskit.transpiler.passes.routing.sabre_dive import SabreSwap\n",
    "from qiskit.transpiler.passes.layout.sabre_layout import SabreLayout"
   ]
  },
  {
   "cell_type": "code",
   "execution_count": null,
   "metadata": {},
   "outputs": [],
   "source": [
    "# Set up\n",
    "circuit = \"ghz_25\"\n",
    "path = f\"results/{circuit}/sabre_025_dive.csv\"\n",
    "cm_filename = \"coupling_maps/heavy_hex_127.txt\"\n",
    "\n",
    "qc_list_filename = f\"circuits/{circuit}/\"\n",
    "qc_list = file_to_circuit_list(qc_list_filename)\n",
    "qc = qc_list[0]\n",
    "cm = file_to_coupling_map(cm_filename)"
   ]
  },
  {
   "cell_type": "markdown",
   "metadata": {},
   "source": [
    "Testing experiment for SabreSwap 0.45"
   ]
  },
  {
   "cell_type": "code",
   "execution_count": null,
   "metadata": {},
   "outputs": [],
   "source": [
    "beam_list = range(1,100)\n",
    "data = run_experiment_beam(path, qc, SabreSwap, SabreLayout, cm, beam_list=beam_list, triv_layout=True)"
   ]
  }
 ],
 "metadata": {
  "kernelspec": {
   "display_name": "qiskit-dev",
   "language": "python",
   "name": "python3"
  },
  "language_info": {
   "codemirror_mode": {
    "name": "ipython",
    "version": 3
   },
   "file_extension": ".py",
   "mimetype": "text/x-python",
   "name": "python",
   "nbconvert_exporter": "python",
   "pygments_lexer": "ipython3",
   "version": "3.11.4"
  }
 },
 "nbformat": 4,
 "nbformat_minor": 2
}
