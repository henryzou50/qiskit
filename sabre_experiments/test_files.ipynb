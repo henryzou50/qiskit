{
 "cells": [
  {
   "cell_type": "markdown",
   "metadata": {},
   "source": [
    "Tests the functions in `process_files.py`"
   ]
  },
  {
   "cell_type": "code",
   "execution_count": 1,
   "metadata": {},
   "outputs": [],
   "source": [
    "from ulti.process_files import file_to_circuit_list, file_to_coupling_map"
   ]
  },
  {
   "cell_type": "markdown",
   "metadata": {},
   "source": [
    "- Tests `file_to_circuit_list` by checking length, first circuit, last circuit\n",
    "- Tests `file_to_coupling_map` by checking coupling map size"
   ]
  },
  {
   "cell_type": "code",
   "execution_count": 6,
   "metadata": {},
   "outputs": [],
   "source": [
    "# Test file_to_circuit_list \n",
    "filename = 'circuits/ghz/'\n",
    "circuit_list = file_to_circuit_list(filename)\n",
    "assert len(circuit_list)        == 126\n",
    "assert circuit_list[0].depth()  == 2\n",
    "assert circuit_list[-1].depth() == 127\n",
    "\n",
    "# Test file_to_coupling_map\n",
    "coupling_map = file_to_coupling_map(\"coupling_maps/heavy_hex_007.txt\")\n",
    "assert coupling_map.size() == 7"
   ]
  }
 ],
 "metadata": {
  "kernelspec": {
   "display_name": "qiskit-dev",
   "language": "python",
   "name": "python3"
  },
  "language_info": {
   "codemirror_mode": {
    "name": "ipython",
    "version": 3
   },
   "file_extension": ".py",
   "mimetype": "text/x-python",
   "name": "python",
   "nbconvert_exporter": "python",
   "pygments_lexer": "ipython3",
   "version": "3.11.4"
  }
 },
 "nbformat": 4,
 "nbformat_minor": 2
}
