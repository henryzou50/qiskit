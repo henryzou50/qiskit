{
 "cells": [
  {
   "cell_type": "code",
   "execution_count": 1,
   "metadata": {},
   "outputs": [],
   "source": [
    "from ulti.pass_manager import run_experiment\n",
    "from ulti.process_files import file_to_circuit_list, file_to_coupling_map"
   ]
  },
  {
   "cell_type": "code",
   "execution_count": 2,
   "metadata": {},
   "outputs": [],
   "source": [
    "# Set up\n",
    "circuit = \"rq\"\n",
    "rp_str = \"sabre_025_depth\"\n",
    "lp_str = \"fast_layout\"\n",
    "\n",
    "path = f\"results/{circuit}/{rp_str}_.csv\"\n",
    "cm_filename = \"coupling_maps/heavy_hex_127.txt\"\n",
    "\n",
    "qc_list_filename = f\"circuits/{circuit}/\"\n",
    "qc_list = file_to_circuit_list(qc_list_filename)\n",
    "cm = file_to_coupling_map(cm_filename)"
   ]
  },
  {
   "cell_type": "markdown",
   "metadata": {},
   "source": [
    "Testing experiment for SabreSwap 0.45"
   ]
  },
  {
   "cell_type": "code",
   "execution_count": 3,
   "metadata": {},
   "outputs": [
    {
     "name": "stdout",
     "output_type": "stream",
     "text": [
      "Successfully built Sabre_Depth. Seed:  42\n",
      "Successfully built Fast_Layout\n",
      "Successfully built Sabre_Depth. Seed:  43\n",
      "Successfully built Fast_Layout\n",
      "Successfully built Sabre_Depth. Seed:  44\n",
      "Successfully built Fast_Layout\n",
      "Successfully built Sabre_Depth. Seed:  45\n",
      "Successfully built Fast_Layout\n",
      "Calculating Depth: 1058\n",
      "Calculating Depth: 1058\n",
      "Calculating Depth: 1054\n",
      "Calculating Depth: 1054\n",
      "Calculating Depth: 1024\n",
      "Calculating Depth: 1024\n",
      "Calculating Depth: 1165\n",
      "Calculating Depth: 1165\n",
      "Finished:  0  out of  1\n"
     ]
    }
   ],
   "source": [
    "data = run_experiment(path, qc_list, rp_str, lp_str, cm, beam=1)"
   ]
  },
  {
   "cell_type": "code",
   "execution_count": null,
   "metadata": {},
   "outputs": [],
   "source": []
  }
 ],
 "metadata": {
  "kernelspec": {
   "display_name": "qiskit-dev",
   "language": "python",
   "name": "python3"
  },
  "language_info": {
   "codemirror_mode": {
    "name": "ipython",
    "version": 3
   },
   "file_extension": ".py",
   "mimetype": "text/x-python",
   "name": "python",
   "nbconvert_exporter": "python",
   "pygments_lexer": "ipython3",
   "version": "3.11.4"
  }
 },
 "nbformat": 4,
 "nbformat_minor": 2
}
