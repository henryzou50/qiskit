{
 "cells": [
  {
   "cell_type": "code",
   "execution_count": 1,
   "metadata": {},
   "outputs": [],
   "source": [
    "from ulti.pass_manager import run_experiment\n",
    "from ulti.process_files import file_to_circuit_list, file_to_coupling_map\n",
    "from qiskit.transpiler.passes.routing.sabre_swap_025 import SabreSwap\n",
    "from qiskit.transpiler.passes.layout.sabre_layout import SabreLayout"
   ]
  },
  {
   "cell_type": "code",
   "execution_count": 2,
   "metadata": {},
   "outputs": [],
   "source": [
    "# Set up\n",
    "circuit = \"qvol_10\"\n",
    "path = f\"results/{circuit}/sabre_025_test.csv\"\n",
    "cm_filename = \"coupling_maps/heavy_hex_027.txt\"\n",
    "\n",
    "qc_list_filename = f\"circuits/{circuit}/\"\n",
    "qc_list = file_to_circuit_list(qc_list_filename)\n",
    "cm = file_to_coupling_map(cm_filename)"
   ]
  },
  {
   "cell_type": "markdown",
   "metadata": {},
   "source": [
    "Testing experiment for SabreSwap 0.45"
   ]
  },
  {
   "cell_type": "code",
   "execution_count": 3,
   "metadata": {},
   "outputs": [
    {
     "name": "stdout",
     "output_type": "stream",
     "text": [
      "Finished:  0  out of  1\n"
     ]
    }
   ],
   "source": [
    "data = run_experiment(path, qc_list, SabreSwap, SabreLayout, cm, triv_layout=True)"
   ]
  }
 ],
 "metadata": {
  "kernelspec": {
   "display_name": "qiskit-dev",
   "language": "python",
   "name": "python3"
  },
  "language_info": {
   "codemirror_mode": {
    "name": "ipython",
    "version": 3
   },
   "file_extension": ".py",
   "mimetype": "text/x-python",
   "name": "python",
   "nbconvert_exporter": "python",
   "pygments_lexer": "ipython3",
   "version": "3.11.4"
  }
 },
 "nbformat": 4,
 "nbformat_minor": 2
}
