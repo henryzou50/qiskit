{
 "cells": [
  {
   "cell_type": "code",
   "execution_count": 4,
   "metadata": {},
   "outputs": [],
   "source": [
    "from ulti.pass_manager import run_experiment\n",
    "from ulti.process_files import file_to_circuit_list, file_to_coupling_map"
   ]
  },
  {
   "cell_type": "code",
   "execution_count": 5,
   "metadata": {},
   "outputs": [],
   "source": [
    "# Set up\n",
    "circuit = \"rq\"\n",
    "rp_str = \"sabre_025_dive\"\n",
    "lp_str = \"fast_layout\"\n",
    "num_iter=7\n",
    "\n",
    "path = f\"results/{circuit}/{rp_str}_iter_{num_iter}.csv\"\n",
    "cm_filename = \"coupling_maps/heavy_hex_127.txt\"\n",
    "\n",
    "qc_list_filename = f\"circuits/{circuit}/\"\n",
    "qc_list = file_to_circuit_list(qc_list_filename)\n",
    "cm = file_to_coupling_map(cm_filename)"
   ]
  },
  {
   "cell_type": "markdown",
   "metadata": {},
   "source": [
    "Testing experiment for SabreSwap 0.45"
   ]
  },
  {
   "cell_type": "code",
   "execution_count": 6,
   "metadata": {},
   "outputs": [
    {
     "name": "stdout",
     "output_type": "stream",
     "text": [
      "Successfully built Sabre_Dive. Seed:  42  Beam:  1  Iter:  7\n",
      "Successfully built Fast_Layout\n",
      "Running SabreSwap\n",
      "Beam Search Iteration 0\n",
      "Number of Candidate States: 92\n",
      "New Lowest Depth: 1058\n",
      "New Lowest Depth: 1012\n",
      "New Lowest Depth: 983\n",
      "New Lowest Depth: 951\n",
      "Beam Search Iteration 1\n",
      "Number of Candidate States: 92\n",
      "New Lowest Depth: 919\n",
      "Beam Search Iteration 2\n",
      "Number of Candidate States: 92\n",
      "New Lowest Depth: 913\n",
      "New Lowest Depth: 901\n",
      "Beam Search Iteration 3\n",
      "Number of Candidate States: 91\n",
      "New Lowest Depth: 893\n",
      "Beam Search Iteration 4\n",
      "Number of Candidate States: 89\n",
      "New Lowest Depth: 886\n",
      "New Lowest Depth: 883\n",
      "Beam Search Iteration 5\n",
      "Number of Candidate States: 89\n",
      "Beam Search Iteration 6\n",
      "Number of Candidate States: 89\n",
      "Finished:  0  out of  1\n"
     ]
    }
   ],
   "source": [
    "data = run_experiment(path, qc_list, rp_str, lp_str, cm, num_iter=num_iter, num_pm=1)"
   ]
  },
  {
   "cell_type": "code",
   "execution_count": null,
   "metadata": {},
   "outputs": [],
   "source": []
  }
 ],
 "metadata": {
  "kernelspec": {
   "display_name": "qiskit-dev",
   "language": "python",
   "name": "python3"
  },
  "language_info": {
   "codemirror_mode": {
    "name": "ipython",
    "version": 3
   },
   "file_extension": ".py",
   "mimetype": "text/x-python",
   "name": "python",
   "nbconvert_exporter": "python",
   "pygments_lexer": "ipython3",
   "version": "3.11.4"
  }
 },
 "nbformat": 4,
 "nbformat_minor": 2
}
