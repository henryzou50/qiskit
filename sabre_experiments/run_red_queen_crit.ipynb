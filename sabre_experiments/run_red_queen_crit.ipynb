{
 "cells": [
  {
   "cell_type": "code",
   "execution_count": null,
   "metadata": {},
   "outputs": [],
   "source": [
    "from ulti.pass_manager import run_experiment\n",
    "from ulti.process_files import file_to_circuit_list, file_to_coupling_map"
   ]
  },
  {
   "cell_type": "markdown",
   "metadata": {},
   "source": [
    "Testing experiment for SabreSwap 0.45"
   ]
  },
  {
   "cell_type": "code",
   "execution_count": null,
   "metadata": {},
   "outputs": [],
   "source": [
    "crit_list = [1.6, 1.7, 1.8, 1.9, 2.1, 2.2, 2.3, 2.4, 2.5, 2.6, 2.7, 2.8, 2.9]\n",
    "for crit in crit_list:\n",
    "    circuit = \"red_queen\"\n",
    "    rp_str = \"sabre_025_crit\"\n",
    "    lp_str = \"sabre_layout\"\n",
    "\n",
    "    path = f\"results/{circuit}/{rp_str}_{crit}.csv\"\n",
    "    cm_filename = \"coupling_maps/heavy_hex_127.txt\"\n",
    "\n",
    "    qc_list_filename = f\"circuits/{circuit}/\"\n",
    "    qc_list = file_to_circuit_list(qc_list_filename)\n",
    "    cm = file_to_coupling_map(cm_filename)\n",
    "    data = run_experiment(path, qc_list, rp_str, lp_str, cm, crit = crit)"
   ]
  },
  {
   "cell_type": "code",
   "execution_count": null,
   "metadata": {},
   "outputs": [],
   "source": []
  }
 ],
 "metadata": {
  "kernelspec": {
   "display_name": "qiskit-dev",
   "language": "python",
   "name": "python3"
  },
  "language_info": {
   "codemirror_mode": {
    "name": "ipython",
    "version": 3
   },
   "file_extension": ".py",
   "mimetype": "text/x-python",
   "name": "python",
   "nbconvert_exporter": "python",
   "pygments_lexer": "ipython3",
   "version": "3.11.4"
  }
 },
 "nbformat": 4,
 "nbformat_minor": 2
}
