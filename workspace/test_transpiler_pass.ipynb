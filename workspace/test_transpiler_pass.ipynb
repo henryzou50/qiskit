{
 "cells": [
  {
   "cell_type": "code",
   "execution_count": 1,
   "metadata": {},
   "outputs": [],
   "source": [
    "from qiskit.transpiler.passes.routing.sabre_swap_v020  import SabreSwap as SabreSwap_v020\n",
    "from qiskit.transpiler.passes.layout.sabre_layout_v020 import SabreLayout as SabreLayout_v020\n",
    "from qiskit.transpiler.passes.routing.sabre_swap_v020_dive import SabreSwap as SabreSwap_test\n",
    "\n",
    "\n",
    "from ulti.circuits import get_circuit_list, sort_circuits_by_depth\n",
    "from ulti.coupling_maps import file_to_coupling_map\n",
    "from ulti.pass_managers import build_pm\n",
    "import time"
   ]
  },
  {
   "cell_type": "code",
   "execution_count": 2,
   "metadata": {},
   "outputs": [],
   "source": [
    "qc_name = \"size5_depth_1-10\"\n",
    "cp_name = \"hex_7\"\n",
    "cm = file_to_coupling_map(f'coupling_maps/{cp_name}.txt')\n",
    "seed = 42\n",
    "\n",
    "# variables to change\n",
    "lookahead = 5\n",
    "fast_layout = True\n",
    "\n",
    "# pass manager for Sabre v0.20\n",
    "rp_v020 = SabreSwap_v020\n",
    "lp_v020 = SabreLayout_v020\n",
    "pm_v020 = build_pm(rp_v020, lp_v020, cm, seed=seed, fast_layout=fast_layout)\n",
    "\n",
    "# pass manager for Sabre test\n",
    "rp_test = SabreSwap_test\n",
    "pm_test = build_pm(rp_test, lp_v020, cm, seed=seed, fast_layout=fast_layout)\n",
    "\n",
    "qc_list = get_circuit_list([f'circuits/{qc_name}/'])\n",
    "qc_list = sort_circuits_by_depth(qc_list)\n",
    "\n",
    "# test the 7th and 8th circuits\n",
    "#qc_list = qc_list[6:8]"
   ]
  },
  {
   "cell_type": "code",
   "execution_count": 3,
   "metadata": {},
   "outputs": [
    {
     "name": "stdout",
     "output_type": "stream",
     "text": [
      "[<qiskit.circuit.quantumcircuit.QuantumCircuit object at 0x1683462d0>, <qiskit.circuit.quantumcircuit.QuantumCircuit object at 0x16831f910>]\n"
     ]
    }
   ],
   "source": [
    "print(qc_list)"
   ]
  },
  {
   "cell_type": "code",
   "execution_count": 4,
   "metadata": {},
   "outputs": [
    {
     "name": "stdout",
     "output_type": "stream",
     "text": [
      "Circuit 1:\n",
      "\n",
      "                                 ┌────────────┐              ┌────────────┐»\n",
      "q_0: ────────────────────────────┤1           ├──────────────┤0           ├»\n",
      "                   ┌────────────┐│            │              │            │»\n",
      "q_1: ──────────────┤0           ├┤            ├──────────────┤            ├»\n",
      "     ┌────────────┐│            ││  Unitary_2 │┌────────────┐│  Unitary_4 │»\n",
      "q_2: ┤0           ├┤            ├┤            ├┤0           ├┤            ├»\n",
      "     │  Unitary_1 ││  Unitary_0 ││            ││            ││            │»\n",
      "q_3: ┤1           ├┤            ├┤0           ├┤  Unitary_3 ├┤1           ├»\n",
      "     └────────────┘│            │└────────────┘│            │└────────────┘»\n",
      "q_4: ──────────────┤1           ├──────────────┤1           ├──────────────»\n",
      "                   └────────────┘              └────────────┘              »\n",
      "«     ┌────────────┐┌────────────┐┌─────────────┐               ┌─────────────┐»\n",
      "«q_0: ┤1           ├┤1           ├┤1            ├───────────────┤0            ├»\n",
      "«     │  Unitary_6 ││  Unitary_8 ││  Unitary_11 │               │             │»\n",
      "«q_1: ┤0           ├┤0           ├┤0            ├───────────────┤             ├»\n",
      "«     ├────────────┤└────────────┘└┬────────────┤┌─────────────┐│             │»\n",
      "«q_2: ┤1           ├───────────────┤0           ├┤1            ├┤  Unitary_13 ├»\n",
      "«     │            │┌────────────┐ │            ││  Unitary_10 ││             │»\n",
      "«q_3: ┤  Unitary_5 ├┤0           ├─┤  Unitary_9 ├┤0            ├┤             ├»\n",
      "«     │            ││  Unitary_7 │ │            │└─────────────┘│             │»\n",
      "«q_4: ┤0           ├┤1           ├─┤1           ├───────────────┤1            ├»\n",
      "«     └────────────┘└────────────┘ └────────────┘               └─────────────┘»\n",
      "«                    \n",
      "«q_0: ───────────────\n",
      "«                    \n",
      "«q_1: ───────────────\n",
      "«     ┌─────────────┐\n",
      "«q_2: ┤0            ├\n",
      "«     │  Unitary_12 │\n",
      "«q_3: ┤1            ├\n",
      "«     └─────────────┘\n",
      "«q_4: ───────────────\n",
      "«                    \n",
      "\n",
      "\n",
      "----------------------------------------------------------------------------------------------------\n",
      "Circuit 2:\n",
      "\n",
      "     ┌────────────┐              ┌────────────┐┌────────────┐┌────────────┐»\n",
      "q_0: ┤0           ├──────────────┤1           ├┤0           ├┤1           ├»\n",
      "     │  Unitary_0 │              │            ││            ││  Unitary_6 │»\n",
      "q_1: ┤1           ├──────────────┤            ├┤            ├┤0           ├»\n",
      "     ├────────────┤┌────────────┐│            ││  Unitary_4 │├────────────┤»\n",
      "q_2: ┤1           ├┤0           ├┤  Unitary_2 ├┤            ├┤1           ├»\n",
      "     │            ││  Unitary_3 ││            ││            ││            │»\n",
      "q_3: ┤  Unitary_1 ├┤1           ├┤            ├┤1           ├┤  Unitary_5 ├»\n",
      "     │            │└────────────┘│            │└────────────┘│            │»\n",
      "q_4: ┤0           ├──────────────┤0           ├──────────────┤0           ├»\n",
      "     └────────────┘              └────────────┘              └────────────┘»\n",
      "«     ┌────────────┐┌─────────────┐               ┌─────────────┐»\n",
      "«q_0: ┤1           ├┤1            ├───────────────┤0            ├»\n",
      "«     │  Unitary_8 ││  Unitary_11 │               │             │»\n",
      "«q_1: ┤0           ├┤0            ├───────────────┤             ├»\n",
      "«     └────────────┘└┬────────────┤┌─────────────┐│             │»\n",
      "«q_2: ───────────────┤0           ├┤1            ├┤  Unitary_13 ├»\n",
      "«     ┌────────────┐ │            ││  Unitary_10 ││             │»\n",
      "«q_3: ┤0           ├─┤  Unitary_9 ├┤0            ├┤             ├»\n",
      "«     │  Unitary_7 │ │            │└─────────────┘│             │»\n",
      "«q_4: ┤1           ├─┤1           ├───────────────┤1            ├»\n",
      "«     └────────────┘ └────────────┘               └─────────────┘»\n",
      "«                                   \n",
      "«q_0: ──────────────────────────────\n",
      "«                    ┌─────────────┐\n",
      "«q_1: ───────────────┤0            ├\n",
      "«     ┌─────────────┐│  Unitary_14 │\n",
      "«q_2: ┤0            ├┤1            ├\n",
      "«     │  Unitary_12 │├─────────────┤\n",
      "«q_3: ┤1            ├┤1            ├\n",
      "«     └─────────────┘│  Unitary_15 │\n",
      "«q_4: ───────────────┤0            ├\n",
      "«                    └─────────────┘\n",
      "\n",
      "\n",
      "----------------------------------------------------------------------------------------------------\n"
     ]
    }
   ],
   "source": [
    "# draw each of the circuits\n",
    "for i, qc in enumerate(qc_list):\n",
    "    print(f\"Circuit {i+1}:\\n\")\n",
    "    print(qc.decompose().draw(output='text'))\n",
    "    print(\"\\n\")\n",
    "    print(\"-\"*100)"
   ]
  },
  {
   "cell_type": "code",
   "execution_count": 5,
   "metadata": {},
   "outputs": [
    {
     "name": "stdout",
     "output_type": "stream",
     "text": [
      "Depth after transpiled v0.20:                               19        Time taken:         0.01989 seconds\n",
      "Depth after transpiled v0.20 with lookahead:                19        Time taken:         0.01696 seconds\n",
      "----------------------------------------------------------------------------------------------------\n",
      "Depth after transpiled v0.20:                               43        Time taken:         0.03750 seconds\n",
      "Depth after transpiled v0.20 with lookahead:                43        Time taken:         0.01900 seconds\n",
      "----------------------------------------------------------------------------------------------------\n",
      "Average depth after transpiled v0.20:                       31.00000  \n",
      "Average depth after transpiled v0.20 with lookahead:        31.00000  \n"
     ]
    }
   ],
   "source": [
    "depths_20 = []\n",
    "depths_test = []\n",
    "\n",
    "# Loop through the circuits and run them through the pass managers\n",
    "for i, qc in enumerate(qc_list):\n",
    "    qc = qc.decompose()\n",
    "\n",
    "\n",
    "    # Transpile using v0.20\n",
    "    start_20 = time.time()\n",
    "    qc_tr_20 = pm_v020.run(qc)\n",
    "    end_20 = time.time()\n",
    "    duration_20 = end_20 - start_20\n",
    "    depth_20 = qc_tr_20.decompose([\"swap\"]).depth()\n",
    "    depths_20.append(depth_20)\n",
    "\n",
    "    # Transpile using v0.20 with lookahead\n",
    "    start_test = time.time()\n",
    "    qc_tr_test = pm_test.run(qc)\n",
    "    end_test = time.time()\n",
    "    duration_test = end_test - start_test\n",
    "    depth_test = qc_tr_test.decompose([\"swap\"]).depth()\n",
    "    depths_test.append(depth_test)\n",
    "    # Print the depth and duration for each transpilation\n",
    "    print(f\"{'Depth after transpiled v0.20:':<60}{depth_20:<10}{'Time taken:':<20}{duration_20:.5f} seconds\")\n",
    "    print(f\"{'Depth after transpiled v0.20 with lookahead:':<60}{depth_test:<10}{'Time taken:':<20}{duration_test:.5f} seconds\")\n",
    "\n",
    "    print(\"-\"*100)\n",
    "\n",
    "# Print the average depth and duration for each transpilation\n",
    "print(f\"{'Average depth after transpiled v0.20:':<60}{sum(depths_20)/len(depths_20):<10.5f}\")\n",
    "print(f\"{'Average depth after transpiled v0.20 with lookahead:':<60}{sum(depths_test)/len(depths_test):<10.5f}\")\n"
   ]
  }
 ],
 "metadata": {
  "kernelspec": {
   "display_name": "QiskitEnv",
   "language": "python",
   "name": "python3"
  },
  "language_info": {
   "codemirror_mode": {
    "name": "ipython",
    "version": 3
   },
   "file_extension": ".py",
   "mimetype": "text/x-python",
   "name": "python",
   "nbconvert_exporter": "python",
   "pygments_lexer": "ipython3",
   "version": "3.11.5"
  }
 },
 "nbformat": 4,
 "nbformat_minor": 2
}
