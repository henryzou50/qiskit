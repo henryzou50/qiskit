{
 "cells": [
  {
   "cell_type": "code",
   "execution_count": 1,
   "metadata": {},
   "outputs": [],
   "source": [
    "from qiskit.transpiler.passes.routing.sabre_swap_v020  import SabreSwap as SabreSwap_v020\n",
    "from qiskit.transpiler.passes.layout.sabre_layout_v020 import SabreLayout as SabreLayout_v020\n",
    "from qiskit.transpiler.passes.routing.sabre_swap_v020_depth_old import SabreSwap as SabreSwap_test\n",
    "\n",
    "\n",
    "from ulti.circuits import get_circuit_list, sort_circuits_by_depth\n",
    "from ulti.coupling_maps import file_to_coupling_map\n",
    "from ulti.pass_managers import build_pm\n",
    "import time"
   ]
  },
  {
   "cell_type": "code",
   "execution_count": 2,
   "metadata": {},
   "outputs": [],
   "source": [
    "#qc_name = \"size5_depth_1-10\"\n",
    "#cp_name = \"hex_7\"\n",
    "\n",
    "qc_name = \"ghz_2-127\"\n",
    "cp_name = \"hex_127\"\n",
    "\n",
    "cm = file_to_coupling_map(f'coupling_maps/{cp_name}.txt')\n",
    "seed = 42\n",
    "\n",
    "# variables to change\n",
    "lookahead = 5\n",
    "fast_layout = True\n",
    "\n",
    "# pass manager for Sabre v0.20\n",
    "rp_v020 = SabreSwap_v020\n",
    "lp_v020 = SabreLayout_v020\n",
    "pm_v020 = build_pm(rp_v020, lp_v020, cm, seed=seed, fast_layout=fast_layout)\n",
    "\n",
    "# pass manager for Sabre test\n",
    "rp_test = SabreSwap_test\n",
    "pm_test = build_pm(rp_test, lp_v020, cm, seed=seed, fast_layout=fast_layout)\n",
    "\n",
    "qc_list = get_circuit_list([f'circuits/{qc_name}/'])\n",
    "qc_list = sort_circuits_by_depth(qc_list)\n",
    "\n",
    "# test the 7th and 8th circuits\n",
    "qc_list = qc_list[20:21]"
   ]
  },
  {
   "cell_type": "code",
   "execution_count": 3,
   "metadata": {},
   "outputs": [
    {
     "name": "stderr",
     "output_type": "stream",
     "text": [
      "/Users/henryzou/Documents/GitHub/qiskit/qiskit/visualization/circuit/matplotlib.py:266: FutureWarning: The default matplotlib drawer scheme will be changed to \"iqp\" in a following release. To silence this warning, specify the current default explicitly as style=\"clifford\", or the new default as style=\"iqp\".\n",
      "  self._style, def_font_ratio = load_style(self._style)\n"
     ]
    },
    {
     "name": "stdout",
     "output_type": "stream",
     "text": [
      "Depth after transpiled v0.20:                               87        Time taken:         0.03057 seconds\n",
      "Depth after transpiled v0.20 with lookahead:                74        Time taken:         0.02941 seconds\n",
      "----------------------------------------------------------------------------------------------------\n",
      "Average depth after transpiled v0.20:                       87.00000  \n",
      "Average depth after transpiled v0.20 with lookahead:        74.00000  \n"
     ]
    }
   ],
   "source": [
    "depths_20 = []\n",
    "depths_test = []\n",
    "\n",
    "# Loop through the circuits and run them through the pass managers\n",
    "for i, qc in enumerate(qc_list):\n",
    "    qc = qc.decompose()\n",
    "\n",
    "\n",
    "\n",
    "    # Transpile using v0.20\n",
    "    start_20 = time.time()\n",
    "    qc_tr_20 = pm_v020.run(qc)\n",
    "    end_20 = time.time()\n",
    "    duration_20 = end_20 - start_20\n",
    "    depth_20 = qc_tr_20.decompose([\"swap\"]).depth()\n",
    "    depths_20.append(depth_20)\n",
    "\n",
    "    # Transpile using v0.20 with lookahead\n",
    "    start_test = time.time()\n",
    "    qc_tr_test = pm_test.run(qc)\n",
    "    end_test = time.time()\n",
    "    duration_test = end_test - start_test\n",
    "    depth_test = qc_tr_test.decompose([\"swap\"]).depth()\n",
    "    depths_test.append(depth_test)\n",
    "\n",
    "    # draw the circuit\n",
    "    qc.draw(output=\"mpl\", filename=f\"trial_1.png\", idle_wires=False)\n",
    "    qc_tr_20.draw(output=\"mpl\", filename=f\"trial_2.png\", idle_wires=False)\n",
    "    qc_tr_test.draw(output=\"mpl\", filename=f\"trial_3.png\", idle_wires=False)\n",
    "\n",
    "    # Print the depth and duration for each transpilation\n",
    "    print(f\"{'Depth after transpiled v0.20:':<60}{depth_20:<10}{'Time taken:':<20}{duration_20:.5f} seconds\")\n",
    "    print(f\"{'Depth after transpiled v0.20 with lookahead:':<60}{depth_test:<10}{'Time taken:':<20}{duration_test:.5f} seconds\")\n",
    "\n",
    "    print(\"-\"*100)\n",
    "\n",
    "# Print the average depth and duration for each transpilation\n",
    "print(f\"{'Average depth after transpiled v0.20:':<60}{sum(depths_20)/len(depths_20):<10.5f}\")\n",
    "print(f\"{'Average depth after transpiled v0.20 with lookahead:':<60}{sum(depths_test)/len(depths_test):<10.5f}\")\n"
   ]
  }
 ],
 "metadata": {
  "kernelspec": {
   "display_name": "QiskitEnv",
   "language": "python",
   "name": "python3"
  },
  "language_info": {
   "codemirror_mode": {
    "name": "ipython",
    "version": 3
   },
   "file_extension": ".py",
   "mimetype": "text/x-python",
   "name": "python",
   "nbconvert_exporter": "python",
   "pygments_lexer": "ipython3",
   "version": "3.11.5"
  }
 },
 "nbformat": 4,
 "nbformat_minor": 2
}
