{
 "cells": [
  {
   "cell_type": "code",
   "execution_count": 1,
   "metadata": {},
   "outputs": [],
   "source": [
    "import itertools"
   ]
  },
  {
   "cell_type": "code",
   "execution_count": 2,
   "metadata": {},
   "outputs": [],
   "source": [
    "def calculate_circuit_depth(gates):\n",
    "    # Get all unique qubits in the circuit\n",
    "    nodes = set(itertools.chain(*gates))\n",
    "    \n",
    "    # Initialize depth 0 for each qubit\n",
    "    depths = {node: 0 for node in nodes} \n",
    "\n",
    "    for gate in gates:\n",
    "        \n",
    "        # Get the max depth of the two qubits in this gate\n",
    "        depth = max(depths[gate[0]], depths[gate[1]])\n",
    "\n",
    "        # Increment the depth by 1\n",
    "        depth += 1\n",
    "\n",
    "        # Update the depth for both qubits\n",
    "        depths[gate[0]] = depth  \n",
    "        depths[gate[1]] = depth\n",
    "        \n",
    "    # Return the max depth overall  \n",
    "    return max(depths.values())"
   ]
  },
  {
   "cell_type": "code",
   "execution_count": 3,
   "metadata": {},
   "outputs": [
    {
     "name": "stdout",
     "output_type": "stream",
     "text": [
      "Test 1 - Depth: 3 (Expected: 3)\n",
      "Test 2 - Depth: 1 (Expected: 1)\n",
      "Test 3 - Depth: 3 (Expected: 3)\n",
      "Test 4 - Depth: 3 (Expected: 3)\n",
      "Test 5 - Depth: 3 (Expected: 3)\n",
      "Test 6 - Depth: 2 (Expected: 2)\n",
      "Test 7 - Depth: 3 (Expected: 3)\n",
      "Test 8 - Depth: 3 (Expected: 3)\n",
      "Test 9 - Depth: 3 (Expected: 3)\n",
      "Test 10 - Depth: 3 (Expected: 3)\n",
      "Test 11 - Depth: 4 (Expected: 4)\n",
      "Test 12 - Depth: 5 (Expected: 5)\n",
      "Test 13 - Depth: 6 (Expected: 6)\n",
      "Test 14 - Depth: 6 (Expected: 6)\n",
      "Test 15 - Depth: 7 (Expected: 7)\n",
      "Test 16 - Depth: 8 (Expected: 8)\n"
     ]
    }
   ],
   "source": [
    "# Test 1: A circuit where no gates can be parallelized.\n",
    "gate_array_1 = [(0, 1), (1, 2), (2, 3)]\n",
    "depth_1 = calculate_circuit_depth(gate_array_1)\n",
    "print(f\"Test 1 - Depth: {depth_1} (Expected: 3)\")\n",
    "\n",
    "# Test 2: A circuit with all gates operating on different pairs, allowing for parallelization.\n",
    "gate_array_2 = [(0, 1), (2, 3), (4, 5)]\n",
    "depth_2 = calculate_circuit_depth(gate_array_2)\n",
    "print(f\"Test 2 - Depth: {depth_2} (Expected: 1)\")\n",
    "\n",
    "# Test 3: A more complex circuit with a mix of parallelizable and non-parallelizable gates.\n",
    "gate_array_3 = [(0, 1), (2, 3), (1, 2), (3, 4), (0, 1)]\n",
    "depth_3 = calculate_circuit_depth(gate_array_3)\n",
    "print(f\"Test 3 - Depth: {depth_3} (Expected: 3)\")\n",
    "\n",
    "# Test 4: Circuit with sequential gates on the same pair of qubits.\n",
    "gate_array_4 = [(0, 1), (0, 1), (0, 1)]\n",
    "depth_4 = calculate_circuit_depth(gate_array_4)\n",
    "print(f\"Test 4 - Depth: {depth_4} (Expected: 3)\")\n",
    "\n",
    "# Test 5: A longer and more complex circuit.\n",
    "gate_array_5 = [(0, 1), (2, 3), (1, 2), (3, 0), (4, 5), (5, 6), (4, 6)]\n",
    "depth_5 = calculate_circuit_depth(gate_array_5)\n",
    "print(f\"Test 5 - Depth: {depth_5} (Expected: 3)\")\n",
    "\n",
    "gate_array_6 = [(2, 3), (5, 8), (13, 12), (19, 22), (24, 25), (12, 13)]\n",
    "depth_6 = calculate_circuit_depth(gate_array_6)\n",
    "print(f\"Test 6 - Depth: {depth_6} (Expected: 2)\")\n",
    "\n",
    "gate_array_7 = [(2, 3), (5, 8), (13, 12), (19, 22), (24, 25), (12, 13), (3, 5), (2, 3)]\n",
    "depth_7 = calculate_circuit_depth(gate_array_7)\n",
    "print(f\"Test 7 - Depth: {depth_7} (Expected: 3)\")\n",
    "\n",
    "gate_array_8 = [(2, 3), (5, 8), (13, 12), (19, 22), (24, 25), (12, 13), (3, 5), (2, 3), (22, 25), (24, 25)]\n",
    "depth_8 = calculate_circuit_depth(gate_array_8)\n",
    "print(f\"Test 8 - Depth: {depth_8} (Expected: 3)\")\n",
    "\n",
    "gate_array_9 = [(2, 3), (5, 8), (13, 12), (19, 22), (24, 25), (12, 13), (3, 5), (2, 3), (22, 25), (24, 25), (16, 19)]\n",
    "depth_9 = calculate_circuit_depth(gate_array_9)\n",
    "print(f\"Test 9 - Depth: {depth_9} (Expected: 3)\")\n",
    "\n",
    "gate_array_10 = [(2, 3), (5, 8), (13, 12), (19, 22), (24, 25), (12, 13), (3, 5), (2, 3), (22, 25), (24, 25), (16, 19), (14, 16)]\n",
    "depth_10 = calculate_circuit_depth(gate_array_10)\n",
    "print(f\"Test 10 - Depth: {depth_10} (Expected: 3)\")\n",
    "\n",
    "gate_array_11 = [(2, 3), (5, 8), (13, 12), (19, 22), (24, 25), (12, 13), (3, 5), (2, 3), (22, 25), (24, 25), (16, 19), (14, 16), (11, 14)]\n",
    "depth_11 = calculate_circuit_depth(gate_array_11)\n",
    "print(f\"Test 11 - Depth: {depth_11} (Expected: 4)\")\n",
    "\n",
    "gate_array_12 = [(2, 3), (5, 8), (13, 12), (19, 22), (24, 25), (12, 13), (3, 5), (2, 3), (22, 25), (24, 25), (16, 19), (14, 16), (11, 14), (8, 11)]\n",
    "depth_12 = calculate_circuit_depth(gate_array_12)\n",
    "print(f\"Test 12 - Depth: {depth_12} (Expected: 5)\")\n",
    "\n",
    "gate_array_13 = [(2, 3), (5, 8), (13, 12), (19, 22), (24, 25), (12, 13), (3, 5), (2, 3), (22, 25), (24, 25), (16, 19), (14, 16), (11, 14), (8, 11), (5, 8), (11, 14)]\n",
    "depth_13 = calculate_circuit_depth(gate_array_13)\n",
    "print(f\"Test 13 - Depth: {depth_13} (Expected: 6)\")\n",
    "\n",
    "gate_array_14 = [(2, 3), (5, 8), (13, 12), (19, 22), (24, 25), (12, 13), (3, 5), (2, 3), (22, 25), (24, 25), (16, 19), (14, 16), (11, 14), (8, 11), (5, 8), (11, 14), (19, 22)]\n",
    "depth_14 = calculate_circuit_depth(gate_array_14)\n",
    "print(f\"Test 14 - Depth: {depth_14} (Expected: 6)\")\n",
    "\n",
    "gate_array_15 = [(2, 3), (5, 8), (13, 12), (19, 22), (24, 25), (12, 13), (3, 5), (2, 3), (22, 25), (24, 25), (16, 19), (14, 16), (11, 14), (8, 11), (5, 8), (11, 14), (19, 22), (14, 16)]\n",
    "depth_15 = calculate_circuit_depth(gate_array_15)\n",
    "print(f\"Test 15 - Depth: {depth_15} (Expected: 7)\")\n",
    "\n",
    "gate_array_16 = [(2, 3), (5, 8), (13, 12), (19, 22), (24, 25), (12, 13), (3, 5), (2, 3), (22, 25), (24, 25), (16, 19), (14, 16), (11, 14), (8, 11), (5, 8), (11, 14), (19, 22), (14, 16), (16, 19)]\n",
    "depth_16 = calculate_circuit_depth(gate_array_16)\n",
    "print(f\"Test 16 - Depth: {depth_16} (Expected: 8)\")"
   ]
  },
  {
   "cell_type": "code",
   "execution_count": 4,
   "metadata": {},
   "outputs": [
    {
     "name": "stdout",
     "output_type": "stream",
     "text": [
      "Test 8 - Depth: 3 (Expected: 3)\n"
     ]
    }
   ],
   "source": [
    "gate_array_8 = [(2, 3), (5, 8), (13, 12), (19, 22), (24, 25), (12, 13), (3, 5), (2, 3), (22, 25), (24, 25)]\n",
    "depth_8 = calculate_circuit_depth(gate_array_8)\n",
    "print(f\"Test 8 - Depth: {depth_8} (Expected: 3)\")"
   ]
  },
  {
   "cell_type": "code",
   "execution_count": null,
   "metadata": {},
   "outputs": [],
   "source": []
  }
 ],
 "metadata": {
  "kernelspec": {
   "display_name": "QiskitEnv",
   "language": "python",
   "name": "python3"
  },
  "language_info": {
   "codemirror_mode": {
    "name": "ipython",
    "version": 3
   },
   "file_extension": ".py",
   "mimetype": "text/x-python",
   "name": "python",
   "nbconvert_exporter": "python",
   "pygments_lexer": "ipython3",
   "version": "3.11.5"
  }
 },
 "nbformat": 4,
 "nbformat_minor": 2
}
