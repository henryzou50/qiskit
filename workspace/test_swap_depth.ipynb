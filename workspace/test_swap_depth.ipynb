{
 "cells": [
  {
   "cell_type": "code",
   "execution_count": 1,
   "metadata": {},
   "outputs": [
    {
     "name": "stdout",
     "output_type": "stream",
     "text": [
      "The depth of the circuit is: 3\n"
     ]
    }
   ],
   "source": [
    "def calculate_circuit_depth(gate_array):\n",
    "    depth = 0\n",
    "    active_qubits = set()\n",
    "\n",
    "    for gate in gate_array:\n",
    "        qubit1, qubit2 = gate\n",
    "        # Check if the gate can be parallelized with the previous ones\n",
    "        if qubit1 not in active_qubits and qubit2 not in active_qubits:\n",
    "            # If both qubits are not active, the gate can be parallelized\n",
    "            # at the current depth. We don't need to increase the depth.\n",
    "            active_qubits.add(qubit1)\n",
    "            active_qubits.add(qubit2)\n",
    "        else:\n",
    "            # If any qubit is active, we have to increase the depth\n",
    "            # and update the active qubits to only include the current gate's qubits.\n",
    "            depth += 1\n",
    "            active_qubits = {qubit1, qubit2}\n",
    "\n",
    "    # If there were gates in the last layer, increment the depth by 1\n",
    "    if active_qubits:\n",
    "        depth += 1\n",
    "\n",
    "    return depth"
   ]
  },
  {
   "cell_type": "code",
   "execution_count": 3,
   "metadata": {},
   "outputs": [
    {
     "name": "stdout",
     "output_type": "stream",
     "text": [
      "Test 1 - Depth: 3 (Expected: 3)\n",
      "Test 2 - Depth: 1 (Expected: 1)\n",
      "Test 3 - Depth: 3 (Expected: 3)\n",
      "Test 4 - Depth: 3 (Expected: 3)\n",
      "Test 5 - Depth: 4 (Expected: 5)\n"
     ]
    }
   ],
   "source": [
    "# Test 1: A circuit where no gates can be parallelized.\n",
    "gate_array_1 = [(0, 1), (1, 2), (2, 3)]\n",
    "depth_1 = calculate_circuit_depth(gate_array_1)\n",
    "print(f\"Test 1 - Depth: {depth_1} (Expected: 3)\")\n",
    "\n",
    "# Test 2: A circuit with all gates operating on different pairs, allowing for parallelization.\n",
    "gate_array_2 = [(0, 1), (2, 3), (4, 5)]\n",
    "depth_2 = calculate_circuit_depth(gate_array_2)\n",
    "print(f\"Test 2 - Depth: {depth_2} (Expected: 1)\")\n",
    "\n",
    "# Test 3: A more complex circuit with a mix of parallelizable and non-parallelizable gates.\n",
    "gate_array_3 = [(0, 1), (2, 3), (1, 2), (3, 4), (0, 1)]\n",
    "depth_3 = calculate_circuit_depth(gate_array_3)\n",
    "print(f\"Test 3 - Depth: {depth_3} (Expected: 3)\")\n",
    "\n",
    "# Test 4: Circuit with sequential gates on the same pair of qubits.\n",
    "gate_array_4 = [(0, 1), (0, 1), (0, 1)]\n",
    "depth_4 = calculate_circuit_depth(gate_array_4)\n",
    "print(f\"Test 4 - Depth: {depth_4} (Expected: 3)\")\n",
    "\n",
    "# Test 5: A longer and more complex circuit.\n",
    "gate_array_5 = [(0, 1), (2, 3), (1, 2), (3, 0), (4, 5), (5, 6), (4, 6)]\n",
    "depth_5 = calculate_circuit_depth(gate_array_5)\n",
    "print(f\"Test 5 - Depth: {depth_5} (Expected: 4)\")"
   ]
  },
  {
   "cell_type": "code",
   "execution_count": null,
   "metadata": {},
   "outputs": [],
   "source": []
  }
 ],
 "metadata": {
  "kernelspec": {
   "display_name": "QiskitEnv",
   "language": "python",
   "name": "python3"
  },
  "language_info": {
   "codemirror_mode": {
    "name": "ipython",
    "version": 3
   },
   "file_extension": ".py",
   "mimetype": "text/x-python",
   "name": "python",
   "nbconvert_exporter": "python",
   "pygments_lexer": "ipython3",
   "version": "3.11.5"
  }
 },
 "nbformat": 4,
 "nbformat_minor": 2
}
