{
 "cells": [
  {
   "cell_type": "markdown",
   "metadata": {},
   "source": [
    "This code runs the experiment for SabreSwap v0.25 and SabreLayout v0.25\n"
   ]
  },
  {
   "cell_type": "code",
   "execution_count": 1,
   "metadata": {},
   "outputs": [],
   "source": [
    "from qiskit.transpiler.passes.routing.sabre_swap_v020_lookahead   import SabreSwap   as SabreSwap_v020\n",
    "from qiskit.transpiler.passes.layout.sabre_layout                 import SabreLayout as SabreLayout_v045\n",
    "from qiskit.transpiler.passes.layout.sabre_layout_v020            import SabreLayout as SabreLayout_v020\n",
    "from ulti.circuits import get_circuit_list, sort_circuits_by_depth\n",
    "from ulti.coupling_maps import file_to_coupling_map\n",
    "from ulti.pass_managers import generate_pass_managers, transpiled_data\n",
    "import pandas as pd\n",
    "import random\n",
    "random.seed(42)\n",
    "import os"
   ]
  },
  {
   "cell_type": "code",
   "execution_count": 2,
   "metadata": {},
   "outputs": [
    {
     "name": "stdout",
     "output_type": "stream",
     "text": [
      "Running experiment for the circuits: qvol_single\n"
     ]
    }
   ],
   "source": [
    "# Option to keep the layout inital layout the same for faster transpilation\n",
    "fast_layout = False\n",
    "num_shots = 5\n",
    "qc_name = \"qvol_single\"\n",
    "cp_name = \"hex_27\"\n",
    "print(f\"Running experiment for the circuits: {qc_name}\")\n",
    "qc_list = get_circuit_list([f'circuits/{qc_name}/'])\n",
    "qc_list = sort_circuits_by_depth(qc_list)"
   ]
  },
  {
   "cell_type": "code",
   "execution_count": 3,
   "metadata": {},
   "outputs": [
    {
     "name": "stdout",
     "output_type": "stream",
     "text": [
      "Running experiment for lookahead 5 and beam 20\n",
      "    Finished 0 for experiment sabre_v020_look_05_beam_20 and circuit qvol_single\n",
      "Finished all for experiment sabre_v020_look_05_beam_20 and circuit qvol_single\n",
      "Saved to data/qvol_single/sabre_v020_look_05_beam_20.csv\n",
      "**************************************************\n",
      "Finished all\n",
      "Running experiment for lookahead 5 and beam 30\n",
      "    Finished 0 for experiment sabre_v020_look_05_beam_30 and circuit qvol_single\n",
      "Finished all for experiment sabre_v020_look_05_beam_30 and circuit qvol_single\n",
      "Saved to data/qvol_single/sabre_v020_look_05_beam_30.csv\n",
      "**************************************************\n",
      "Finished all\n",
      "Running experiment for lookahead 5 and beam 40\n",
      "    Finished 0 for experiment sabre_v020_look_05_beam_40 and circuit qvol_single\n",
      "Finished all for experiment sabre_v020_look_05_beam_40 and circuit qvol_single\n",
      "Saved to data/qvol_single/sabre_v020_look_05_beam_40.csv\n",
      "**************************************************\n",
      "Finished all\n",
      "Running experiment for lookahead 5 and beam 50\n",
      "    Finished 0 for experiment sabre_v020_look_05_beam_50 and circuit qvol_single\n",
      "Finished all for experiment sabre_v020_look_05_beam_50 and circuit qvol_single\n",
      "Saved to data/qvol_single/sabre_v020_look_05_beam_50.csv\n",
      "**************************************************\n",
      "Finished all\n",
      "Running experiment for lookahead 5 and beam 60\n",
      "    Finished 0 for experiment sabre_v020_look_05_beam_60 and circuit qvol_single\n",
      "Finished all for experiment sabre_v020_look_05_beam_60 and circuit qvol_single\n",
      "Saved to data/qvol_single/sabre_v020_look_05_beam_60.csv\n",
      "**************************************************\n",
      "Finished all\n",
      "Running experiment for lookahead 5 and beam 70\n",
      "    Finished 0 for experiment sabre_v020_look_05_beam_70 and circuit qvol_single\n",
      "Finished all for experiment sabre_v020_look_05_beam_70 and circuit qvol_single\n",
      "Saved to data/qvol_single/sabre_v020_look_05_beam_70.csv\n",
      "**************************************************\n",
      "Finished all\n",
      "Running experiment for lookahead 5 and beam 80\n",
      "    Finished 0 for experiment sabre_v020_look_05_beam_80 and circuit qvol_single\n",
      "Finished all for experiment sabre_v020_look_05_beam_80 and circuit qvol_single\n",
      "Saved to data/qvol_single/sabre_v020_look_05_beam_80.csv\n",
      "**************************************************\n",
      "Finished all\n",
      "Running experiment for lookahead 5 and beam 90\n"
     ]
    }
   ],
   "source": [
    "beam_list = [20, 30, 40, 50, 60, 70, 80, 90]\n",
    "for beam in beam_list:\n",
    "    print(f\"Running experiment for lookahead 5 and beam {beam}\")\n",
    "    # Experiment for Sabre v0.20 with lookahead heuristic\n",
    "    look    = 5\n",
    "    # set beam to max integer\n",
    "    lp_name = \"sabre_v020\"\n",
    "    if look < 10:\n",
    "         rp_name = f\"sabre_v020_look_05_beam_{beam}\"\n",
    "    else:\n",
    "        rp_name = f\"sabre_v020_look_05_beam_{beam}\"\n",
    "\n",
    "\n",
    "    rp = SabreSwap_v020\n",
    "    lp = SabreLayout_v020\n",
    "    cm = file_to_coupling_map(f'coupling_maps/{cp_name}.txt')\n",
    "    pm = generate_pass_managers(num_shots, rp, lp, cm, lookahead=look, beam_width = beam, \n",
    "                                fast_layout=fast_layout)\n",
    "\n",
    "\n",
    "    csv_file_path = f'data/{qc_name}/{rp_name}.csv'\n",
    "    directory = f'data/{qc_name}'\n",
    "    if not os.path.exists(directory):\n",
    "            os.makedirs(directory)\n",
    "\n",
    "       # Run the experiment and store the data\n",
    "    data_list = []\n",
    "    for qc_idx, qc in enumerate(qc_list):\n",
    "        data = transpiled_data(qc, pm)\n",
    "        data['routing pass'] = rp_name\n",
    "        data['layout pass'] = lp_name\n",
    "        data['coupling map'] = cp_name\n",
    "        data['circuit label'] = qc_idx\n",
    "        data_list.append(data)\n",
    "\n",
    "        print(f\"    Finished {qc_idx} for experiment {rp_name} and circuit {qc_name}\")\n",
    "    print(f\"Finished all for experiment {rp_name} and circuit {qc_name}\")\n",
    "    df = pd.DataFrame(data_list)\n",
    "    df.to_csv(csv_file_path, index=False)\n",
    "    print(f\"Saved to {csv_file_path}\")\n",
    "    print(\"*\"*50)\n",
    "    print(\"Finished all\")\n",
    "    \n",
    "\n",
    "    \n"
   ]
  },
  {
   "cell_type": "markdown",
   "metadata": {},
   "source": []
  }
 ],
 "metadata": {
  "kernelspec": {
   "display_name": "QiskitEnv",
   "language": "python",
   "name": "python3"
  },
  "language_info": {
   "codemirror_mode": {
    "name": "ipython",
    "version": 3
   },
   "file_extension": ".py",
   "mimetype": "text/x-python",
   "name": "python",
   "nbconvert_exporter": "python",
   "pygments_lexer": "ipython3",
   "version": "3.11.5"
  }
 },
 "nbformat": 4,
 "nbformat_minor": 2
}
