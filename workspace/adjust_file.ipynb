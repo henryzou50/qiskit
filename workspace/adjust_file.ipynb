{
 "cells": [
  {
   "cell_type": "code",
   "execution_count": 1,
   "metadata": {},
   "outputs": [],
   "source": [
    "import pandas as pd\n",
    "\n",
    "path = 'data/size5_depth_10-500/sabre_look_4_v020.csv'\n",
    "\n",
    "# Load the CSV file\n",
    "df = pd.read_csv(path)\n",
    "\n",
    "max_label = 10 * len(df)\n",
    "\n",
    "# Update the 'circuit label' column with steps of 10\n",
    "df['circuit label'] = range(10, max_label + 10, 10)\n",
    "\n",
    "# Save the updated DataFrame back to a CSV file\n",
    "df.to_csv(path, index=False)"
   ]
  },
  {
   "cell_type": "code",
   "execution_count": null,
   "metadata": {},
   "outputs": [],
   "source": []
  }
 ],
 "metadata": {
  "kernelspec": {
   "display_name": "QiskitEnv",
   "language": "python",
   "name": "python3"
  },
  "language_info": {
   "codemirror_mode": {
    "name": "ipython",
    "version": 3
   },
   "file_extension": ".py",
   "mimetype": "text/x-python",
   "name": "python",
   "nbconvert_exporter": "python",
   "pygments_lexer": "ipython3",
   "version": "3.11.5"
  }
 },
 "nbformat": 4,
 "nbformat_minor": 2
}
