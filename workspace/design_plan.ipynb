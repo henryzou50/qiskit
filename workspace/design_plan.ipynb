{
 "cells": [
  {
   "cell_type": "markdown",
   "metadata": {},
   "source": [
    "Mon Dec 18\n",
    "\n",
    "TODO\n",
    "- Reorganized notebooks\n",
    "    - Compress compare notebook [done]\n",
    "    - Make template notebook for running experiments [done] \n",
    "    - Make running Sabre 0.45, Sabre 0.20 basic, Sabre 0.20 lookahead altogether [done]\n",
    "- Consistency\n",
    "    - Find and fix why sabre 0.45 is better than 0.20 [done]\n",
    "        - Due to number of trials = CPU_COUNT [done]\n",
    "- Experiments\n",
    "    - Finish experiments for old sabres [done]\n",
    "    - Finish experiments for depth [done]\n",
    "    - Finish quick experiments for lookahead (keep beam the same) [done]\n",
    "    - Finish quick experiments for beam width (keep lookahead the same) [done]\n",
    "- Sabre heurstic\n",
    "    - Add method to finish the routing if we already found solution [done]\n"
   ]
  },
  {
   "cell_type": "markdown",
   "metadata": {},
   "source": [
    "Mon Dec 18\n",
    "\n",
    "TODO\n",
    "- Experiments\n",
    "    - Want graph of beam values vs depth (find optimal)\n",
    "        - beam values of 10, 20, 30, 40, 50, 60, 70, 80, 90, ... (lookahead 5)\n",
    "    - Want graph of lookahaed vs depth \n",
    "        - lookahead values of 1, 2, 3, 4, 5, 10, 15, 20, 25 (beam 10)\n",
    "    - Find out exhaustive \n",
    "\n",
    "- Sabre heurstic\n",
    "    - Find better heuristic\n",
    "\n",
    "- Sabre beam\n",
    "    - Implement sabre beam for 0.20\n",
    "    - Implement sabre beam for 0.45\n"
   ]
  }
 ],
 "metadata": {
  "kernelspec": {
   "display_name": "QiskitEnv",
   "language": "python",
   "name": "python3"
  },
  "language_info": {
   "name": "python",
   "version": "3.11.5"
  }
 },
 "nbformat": 4,
 "nbformat_minor": 2
}
