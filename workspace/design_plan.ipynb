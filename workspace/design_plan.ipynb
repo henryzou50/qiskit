{
 "cells": [
  {
   "cell_type": "code",
   "execution_count": null,
   "metadata": {
    "vscode": {
     "languageId": "plaintext"
    }
   },
   "outputs": [],
   "source": [
    "Mon Dec 18\n",
    "\n",
    "TODO\n",
    "- Reorganized notebooks\n",
    "    - Compress compare notebook [done]\n",
    "    - Make template notebook for running experiments \n",
    "    - Make running Sabre 0.45, Sabre 0.20 basic, Sabre 0.20 lookahead altogether [done]\n",
    "- Consistency\n",
    "    - Find and fix why sabre 0.45 is better than 0.20 [done]\n",
    "        - Due to number of trials = CPU_COUNT [done]\n",
    "- Experiments\n",
    "    - Finish experiments for old sabres [done]\n",
    "    - Finish experiments for depth [done]\n",
    "    - Finish experiments for lookahead (keep beam the same)\n",
    "    - Finish experiments for beam width (keep lookahead the same)\n",
    "- Sabre heurstic\n",
    "    - Add method to finish the routing if we already found solution\n",
    "    - Find better heurstic          "
   ]
  }
 ],
 "metadata": {
  "language_info": {
   "name": "python"
  }
 },
 "nbformat": 4,
 "nbformat_minor": 2
}
