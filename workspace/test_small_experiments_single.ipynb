{
 "cells": [
  {
   "cell_type": "markdown",
   "metadata": {},
   "source": [
    "This notebook tests a small set of experiments. It investigates the circuits from QVOL 5 qubits \n",
    "with depth from 1 to 10.\n",
    "\n",
    "The goal is to have the lookahead outperform the rest of the pass managers. "
   ]
  },
  {
   "cell_type": "code",
   "execution_count": 1,
   "metadata": {},
   "outputs": [],
   "source": [
    "from qiskit.transpiler.passes.routing.sabre_swap_v020_beam import SabreSwap as SabreSwap_v020\n",
    "from qiskit.transpiler.passes.layout.sabre_layout_v020 import SabreLayout as SabreLayout_v020\n",
    "from ulti.circuits import get_circuit_list, sort_circuits_by_depth\n",
    "from ulti.coupling_maps import file_to_coupling_map\n",
    "from ulti.pass_managers import build_pm\n",
    "import time"
   ]
  },
  {
   "cell_type": "markdown",
   "metadata": {},
   "source": [
    "Setting up circuits and transpiler passes"
   ]
  },
  {
   "cell_type": "code",
   "execution_count": 2,
   "metadata": {},
   "outputs": [],
   "source": [
    "qc_name = \"size5_depth_1-10\"\n",
    "cp_name = \"hex_7\"\n",
    "cm = file_to_coupling_map(f'coupling_maps/{cp_name}.txt')\n",
    "seed = 42\n",
    "\n",
    "fast_layout = True\n",
    "# pass manager for Sabre v0.20\n",
    "\n",
    "rp_v020 = SabreSwap_v020\n",
    "lp_v020 = SabreLayout_v020\n",
    "pm_v020 = build_pm(rp_v020, lp_v020, cm, seed=seed, fast_layout=fast_layout)\n",
    "\n",
    "qc_list = get_circuit_list([f'circuits/{qc_name}/'])\n",
    "qc_list = sort_circuits_by_depth(qc_list)\n",
    "# set qc_list to the the last circuit\n",
    "qc_list = qc_list[-1:]"
   ]
  },
  {
   "cell_type": "code",
   "execution_count": 3,
   "metadata": {},
   "outputs": [
    {
     "name": "stdout",
     "output_type": "stream",
     "text": [
      "Depth of the circuit 1: 9\n"
     ]
    }
   ],
   "source": [
    "# confirm the circuit depth is expected\n",
    "for i, qc in enumerate(qc_list):\n",
    "    print(f\"Depth of the circuit {i+1}:\", qc.decompose().depth())"
   ]
  },
  {
   "cell_type": "code",
   "execution_count": 4,
   "metadata": {},
   "outputs": [
    {
     "name": "stdout",
     "output_type": "stream",
     "text": [
      "Circuit 1:\n",
      "\n",
      "     ┌────────────┐              ┌────────────┐┌────────────┐┌────────────┐»\n",
      "q_0: ┤1           ├──────────────┤0           ├┤1           ├┤1           ├»\n",
      "     │            │              │            ││  Unitary_4 ││  Unitary_6 │»\n",
      "q_1: ┤            ├──────────────┤            ├┤0           ├┤0           ├»\n",
      "     │  Unitary_0 │┌────────────┐│  Unitary_2 │├────────────┤└────────────┘»\n",
      "q_2: ┤            ├┤0           ├┤            ├┤1           ├──────────────»\n",
      "     │            ││            ││            ││            │┌────────────┐»\n",
      "q_3: ┤0           ├┤  Unitary_1 ├┤1           ├┤  Unitary_3 ├┤0           ├»\n",
      "     └────────────┘│            │└────────────┘│            ││  Unitary_5 │»\n",
      "q_4: ──────────────┤1           ├──────────────┤0           ├┤1           ├»\n",
      "                   └────────────┘              └────────────┘└────────────┘»\n",
      "«     ┌────────────┐              ┌─────────────┐                              »\n",
      "«q_0: ┤1           ├──────────────┤0            ├──────────────────────────────»\n",
      "«     │  Unitary_9 │              │             │               ┌─────────────┐»\n",
      "«q_1: ┤0           ├──────────────┤             ├───────────────┤0            ├»\n",
      "«     ├────────────┤┌────────────┐│             │┌─────────────┐│  Unitary_12 │»\n",
      "«q_2: ┤0           ├┤1           ├┤  Unitary_11 ├┤0            ├┤1            ├»\n",
      "«     │            ││  Unitary_8 ││             ││  Unitary_10 │├─────────────┤»\n",
      "«q_3: ┤  Unitary_7 ├┤0           ├┤             ├┤1            ├┤1            ├»\n",
      "«     │            │└────────────┘│             │└─────────────┘│  Unitary_13 │»\n",
      "«q_4: ┤1           ├──────────────┤1            ├───────────────┤0            ├»\n",
      "«     └────────────┘              └─────────────┘               └─────────────┘»\n",
      "«     ┌─────────────┐               ┌─────────────┐               \n",
      "«q_0: ┤0            ├───────────────┤0            ├───────────────\n",
      "«     │             │               │             │┌─────────────┐\n",
      "«q_1: ┤             ├───────────────┤             ├┤0            ├\n",
      "«     │             │┌─────────────┐│             ││  Unitary_16 │\n",
      "«q_2: ┤  Unitary_15 ├┤1            ├┤  Unitary_17 ├┤1            ├\n",
      "«     │             ││  Unitary_14 ││             │└─────────────┘\n",
      "«q_3: ┤             ├┤0            ├┤             ├───────────────\n",
      "«     │             │└─────────────┘│             │               \n",
      "«q_4: ┤1            ├───────────────┤1            ├───────────────\n",
      "«     └─────────────┘               └─────────────┘               \n",
      "\n",
      "\n",
      "----------------------------------------------------------------------------------------------------\n"
     ]
    }
   ],
   "source": [
    "# draw each of the circuits\n",
    "for i, qc in enumerate(qc_list):\n",
    "    print(f\"Circuit {i+1}:\\n\")\n",
    "    print(qc.decompose().draw(output='text'))\n",
    "    print(\"\\n\")\n",
    "    print(\"-\"*100)"
   ]
  },
  {
   "cell_type": "code",
   "execution_count": 5,
   "metadata": {},
   "outputs": [
    {
     "name": "stdout",
     "output_type": "stream",
     "text": [
      "19\n",
      "22\n",
      "18\n",
      "22\n",
      "27\n",
      "25\n",
      "Depth after transpiled v0.20:                               10        Time taken:         0.02566 seconds\n",
      "----------------------------------------------------------------------------------------------------\n",
      "Average depth after transpiled v0.20:                       10.00000  \n"
     ]
    }
   ],
   "source": [
    "depths_20 = []\n",
    "\n",
    "# Loop through the circuits and run them through the pass managers\n",
    "for i, qc in enumerate(qc_list):\n",
    "    qc = qc.decompose()\n",
    "\n",
    "    # Transpile using v0.20\n",
    "    start_20 = time.time()\n",
    "    qc_tr_20 = pm_v020.run(qc)\n",
    "    end_20 = time.time()\n",
    "    duration_20 = end_20 - start_20\n",
    "    depth_20 = qc_tr_20.decompose([\"swap\"]).depth()\n",
    "    depths_20.append(depth_20)\n",
    "\n",
    "    # Print the depth and duration for each transpilation\n",
    "    print(f\"{'Depth after transpiled v0.20:':<60}{depth_20:<10}{'Time taken:':<20}{duration_20:.5f} seconds\")\n",
    "\n",
    "    print(\"-\"*100)\n",
    "\n",
    "# Print the average depth and duration for each transpilation\n",
    "print(f\"{'Average depth after transpiled v0.20:':<60}{sum(depths_20)/len(depths_20):<10.5f}\")"
   ]
  },
  {
   "cell_type": "code",
   "execution_count": 6,
   "metadata": {},
   "outputs": [
    {
     "name": "stderr",
     "output_type": "stream",
     "text": [
      "/Users/henryzou/Documents/GitHub/qiskit/qiskit/visualization/circuit/matplotlib.py:266: FutureWarning: The default matplotlib drawer scheme will be changed to \"iqp\" in a following release. To silence this warning, specify the current default explicitly as style=\"clifford\", or the new default as style=\"iqp\".\n",
      "  self._style, def_font_ratio = load_style(self._style)\n"
     ]
    },
    {
     "data": {
      "image/png": "[encoded data removed]",
      "text/plain": [
       "<Figure size 1792.5x451.5 with 1 Axes>"
      ]
     },
     "execution_count": 6,
     "metadata": {},
     "output_type": "execute_result"
    }
   ],
   "source": [
    "qc_tr_20.decompose([\"swap\"]).draw(output='mpl', idle_wires=False)"
   ]
  },
  {
   "cell_type": "code",
   "execution_count": 7,
   "metadata": {},
   "outputs": [
    {
     "data": {
      "text/plain": [
       "10"
      ]
     },
     "execution_count": 7,
     "metadata": {},
     "output_type": "execute_result"
    }
   ],
   "source": [
    "qc_tr_20.decompose([\"swap\"]).depth()"
   ]
  },
  {
   "cell_type": "code",
   "execution_count": null,
   "metadata": {},
   "outputs": [],
   "source": []
  }
 ],
 "metadata": {
  "kernelspec": {
   "display_name": "QiskitEnv",
   "language": "python",
   "name": "python3"
  },
  "language_info": {
   "codemirror_mode": {
    "name": "ipython",
    "version": 3
   },
   "file_extension": ".py",
   "mimetype": "text/x-python",
   "name": "python",
   "nbconvert_exporter": "python",
   "pygments_lexer": "ipython3",
   "version": "3.11.5"
  }
 },
 "nbformat": 4,
 "nbformat_minor": 2
}
