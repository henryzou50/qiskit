{
 "cells": [
  {
   "cell_type": "code",
   "execution_count": null,
   "metadata": {},
   "outputs": [],
   "source": [
    "from qiskit.transpiler.passes import SabreSwap, SabreLayout\n",
    "from ulti.circuits import get_circuit_list, sort_circuits_by_depth\n",
    "from ulti.coupling_maps import file_to_coupling_map\n",
    "from ulti.pass_managers import generate_pass_managers, transpiled_data\n",
    "import pandas as pd\n",
    "from ast import literal_eval\n",
    "import matplotlib.pyplot as plt\n",
    "import random\n",
    "random.seed(42)\n",
    "import os"
   ]
  },
  {
   "cell_type": "markdown",
   "metadata": {},
   "source": [
    "# Runs the experiment for SabreSwap v0.25 and SabreLayout v0.25\n"
   ]
  },
  {
   "cell_type": "code",
   "execution_count": null,
   "metadata": {},
   "outputs": [],
   "source": [
    "# Variables to change\n",
    "#qc_name = \"ghz_2-27\"\n",
    "qc_name = \"size5_depth_1-30\"\n",
    "\n",
    "experiment_name = \"sabre\"\n",
    "version = \"25\" # version for the routing pass after _v0.\n",
    "lp_name = \"sabre_0.25\"\n",
    "cp_name = \"hex_7\""
   ]
  },
  {
   "cell_type": "code",
   "execution_count": null,
   "metadata": {},
   "outputs": [],
   "source": [
    "num_shots = 5\n",
    "rp = SabreSwap\n",
    "lp = SabreLayout\n",
    "cm = file_to_coupling_map(f'coupling_maps/{cp_name}.txt')\n",
    "pm = generate_pass_managers(num_shots, rp, lp, cm)\n",
    "\n",
    "\n",
    "rp_name = experiment_name + \"_v0.\" + version\n",
    "qc_list = get_circuit_list([f'circuits/{qc_name}/'])\n",
    "qc_list = sort_circuits_by_depth(qc_list)\n",
    "# get first 26 circuits\n",
    "qc_list = qc_list[:26]\n",
    "\n",
    "csv_file_path = f'data/{qc_name}/{experiment_name}_v0{version}.csv'\n",
    "directory = f'data/{qc_name}'\n",
    "if not os.path.exists(directory):\n",
    "        os.makedirs(directory)"
   ]
  },
  {
   "cell_type": "code",
   "execution_count": null,
   "metadata": {},
   "outputs": [],
   "source": [
    "data_list = []\n",
    "for qc_idx, qc in enumerate(qc_list):\n",
    "    data = transpiled_data(qc, pm)\n",
    "    data['routing pass'] = rp_name\n",
    "    data['layout pass'] = lp_name\n",
    "    data['coupling map'] = cp_name\n",
    "    data['circuit label'] = qc_idx\n",
    "    data_list.append(data)\n",
    "\n",
    "    print(f\"Finished {qc_idx}\")\n",
    "print(\"Finished all\")"
   ]
  },
  {
   "cell_type": "code",
   "execution_count": null,
   "metadata": {},
   "outputs": [],
   "source": [
    "df = pd.DataFrame(data_list)\n",
    "df.to_csv(csv_file_path, index=False)\n",
    "df"
   ]
  },
  {
   "cell_type": "code",
   "execution_count": null,
   "metadata": {},
   "outputs": [],
   "source": [
    "data = pd.read_csv(csv_file_path)\n",
    "\n",
    "# Convert the string representation of dictionaries into actual dictionaries\n",
    "data['best_data'] = data['best_data'].apply(literal_eval)\n",
    "data['std_dev'] = data['std_dev'].apply(literal_eval)\n",
    "\n",
    "# Extract the data from the 'best_data' and 'std_dev' columns and add them to the DataFrame\n",
    "for col in ['depth', 'depth_ratio', 'time', 'cx_gates', 'num_gates']:\n",
    "    data[f\"best_{col}\"] = data['best_data'].apply(lambda x: x[col])\n",
    "    data[f\"std_dev_{col}\"] = data['std_dev'].apply(lambda x: x[col])\n",
    "\n",
    "metrics = [\n",
    "    (\"depth\", \"Depth\"),\n",
    "    (\"cx_gates\", \"CX Gates\"),\n",
    "    (\"num_gates\", \"Number of Gates\"),\n",
    "    (\"time\", \"Time\"),\n",
    "    (\"depth_ratio\", \"Depth Ratio\")\n",
    "]\n",
    "\n",
    "unique_routing_layout_combinations = data[['routing pass', 'layout pass']].drop_duplicates().values\n",
    "\n",
    "for metric, label in metrics:\n",
    "    plt.figure(figsize=(10, 6))\n",
    "    for routing_pass, layout_pass in unique_routing_layout_combinations:\n",
    "        subset = data[(data['routing pass'] == routing_pass) & (data['layout pass'] == layout_pass)]\n",
    "        plt.errorbar(subset['circuit label'], subset[f\"best_{metric}\"], yerr=subset[f\"std_dev_{metric}\"], fmt='o-', label=f'Routing: {routing_pass}, Layout: {layout_pass}')\n",
    "    plt.xlabel('Circuit Label')\n",
    "    plt.ylabel('Value')\n",
    "    plt.title(f'Comparison of Circuit {label} for Coupling Map: {data[\"coupling map\"].iloc[0]}')\n",
    "    plt.legend()\n",
    "    plt.grid(True, which='both', linestyle='--', linewidth=0.5)\n",
    "    plt.tight_layout()\n",
    "    #plt.savefig(f\"data/graphs/{qc_name}/{experiment_name}_v0{version}/{label.replace(' ', '_').lower()}.png\")\n",
    "    plt.show()\n",
    "    plt.close()"
   ]
  },
  {
   "cell_type": "markdown",
   "metadata": {},
   "source": []
  }
 ],
 "metadata": {
  "kernelspec": {
   "display_name": "QiskitEnv",
   "language": "python",
   "name": "python3"
  },
  "language_info": {
   "codemirror_mode": {
    "name": "ipython",
    "version": 3
   },
   "file_extension": ".py",
   "mimetype": "text/x-python",
   "name": "python",
   "nbconvert_exporter": "python",
   "pygments_lexer": "ipython3",
   "version": "3.11.5"
  }
 },
 "nbformat": 4,
 "nbformat_minor": 2
}
