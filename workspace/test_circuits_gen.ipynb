{
 "cells": [
  {
   "cell_type": "markdown",
   "metadata": {},
   "source": [
    "This notebook tests how we generate the circutis for the transpiler experiments\n",
    "\n",
    "For the transpiler experiments, we need to test a variety of circuits. However, it is difficult to know and create a list of quantum circuits to benchmark as many quantum circuits are vastly different from each other. To simplify our testing, we will conduct experimenets based on two types of quantum circuits: \n",
    "- GHZ circuits \n",
    "- Quantum volume circuits (https://arxiv.org/pdf/1811.12926.pdf)\n",
    "\n",
    "The GHZ circuits represent a commonly used quantum circuit, and has a structure of a series of linear CNOTs. \n",
    "\n",
    "The Quantum volume circutis represent a random instances of circuits used for benchmark testing."
   ]
  },
  {
   "cell_type": "code",
   "execution_count": 1,
   "metadata": {},
   "outputs": [
    {
     "name": "stderr",
     "output_type": "stream",
     "text": [
      "/Users/henryzou/anaconda3/envs/QiskitEnv/lib/python3.11/site-packages/numpy/linalg/linalg.py:2180: RuntimeWarning: divide by zero encountered in det\n",
      "  r = _umath_linalg.det(a, signature=signature)\n",
      "/Users/henryzou/anaconda3/envs/QiskitEnv/lib/python3.11/site-packages/numpy/linalg/linalg.py:2180: RuntimeWarning: invalid value encountered in det\n",
      "  r = _umath_linalg.det(a, signature=signature)\n"
     ]
    },
    {
     "name": "stdout",
     "output_type": "stream",
     "text": [
      "Stored Quantum Volume circuit for size 10 and depth 5 at                             circuits/size10_depth_5-100/qv_size10_depth5_seed42.qasm with seed 42\n",
      "Stored Quantum Volume circuit for size 10 and depth 5 at                             circuits/size10_depth_5-100/qv_size10_depth5_seed43.qasm with seed 43\n",
      "Stored Quantum Volume circuit for size 10 and depth 5 at                             circuits/size10_depth_5-100/qv_size10_depth5_seed44.qasm with seed 44\n",
      "Stored Quantum Volume circuit for size 10 and depth 5 at                             circuits/size10_depth_5-100/qv_size10_depth5_seed45.qasm with seed 45\n",
      "Stored Quantum Volume circuit for size 10 and depth 5 at                             circuits/size10_depth_5-100/qv_size10_depth5_seed46.qasm with seed 46\n",
      "Stored Quantum Volume circuit for size 10 and depth 10 at                             circuits/size10_depth_5-100/qv_size10_depth10_seed42.qasm with seed 42\n",
      "Stored Quantum Volume circuit for size 10 and depth 10 at                             circuits/size10_depth_5-100/qv_size10_depth10_seed43.qasm with seed 43\n",
      "Stored Quantum Volume circuit for size 10 and depth 10 at                             circuits/size10_depth_5-100/qv_size10_depth10_seed44.qasm with seed 44\n",
      "Stored Quantum Volume circuit for size 10 and depth 10 at                             circuits/size10_depth_5-100/qv_size10_depth10_seed45.qasm with seed 45\n",
      "Stored Quantum Volume circuit for size 10 and depth 10 at                             circuits/size10_depth_5-100/qv_size10_depth10_seed46.qasm with seed 46\n",
      "Stored Quantum Volume circuit for size 10 and depth 15 at                             circuits/size10_depth_5-100/qv_size10_depth15_seed42.qasm with seed 42\n",
      "Stored Quantum Volume circuit for size 10 and depth 15 at                             circuits/size10_depth_5-100/qv_size10_depth15_seed43.qasm with seed 43\n",
      "Stored Quantum Volume circuit for size 10 and depth 15 at                             circuits/size10_depth_5-100/qv_size10_depth15_seed44.qasm with seed 44\n",
      "Stored Quantum Volume circuit for size 10 and depth 15 at                             circuits/size10_depth_5-100/qv_size10_depth15_seed45.qasm with seed 45\n",
      "Stored Quantum Volume circuit for size 10 and depth 15 at                             circuits/size10_depth_5-100/qv_size10_depth15_seed46.qasm with seed 46\n",
      "Stored Quantum Volume circuit for size 10 and depth 20 at                             circuits/size10_depth_5-100/qv_size10_depth20_seed42.qasm with seed 42\n",
      "Stored Quantum Volume circuit for size 10 and depth 20 at                             circuits/size10_depth_5-100/qv_size10_depth20_seed43.qasm with seed 43\n",
      "Stored Quantum Volume circuit for size 10 and depth 20 at                             circuits/size10_depth_5-100/qv_size10_depth20_seed44.qasm with seed 44\n",
      "Stored Quantum Volume circuit for size 10 and depth 20 at                             circuits/size10_depth_5-100/qv_size10_depth20_seed45.qasm with seed 45\n",
      "Stored Quantum Volume circuit for size 10 and depth 20 at                             circuits/size10_depth_5-100/qv_size10_depth20_seed46.qasm with seed 46\n",
      "Stored Quantum Volume circuit for size 10 and depth 25 at                             circuits/size10_depth_5-100/qv_size10_depth25_seed42.qasm with seed 42\n",
      "Stored Quantum Volume circuit for size 10 and depth 25 at                             circuits/size10_depth_5-100/qv_size10_depth25_seed43.qasm with seed 43\n",
      "Stored Quantum Volume circuit for size 10 and depth 25 at                             circuits/size10_depth_5-100/qv_size10_depth25_seed44.qasm with seed 44\n",
      "Stored Quantum Volume circuit for size 10 and depth 25 at                             circuits/size10_depth_5-100/qv_size10_depth25_seed45.qasm with seed 45\n",
      "Stored Quantum Volume circuit for size 10 and depth 25 at                             circuits/size10_depth_5-100/qv_size10_depth25_seed46.qasm with seed 46\n",
      "Stored Quantum Volume circuit for size 10 and depth 30 at                             circuits/size10_depth_5-100/qv_size10_depth30_seed42.qasm with seed 42\n",
      "Stored Quantum Volume circuit for size 10 and depth 30 at                             circuits/size10_depth_5-100/qv_size10_depth30_seed43.qasm with seed 43\n",
      "Stored Quantum Volume circuit for size 10 and depth 30 at                             circuits/size10_depth_5-100/qv_size10_depth30_seed44.qasm with seed 44\n",
      "Stored Quantum Volume circuit for size 10 and depth 30 at                             circuits/size10_depth_5-100/qv_size10_depth30_seed45.qasm with seed 45\n",
      "Stored Quantum Volume circuit for size 10 and depth 30 at                             circuits/size10_depth_5-100/qv_size10_depth30_seed46.qasm with seed 46\n",
      "Stored Quantum Volume circuit for size 10 and depth 35 at                             circuits/size10_depth_5-100/qv_size10_depth35_seed42.qasm with seed 42\n",
      "Stored Quantum Volume circuit for size 10 and depth 35 at                             circuits/size10_depth_5-100/qv_size10_depth35_seed43.qasm with seed 43\n",
      "Stored Quantum Volume circuit for size 10 and depth 35 at                             circuits/size10_depth_5-100/qv_size10_depth35_seed44.qasm with seed 44\n",
      "Stored Quantum Volume circuit for size 10 and depth 35 at                             circuits/size10_depth_5-100/qv_size10_depth35_seed45.qasm with seed 45\n",
      "Stored Quantum Volume circuit for size 10 and depth 35 at                             circuits/size10_depth_5-100/qv_size10_depth35_seed46.qasm with seed 46\n",
      "Stored Quantum Volume circuit for size 10 and depth 40 at                             circuits/size10_depth_5-100/qv_size10_depth40_seed42.qasm with seed 42\n",
      "Stored Quantum Volume circuit for size 10 and depth 40 at                             circuits/size10_depth_5-100/qv_size10_depth40_seed43.qasm with seed 43\n",
      "Stored Quantum Volume circuit for size 10 and depth 40 at                             circuits/size10_depth_5-100/qv_size10_depth40_seed44.qasm with seed 44\n",
      "Stored Quantum Volume circuit for size 10 and depth 40 at                             circuits/size10_depth_5-100/qv_size10_depth40_seed45.qasm with seed 45\n",
      "Stored Quantum Volume circuit for size 10 and depth 40 at                             circuits/size10_depth_5-100/qv_size10_depth40_seed46.qasm with seed 46\n",
      "Stored Quantum Volume circuit for size 10 and depth 45 at                             circuits/size10_depth_5-100/qv_size10_depth45_seed42.qasm with seed 42\n",
      "Stored Quantum Volume circuit for size 10 and depth 45 at                             circuits/size10_depth_5-100/qv_size10_depth45_seed43.qasm with seed 43\n",
      "Stored Quantum Volume circuit for size 10 and depth 45 at                             circuits/size10_depth_5-100/qv_size10_depth45_seed44.qasm with seed 44\n",
      "Stored Quantum Volume circuit for size 10 and depth 45 at                             circuits/size10_depth_5-100/qv_size10_depth45_seed45.qasm with seed 45\n",
      "Stored Quantum Volume circuit for size 10 and depth 45 at                             circuits/size10_depth_5-100/qv_size10_depth45_seed46.qasm with seed 46\n",
      "Stored Quantum Volume circuit for size 10 and depth 50 at                             circuits/size10_depth_5-100/qv_size10_depth50_seed42.qasm with seed 42\n",
      "Stored Quantum Volume circuit for size 10 and depth 50 at                             circuits/size10_depth_5-100/qv_size10_depth50_seed43.qasm with seed 43\n",
      "Stored Quantum Volume circuit for size 10 and depth 50 at                             circuits/size10_depth_5-100/qv_size10_depth50_seed44.qasm with seed 44\n",
      "Stored Quantum Volume circuit for size 10 and depth 50 at                             circuits/size10_depth_5-100/qv_size10_depth50_seed45.qasm with seed 45\n",
      "Stored Quantum Volume circuit for size 10 and depth 50 at                             circuits/size10_depth_5-100/qv_size10_depth50_seed46.qasm with seed 46\n",
      "Stored Quantum Volume circuit for size 10 and depth 55 at                             circuits/size10_depth_5-100/qv_size10_depth55_seed42.qasm with seed 42\n",
      "Stored Quantum Volume circuit for size 10 and depth 55 at                             circuits/size10_depth_5-100/qv_size10_depth55_seed43.qasm with seed 43\n",
      "Stored Quantum Volume circuit for size 10 and depth 55 at                             circuits/size10_depth_5-100/qv_size10_depth55_seed44.qasm with seed 44\n",
      "Stored Quantum Volume circuit for size 10 and depth 55 at                             circuits/size10_depth_5-100/qv_size10_depth55_seed45.qasm with seed 45\n",
      "Stored Quantum Volume circuit for size 10 and depth 55 at                             circuits/size10_depth_5-100/qv_size10_depth55_seed46.qasm with seed 46\n",
      "Stored Quantum Volume circuit for size 10 and depth 60 at                             circuits/size10_depth_5-100/qv_size10_depth60_seed42.qasm with seed 42\n",
      "Stored Quantum Volume circuit for size 10 and depth 60 at                             circuits/size10_depth_5-100/qv_size10_depth60_seed43.qasm with seed 43\n",
      "Stored Quantum Volume circuit for size 10 and depth 60 at                             circuits/size10_depth_5-100/qv_size10_depth60_seed44.qasm with seed 44\n",
      "Stored Quantum Volume circuit for size 10 and depth 60 at                             circuits/size10_depth_5-100/qv_size10_depth60_seed45.qasm with seed 45\n",
      "Stored Quantum Volume circuit for size 10 and depth 60 at                             circuits/size10_depth_5-100/qv_size10_depth60_seed46.qasm with seed 46\n",
      "Stored Quantum Volume circuit for size 10 and depth 65 at                             circuits/size10_depth_5-100/qv_size10_depth65_seed42.qasm with seed 42\n",
      "Stored Quantum Volume circuit for size 10 and depth 65 at                             circuits/size10_depth_5-100/qv_size10_depth65_seed43.qasm with seed 43\n",
      "Stored Quantum Volume circuit for size 10 and depth 65 at                             circuits/size10_depth_5-100/qv_size10_depth65_seed44.qasm with seed 44\n",
      "Stored Quantum Volume circuit for size 10 and depth 65 at                             circuits/size10_depth_5-100/qv_size10_depth65_seed45.qasm with seed 45\n",
      "Stored Quantum Volume circuit for size 10 and depth 65 at                             circuits/size10_depth_5-100/qv_size10_depth65_seed46.qasm with seed 46\n",
      "Stored Quantum Volume circuit for size 10 and depth 70 at                             circuits/size10_depth_5-100/qv_size10_depth70_seed42.qasm with seed 42\n",
      "Stored Quantum Volume circuit for size 10 and depth 70 at                             circuits/size10_depth_5-100/qv_size10_depth70_seed43.qasm with seed 43\n",
      "Stored Quantum Volume circuit for size 10 and depth 70 at                             circuits/size10_depth_5-100/qv_size10_depth70_seed44.qasm with seed 44\n",
      "Stored Quantum Volume circuit for size 10 and depth 70 at                             circuits/size10_depth_5-100/qv_size10_depth70_seed45.qasm with seed 45\n",
      "Stored Quantum Volume circuit for size 10 and depth 70 at                             circuits/size10_depth_5-100/qv_size10_depth70_seed46.qasm with seed 46\n",
      "Stored Quantum Volume circuit for size 10 and depth 75 at                             circuits/size10_depth_5-100/qv_size10_depth75_seed42.qasm with seed 42\n",
      "Stored Quantum Volume circuit for size 10 and depth 75 at                             circuits/size10_depth_5-100/qv_size10_depth75_seed43.qasm with seed 43\n",
      "Stored Quantum Volume circuit for size 10 and depth 75 at                             circuits/size10_depth_5-100/qv_size10_depth75_seed44.qasm with seed 44\n",
      "Stored Quantum Volume circuit for size 10 and depth 75 at                             circuits/size10_depth_5-100/qv_size10_depth75_seed45.qasm with seed 45\n",
      "Stored Quantum Volume circuit for size 10 and depth 75 at                             circuits/size10_depth_5-100/qv_size10_depth75_seed46.qasm with seed 46\n",
      "Stored Quantum Volume circuit for size 10 and depth 80 at                             circuits/size10_depth_5-100/qv_size10_depth80_seed42.qasm with seed 42\n",
      "Stored Quantum Volume circuit for size 10 and depth 80 at                             circuits/size10_depth_5-100/qv_size10_depth80_seed43.qasm with seed 43\n",
      "Stored Quantum Volume circuit for size 10 and depth 80 at                             circuits/size10_depth_5-100/qv_size10_depth80_seed44.qasm with seed 44\n",
      "Stored Quantum Volume circuit for size 10 and depth 80 at                             circuits/size10_depth_5-100/qv_size10_depth80_seed45.qasm with seed 45\n",
      "Stored Quantum Volume circuit for size 10 and depth 80 at                             circuits/size10_depth_5-100/qv_size10_depth80_seed46.qasm with seed 46\n",
      "Stored Quantum Volume circuit for size 10 and depth 85 at                             circuits/size10_depth_5-100/qv_size10_depth85_seed42.qasm with seed 42\n",
      "Stored Quantum Volume circuit for size 10 and depth 85 at                             circuits/size10_depth_5-100/qv_size10_depth85_seed43.qasm with seed 43\n",
      "Stored Quantum Volume circuit for size 10 and depth 85 at                             circuits/size10_depth_5-100/qv_size10_depth85_seed44.qasm with seed 44\n",
      "Stored Quantum Volume circuit for size 10 and depth 85 at                             circuits/size10_depth_5-100/qv_size10_depth85_seed45.qasm with seed 45\n",
      "Stored Quantum Volume circuit for size 10 and depth 85 at                             circuits/size10_depth_5-100/qv_size10_depth85_seed46.qasm with seed 46\n",
      "Stored Quantum Volume circuit for size 10 and depth 90 at                             circuits/size10_depth_5-100/qv_size10_depth90_seed42.qasm with seed 42\n",
      "Stored Quantum Volume circuit for size 10 and depth 90 at                             circuits/size10_depth_5-100/qv_size10_depth90_seed43.qasm with seed 43\n",
      "Stored Quantum Volume circuit for size 10 and depth 90 at                             circuits/size10_depth_5-100/qv_size10_depth90_seed44.qasm with seed 44\n",
      "Stored Quantum Volume circuit for size 10 and depth 90 at                             circuits/size10_depth_5-100/qv_size10_depth90_seed45.qasm with seed 45\n",
      "Stored Quantum Volume circuit for size 10 and depth 90 at                             circuits/size10_depth_5-100/qv_size10_depth90_seed46.qasm with seed 46\n",
      "Stored Quantum Volume circuit for size 10 and depth 95 at                             circuits/size10_depth_5-100/qv_size10_depth95_seed42.qasm with seed 42\n",
      "Stored Quantum Volume circuit for size 10 and depth 95 at                             circuits/size10_depth_5-100/qv_size10_depth95_seed43.qasm with seed 43\n",
      "Stored Quantum Volume circuit for size 10 and depth 95 at                             circuits/size10_depth_5-100/qv_size10_depth95_seed44.qasm with seed 44\n",
      "Stored Quantum Volume circuit for size 10 and depth 95 at                             circuits/size10_depth_5-100/qv_size10_depth95_seed45.qasm with seed 45\n",
      "Stored Quantum Volume circuit for size 10 and depth 95 at                             circuits/size10_depth_5-100/qv_size10_depth95_seed46.qasm with seed 46\n"
     ]
    }
   ],
   "source": [
    "from ulti.circuits import generate_and_store_ghz_circuits, generate_and_store_qv_circuits, get_circuit_list\n",
    "generate_and_store_qv_circuits()"
   ]
  },
  {
   "cell_type": "markdown",
   "metadata": {},
   "source": [
    "Creating list of ghz circuits from 2 qubits to 127 qubits"
   ]
  },
  {
   "cell_type": "code",
   "execution_count": null,
   "metadata": {},
   "outputs": [],
   "source": [
    "generate_and_store_ghz_circuits(2,127)"
   ]
  },
  {
   "cell_type": "markdown",
   "metadata": {},
   "source": [
    "Visualize one of the ghz circuit"
   ]
  },
  {
   "cell_type": "code",
   "execution_count": null,
   "metadata": {},
   "outputs": [],
   "source": [
    "ghz = get_circuit_list(['circuits/ghz_2-27'])\n",
    "ghz[3].draw(output='mpl')"
   ]
  },
  {
   "cell_type": "markdown",
   "metadata": {},
   "source": [
    "Creating of quantum volume circuits"
   ]
  },
  {
   "cell_type": "code",
   "execution_count": null,
   "metadata": {},
   "outputs": [],
   "source": [
    "generate_and_store_qv_circuits()"
   ]
  },
  {
   "cell_type": "code",
   "execution_count": null,
   "metadata": {},
   "outputs": [],
   "source": [
    "qv = get_circuit_list(['circuits/size10_depth_10-30'])"
   ]
  },
  {
   "cell_type": "code",
   "execution_count": null,
   "metadata": {},
   "outputs": [],
   "source": [
    "qv[0].decompose().draw(output='mpl')"
   ]
  },
  {
   "cell_type": "code",
   "execution_count": null,
   "metadata": {},
   "outputs": [],
   "source": []
  }
 ],
 "metadata": {
  "kernelspec": {
   "display_name": "QiskitEnv",
   "language": "python",
   "name": "python3"
  },
  "language_info": {
   "codemirror_mode": {
    "name": "ipython",
    "version": 3
   },
   "file_extension": ".py",
   "mimetype": "text/x-python",
   "name": "python",
   "nbconvert_exporter": "python",
   "pygments_lexer": "ipython3",
   "version": "3.11.5"
  }
 },
 "nbformat": 4,
 "nbformat_minor": 2
}
