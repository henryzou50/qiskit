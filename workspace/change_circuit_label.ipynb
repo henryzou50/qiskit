{
 "cells": [
  {
   "cell_type": "markdown",
   "metadata": {},
   "source": [
    "# "
   ]
  },
  {
   "cell_type": "markdown",
   "metadata": {},
   "source": [
    "This notebook changes the circuit label, so that the circuit label can be used to represent \n",
    "something else, like the `num_qubits` of the circuit or `orig_depth` of circuit"
   ]
  },
  {
   "cell_type": "code",
   "execution_count": 1,
   "metadata": {},
   "outputs": [],
   "source": [
    "import pandas as pd"
   ]
  },
  {
   "cell_type": "code",
   "execution_count": 11,
   "metadata": {},
   "outputs": [],
   "source": [
    "# path to update\n",
    "\n",
    "path = 'data/size5_depth_10-500/sabre_look_9_v020.csv'\n",
    "\n",
    "df = pd.read_csv(path)\n",
    "max_label = 10 * len(df)\n",
    "# Updates for orig_depth\n",
    "df['circuit label'] = range(10, max_label + 10, 10)\n",
    "\n",
    "# Save the updated DataFrame back to a CSV file\n",
    "df.to_csv(path, index=False)"
   ]
  },
  {
   "cell_type": "markdown",
   "metadata": {},
   "source": []
  }
 ],
 "metadata": {
  "kernelspec": {
   "display_name": "QiskitEnv",
   "language": "python",
   "name": "python3"
  },
  "language_info": {
   "codemirror_mode": {
    "name": "ipython",
    "version": 3
   },
   "file_extension": ".py",
   "mimetype": "text/x-python",
   "name": "python",
   "nbconvert_exporter": "python",
   "pygments_lexer": "ipython3",
   "version": "3.11.5"
  }
 },
 "nbformat": 4,
 "nbformat_minor": 2
}
