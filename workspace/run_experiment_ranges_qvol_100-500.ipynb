{
 "cells": [
  {
   "cell_type": "markdown",
   "metadata": {},
   "source": [
    "This notebook runs the experiment for lookahead steps 100 to 500 for the large QVOL circuits. \n",
    "\n",
    "The goal is the have `lookahead` to beat the other passes in terms of depth, especially as the `lookahead_steps` increases. \n",
    "\n",
    "Since layout can heavily influence the depth of QVOL circuits, we will run these experiments with the most recent SabreLayout. "
   ]
  },
  {
   "cell_type": "code",
   "execution_count": 1,
   "metadata": {},
   "outputs": [],
   "source": [
    "from qiskit.transpiler.passes.routing.sabre_swap_v020_lookahead import SabreSwap\n",
    "from qiskit.transpiler.passes.layout.sabre_layout_v020 import SabreLayout\n",
    "from ulti.circuits import get_circuit_list, sort_circuits_by_depth\n",
    "from ulti.coupling_maps import file_to_coupling_map\n",
    "from ulti.pass_managers import generate_pass_managers, transpiled_data\n",
    "import pandas as pd\n",
    "from ast import literal_eval\n",
    "import matplotlib.pyplot as plt\n",
    "import random\n",
    "random.seed(42)\n",
    "import os"
   ]
  },
  {
   "cell_type": "code",
   "execution_count": 2,
   "metadata": {},
   "outputs": [],
   "source": [
    "qc_name = \"size5_depth_100-500\"\n",
    "cp_name = \"hex_7\"\n",
    "\n",
    "version = \"20\" # version for the routing pass after _v0.\n",
    "lp_name = \"sabre_0.20\"\n",
    "num_shots = 5\n",
    "rp = SabreSwap\n",
    "lp = SabreLayout\n",
    "cm = file_to_coupling_map(f'coupling_maps/{cp_name}.txt')\n",
    "qc_list = get_circuit_list([f'circuits/{qc_name}/'])\n",
    "qc_list = sort_circuits_by_depth(qc_list)\n",
    "\n",
    "fast_layout = True"
   ]
  },
  {
   "cell_type": "code",
   "execution_count": 3,
   "metadata": {},
   "outputs": [
    {
     "name": "stdout",
     "output_type": "stream",
     "text": [
      "Finished 0\n",
      "Finished 1\n"
     ]
    }
   ],
   "source": [
    "for lookahead in range(10, 101, 10):\n",
    "    experiment_name = f\"sabre_look_{lookahead}\"\n",
    "\n",
    "    pm = generate_pass_managers(num_shots, rp, lp, cm, lookahead=lookahead, fast_layout=fast_layout)\n",
    "    rp_name = experiment_name + \"_v0.\" + version\n",
    "\n",
    "    csv_file_path = f'data/{qc_name}/{experiment_name}_v0{version}.csv'\n",
    "    directory = f'data/{qc_name}'\n",
    "    if not os.path.exists(directory):\n",
    "            os.makedirs(directory)\n",
    "\n",
    "    data_list = []\n",
    "    for qc_idx, qc in enumerate(qc_list):\n",
    "        data = transpiled_data(qc, pm)\n",
    "        data['routing pass'] = rp_name\n",
    "        data['layout pass'] = lp_name\n",
    "        data['coupling map'] = cp_name\n",
    "        data['circuit label'] = qc_idx\n",
    "        data_list.append(data)\n",
    "\n",
    "        print(f\"Finished {qc_idx}\")\n",
    "    print(\"Finished all\")\n",
    "\n",
    "    df = pd.DataFrame(data_list)\n",
    "    df.to_csv(csv_file_path, index=False)\n",
    "\n"
   ]
  }
 ],
 "metadata": {
  "kernelspec": {
   "display_name": "QiskitEnv",
   "language": "python",
   "name": "python3"
  },
  "language_info": {
   "codemirror_mode": {
    "name": "ipython",
    "version": 3
   },
   "file_extension": ".py",
   "mimetype": "text/x-python",
   "name": "python",
   "nbconvert_exporter": "python",
   "pygments_lexer": "ipython3",
   "version": "3.11.5"
  }
 },
 "nbformat": 4,
 "nbformat_minor": 2
}
