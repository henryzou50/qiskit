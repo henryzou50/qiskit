{
 "cells": [
  {
   "cell_type": "markdown",
   "metadata": {},
   "source": [
    "This notebook runs the experiment for lookahead steps 100 to 500 for the large QVOL circuits. \n",
    "\n",
    "The goal is the have `lookahead` to beat the other passes in terms of depth, especially as the `lookahead_steps` increases. \n",
    "\n",
    "Since layout can heavily influence the depth of QVOL circuits, we will run these experiments with the most recent SabreLayout. "
   ]
  },
  {
   "cell_type": "code",
   "execution_count": 1,
   "metadata": {},
   "outputs": [],
   "source": [
    "from qiskit.transpiler.passes.routing.sabre_swap_v020_lookahead import SabreSwap\n",
    "from qiskit.transpiler.passes.layout.sabre_layout_v020 import SabreLayout\n",
    "from ulti.circuits import get_circuit_list, sort_circuits_by_depth\n",
    "from ulti.coupling_maps import file_to_coupling_map\n",
    "from ulti.pass_managers import generate_pass_managers, transpiled_data\n",
    "import pandas as pd\n",
    "import random\n",
    "random.seed(42)\n",
    "import os"
   ]
  },
  {
   "cell_type": "code",
   "execution_count": 2,
   "metadata": {},
   "outputs": [],
   "source": [
    "qc_name = \"size5_depth_100-500\"\n",
    "cp_name = \"hex_7\"\n",
    "\n",
    "version = \"20\" # version for the routing pass after _v0.\n",
    "lp_name = \"sabre_0.20\"\n",
    "num_shots = 1\n",
    "rp = SabreSwap\n",
    "lp = SabreLayout\n",
    "cm = file_to_coupling_map(f'coupling_maps/{cp_name}.txt')\n",
    "qc_list = get_circuit_list([f'circuits/{qc_name}/'])\n",
    "qc_list = sort_circuits_by_depth(qc_list)\n",
    "\n",
    "fast_layout = True"
   ]
  },
  {
   "cell_type": "code",
   "execution_count": 3,
   "metadata": {},
   "outputs": [
    {
     "name": "stdout",
     "output_type": "stream",
     "text": [
      "Finished 0\n",
      "Finished 1\n",
      "Finished all\n",
      "Finished 0\n"
     ]
    },
    {
     "ename": "KeyboardInterrupt",
     "evalue": "",
     "output_type": "error",
     "traceback": [
      "\u001b[0;31m---------------------------------------------------------------------------\u001b[0m",
      "\u001b[0;31mKeyboardInterrupt\u001b[0m                         Traceback (most recent call last)",
      "\u001b[1;32m/Users/henryzou/Documents/GitHub/qiskit/workspace/run_experiment_ranges_qvol_100-500.ipynb Cell 4\u001b[0m line \u001b[0;36m1\n\u001b[1;32m     <a href='vscode-notebook-cell:/Users/henryzou/Documents/GitHub/qiskit/workspace/run_experiment_ranges_qvol_100-500.ipynb#W3sZmlsZQ%3D%3D?line=11'>12</a>\u001b[0m data_list \u001b[39m=\u001b[39m []\n\u001b[1;32m     <a href='vscode-notebook-cell:/Users/henryzou/Documents/GitHub/qiskit/workspace/run_experiment_ranges_qvol_100-500.ipynb#W3sZmlsZQ%3D%3D?line=12'>13</a>\u001b[0m \u001b[39mfor\u001b[39;00m qc_idx, qc \u001b[39min\u001b[39;00m \u001b[39menumerate\u001b[39m(qc_list):\n\u001b[0;32m---> <a href='vscode-notebook-cell:/Users/henryzou/Documents/GitHub/qiskit/workspace/run_experiment_ranges_qvol_100-500.ipynb#W3sZmlsZQ%3D%3D?line=13'>14</a>\u001b[0m     data \u001b[39m=\u001b[39m transpiled_data(qc, pm)\n\u001b[1;32m     <a href='vscode-notebook-cell:/Users/henryzou/Documents/GitHub/qiskit/workspace/run_experiment_ranges_qvol_100-500.ipynb#W3sZmlsZQ%3D%3D?line=14'>15</a>\u001b[0m     data[\u001b[39m'\u001b[39m\u001b[39mrouting pass\u001b[39m\u001b[39m'\u001b[39m] \u001b[39m=\u001b[39m rp_name\n\u001b[1;32m     <a href='vscode-notebook-cell:/Users/henryzou/Documents/GitHub/qiskit/workspace/run_experiment_ranges_qvol_100-500.ipynb#W3sZmlsZQ%3D%3D?line=15'>16</a>\u001b[0m     data[\u001b[39m'\u001b[39m\u001b[39mlayout pass\u001b[39m\u001b[39m'\u001b[39m] \u001b[39m=\u001b[39m lp_name\n",
      "File \u001b[0;32m~/Documents/GitHub/qiskit/workspace/ulti/pass_managers.py:119\u001b[0m, in \u001b[0;36mtranspiled_data\u001b[0;34m(qc, pass_managers)\u001b[0m\n\u001b[1;32m    117\u001b[0m \u001b[39mfor\u001b[39;00m pm \u001b[39min\u001b[39;00m pass_managers:\n\u001b[1;32m    118\u001b[0m     time_start \u001b[39m=\u001b[39m time\u001b[39m.\u001b[39mtime()\n\u001b[0;32m--> 119\u001b[0m     qc_tr \u001b[39m=\u001b[39m pm\u001b[39m.\u001b[39;49mrun(qc)\n\u001b[1;32m    120\u001b[0m     time_end \u001b[39m=\u001b[39m time\u001b[39m.\u001b[39mtime()\n\u001b[1;32m    121\u001b[0m     time_elapsed \u001b[39m=\u001b[39m time_end \u001b[39m-\u001b[39m time_start\n",
      "File \u001b[0;32m~/Documents/GitHub/qiskit/qiskit/transpiler/passmanager.py:551\u001b[0m, in \u001b[0;36m_replace_error.<locals>.wrapper\u001b[0;34m(*meth_args, **meth_kwargs)\u001b[0m\n\u001b[1;32m    548\u001b[0m \u001b[39m@wraps\u001b[39m(meth)\n\u001b[1;32m    549\u001b[0m \u001b[39mdef\u001b[39;00m \u001b[39mwrapper\u001b[39m(\u001b[39m*\u001b[39mmeth_args, \u001b[39m*\u001b[39m\u001b[39m*\u001b[39mmeth_kwargs):\n\u001b[1;32m    550\u001b[0m     \u001b[39mtry\u001b[39;00m:\n\u001b[0;32m--> 551\u001b[0m         \u001b[39mreturn\u001b[39;00m meth(\u001b[39m*\u001b[39;49mmeth_args, \u001b[39m*\u001b[39;49m\u001b[39m*\u001b[39;49mmeth_kwargs)\n\u001b[1;32m    552\u001b[0m     \u001b[39mexcept\u001b[39;00m PassManagerError \u001b[39mas\u001b[39;00m ex:\n\u001b[1;32m    553\u001b[0m         \u001b[39mraise\u001b[39;00m TranspilerError(ex\u001b[39m.\u001b[39mmessage) \u001b[39mfrom\u001b[39;00m \u001b[39mex\u001b[39;00m\n",
      "File \u001b[0;32m~/Documents/GitHub/qiskit/qiskit/transpiler/passmanager.py:291\u001b[0m, in \u001b[0;36mPassManager.run\u001b[0;34m(self, circuits, output_name, callback)\u001b[0m\n\u001b[1;32m    288\u001b[0m \u001b[39mif\u001b[39;00m callback \u001b[39mis\u001b[39;00m \u001b[39mnot\u001b[39;00m \u001b[39mNone\u001b[39;00m:\n\u001b[1;32m    289\u001b[0m     callback \u001b[39m=\u001b[39m _legacy_style_callback(callback)\n\u001b[0;32m--> 291\u001b[0m \u001b[39mreturn\u001b[39;00m \u001b[39msuper\u001b[39;49m()\u001b[39m.\u001b[39;49mrun(\n\u001b[1;32m    292\u001b[0m     in_programs\u001b[39m=\u001b[39;49mcircuits,\n\u001b[1;32m    293\u001b[0m     callback\u001b[39m=\u001b[39;49mcallback,\n\u001b[1;32m    294\u001b[0m     output_name\u001b[39m=\u001b[39;49moutput_name,\n\u001b[1;32m    295\u001b[0m )\n",
      "File \u001b[0;32m~/Documents/GitHub/qiskit/qiskit/passmanager/passmanager.py:222\u001b[0m, in \u001b[0;36mBasePassManager.run\u001b[0;34m(self, in_programs, callback, **kwargs)\u001b[0m\n\u001b[1;32m    219\u001b[0m     is_list \u001b[39m=\u001b[39m \u001b[39mFalse\u001b[39;00m\n\u001b[1;32m    221\u001b[0m \u001b[39mif\u001b[39;00m \u001b[39mlen\u001b[39m(in_programs) \u001b[39m==\u001b[39m \u001b[39m1\u001b[39m:\n\u001b[0;32m--> 222\u001b[0m     out_program \u001b[39m=\u001b[39m _run_workflow(\n\u001b[1;32m    223\u001b[0m         program\u001b[39m=\u001b[39;49min_programs[\u001b[39m0\u001b[39;49m],\n\u001b[1;32m    224\u001b[0m         pass_manager\u001b[39m=\u001b[39;49m\u001b[39mself\u001b[39;49m,\n\u001b[1;32m    225\u001b[0m         callback\u001b[39m=\u001b[39;49mcallback,\n\u001b[1;32m    226\u001b[0m         \u001b[39m*\u001b[39;49m\u001b[39m*\u001b[39;49mkwargs,\n\u001b[1;32m    227\u001b[0m     )\n\u001b[1;32m    228\u001b[0m     \u001b[39mif\u001b[39;00m is_list:\n\u001b[1;32m    229\u001b[0m         \u001b[39mreturn\u001b[39;00m [out_program]\n",
      "File \u001b[0;32m~/Documents/GitHub/qiskit/qiskit/passmanager/passmanager.py:284\u001b[0m, in \u001b[0;36m_run_workflow\u001b[0;34m(program, pass_manager, **kwargs)\u001b[0m\n\u001b[1;32m    278\u001b[0m initial_status \u001b[39m=\u001b[39m WorkflowStatus()\n\u001b[1;32m    280\u001b[0m passmanager_ir \u001b[39m=\u001b[39m pass_manager\u001b[39m.\u001b[39m_passmanager_frontend(\n\u001b[1;32m    281\u001b[0m     input_program\u001b[39m=\u001b[39mprogram,\n\u001b[1;32m    282\u001b[0m     \u001b[39m*\u001b[39m\u001b[39m*\u001b[39mkwargs,\n\u001b[1;32m    283\u001b[0m )\n\u001b[0;32m--> 284\u001b[0m passmanager_ir, _ \u001b[39m=\u001b[39m flow_controller\u001b[39m.\u001b[39;49mexecute(\n\u001b[1;32m    285\u001b[0m     passmanager_ir\u001b[39m=\u001b[39;49mpassmanager_ir,\n\u001b[1;32m    286\u001b[0m     state\u001b[39m=\u001b[39;49mPassManagerState(\n\u001b[1;32m    287\u001b[0m         workflow_status\u001b[39m=\u001b[39;49minitial_status,\n\u001b[1;32m    288\u001b[0m         property_set\u001b[39m=\u001b[39;49mpass_manager\u001b[39m.\u001b[39;49mproperty_set,\n\u001b[1;32m    289\u001b[0m     ),\n\u001b[1;32m    290\u001b[0m     callback\u001b[39m=\u001b[39;49mkwargs\u001b[39m.\u001b[39;49mget(\u001b[39m\"\u001b[39;49m\u001b[39mcallback\u001b[39;49m\u001b[39m\"\u001b[39;49m, \u001b[39mNone\u001b[39;49;00m),\n\u001b[1;32m    291\u001b[0m )\n\u001b[1;32m    292\u001b[0m out_program \u001b[39m=\u001b[39m pass_manager\u001b[39m.\u001b[39m_passmanager_backend(\n\u001b[1;32m    293\u001b[0m     passmanager_ir\u001b[39m=\u001b[39mpassmanager_ir,\n\u001b[1;32m    294\u001b[0m     in_program\u001b[39m=\u001b[39mprogram,\n\u001b[1;32m    295\u001b[0m     \u001b[39m*\u001b[39m\u001b[39m*\u001b[39mkwargs,\n\u001b[1;32m    296\u001b[0m )\n\u001b[1;32m    298\u001b[0m \u001b[39mreturn\u001b[39;00m out_program\n",
      "File \u001b[0;32m~/Documents/GitHub/qiskit/qiskit/transpiler/runningpassmanager.py:161\u001b[0m, in \u001b[0;36m_replace_error.<locals>.wrapper\u001b[0;34m(*meth_args, **meth_kwargs)\u001b[0m\n\u001b[1;32m    158\u001b[0m \u001b[39m@wraps\u001b[39m(meth)\n\u001b[1;32m    159\u001b[0m \u001b[39mdef\u001b[39;00m \u001b[39mwrapper\u001b[39m(\u001b[39m*\u001b[39mmeth_args, \u001b[39m*\u001b[39m\u001b[39m*\u001b[39mmeth_kwargs):\n\u001b[1;32m    160\u001b[0m     \u001b[39mtry\u001b[39;00m:\n\u001b[0;32m--> 161\u001b[0m         \u001b[39mreturn\u001b[39;00m meth(\u001b[39m*\u001b[39;49mmeth_args, \u001b[39m*\u001b[39;49m\u001b[39m*\u001b[39;49mmeth_kwargs)\n\u001b[1;32m    162\u001b[0m     \u001b[39mexcept\u001b[39;00m PassManagerError \u001b[39mas\u001b[39;00m ex:\n\u001b[1;32m    163\u001b[0m         \u001b[39mraise\u001b[39;00m TranspilerError(ex\u001b[39m.\u001b[39mmessage) \u001b[39mfrom\u001b[39;00m \u001b[39mex\u001b[39;00m\n",
      "File \u001b[0;32m~/Documents/GitHub/qiskit/qiskit/passmanager/base_tasks.py:218\u001b[0m, in \u001b[0;36mBaseController.execute\u001b[0;34m(self, passmanager_ir, state, callback)\u001b[0m\n\u001b[1;32m    216\u001b[0m     \u001b[39mreturn\u001b[39;00m passmanager_ir, state\n\u001b[1;32m    217\u001b[0m \u001b[39mwhile\u001b[39;00m \u001b[39mTrue\u001b[39;00m:\n\u001b[0;32m--> 218\u001b[0m     passmanager_ir, state \u001b[39m=\u001b[39m next_task\u001b[39m.\u001b[39;49mexecute(\n\u001b[1;32m    219\u001b[0m         passmanager_ir\u001b[39m=\u001b[39;49mpassmanager_ir,\n\u001b[1;32m    220\u001b[0m         state\u001b[39m=\u001b[39;49mstate,\n\u001b[1;32m    221\u001b[0m         callback\u001b[39m=\u001b[39;49mcallback,\n\u001b[1;32m    222\u001b[0m     )\n\u001b[1;32m    223\u001b[0m     \u001b[39mtry\u001b[39;00m:\n\u001b[1;32m    224\u001b[0m         \u001b[39m# Sending the object through the generator implies the custom controllers\u001b[39;00m\n\u001b[1;32m    225\u001b[0m         \u001b[39m# can always rely on the latest data to choose the next task to run.\u001b[39;00m\n\u001b[1;32m    226\u001b[0m         next_task \u001b[39m=\u001b[39m task_generator\u001b[39m.\u001b[39msend(state)\n",
      "File \u001b[0;32m~/Documents/GitHub/qiskit/qiskit/transpiler/basepasses.py:195\u001b[0m, in \u001b[0;36mTransformationPass.execute\u001b[0;34m(self, passmanager_ir, state, callback)\u001b[0m\n\u001b[1;32m    189\u001b[0m \u001b[39mdef\u001b[39;00m \u001b[39mexecute\u001b[39m(\n\u001b[1;32m    190\u001b[0m     \u001b[39mself\u001b[39m,\n\u001b[1;32m    191\u001b[0m     passmanager_ir: PassManagerIR,\n\u001b[1;32m    192\u001b[0m     state: PassManagerState,\n\u001b[1;32m    193\u001b[0m     callback: Callable \u001b[39m=\u001b[39m \u001b[39mNone\u001b[39;00m,\n\u001b[1;32m    194\u001b[0m ) \u001b[39m-\u001b[39m\u001b[39m>\u001b[39m \u001b[39mtuple\u001b[39m[PassManagerIR, PassManagerState]:\n\u001b[0;32m--> 195\u001b[0m     new_dag, state \u001b[39m=\u001b[39m \u001b[39msuper\u001b[39;49m()\u001b[39m.\u001b[39;49mexecute(\n\u001b[1;32m    196\u001b[0m         passmanager_ir\u001b[39m=\u001b[39;49mpassmanager_ir,\n\u001b[1;32m    197\u001b[0m         state\u001b[39m=\u001b[39;49mstate,\n\u001b[1;32m    198\u001b[0m         callback\u001b[39m=\u001b[39;49mcallback,\n\u001b[1;32m    199\u001b[0m     )\n\u001b[1;32m    201\u001b[0m     \u001b[39mif\u001b[39;00m state\u001b[39m.\u001b[39mworkflow_status\u001b[39m.\u001b[39mprevious_run \u001b[39m==\u001b[39m RunState\u001b[39m.\u001b[39mSUCCESS:\n\u001b[1;32m    202\u001b[0m         \u001b[39mif\u001b[39;00m \u001b[39misinstance\u001b[39m(new_dag, DAGCircuit):\n\u001b[1;32m    203\u001b[0m             \u001b[39m# Copy calibration data from the original program\u001b[39;00m\n",
      "File \u001b[0;32m~/Documents/GitHub/qiskit/qiskit/passmanager/base_tasks.py:98\u001b[0m, in \u001b[0;36mGenericPass.execute\u001b[0;34m(self, passmanager_ir, state, callback)\u001b[0m\n\u001b[1;32m     96\u001b[0m \u001b[39mtry\u001b[39;00m:\n\u001b[1;32m     97\u001b[0m     \u001b[39mif\u001b[39;00m \u001b[39mself\u001b[39m \u001b[39mnot\u001b[39;00m \u001b[39min\u001b[39;00m state\u001b[39m.\u001b[39mworkflow_status\u001b[39m.\u001b[39mcompleted_passes:\n\u001b[0;32m---> 98\u001b[0m         ret \u001b[39m=\u001b[39m \u001b[39mself\u001b[39;49m\u001b[39m.\u001b[39;49mrun(passmanager_ir)\n\u001b[1;32m     99\u001b[0m         run_state \u001b[39m=\u001b[39m RunState\u001b[39m.\u001b[39mSUCCESS\n\u001b[1;32m    100\u001b[0m     \u001b[39melse\u001b[39;00m:\n",
      "File \u001b[0;32m~/Documents/GitHub/qiskit/qiskit/transpiler/passes/routing/sabre_swap_v020_lookahead.py:306\u001b[0m, in \u001b[0;36mSabreSwap.run\u001b[0;34m(self, dag)\u001b[0m\n\u001b[1;32m    301\u001b[0m         queue\u001b[39m.\u001b[39mappend((trial_front_layer, trial_layout, trial_swap_sequence, trial_predecessors, trial_gates_order,\n\u001b[1;32m    302\u001b[0m                       trial_score_front, trial_gates_to_execute, trial_all_gates, step \u001b[39m+\u001b[39m \u001b[39m1\u001b[39m))\n\u001b[1;32m    303\u001b[0m \u001b[39m# reached the end of the lookahead, now we score what we have\u001b[39;00m\n\u001b[1;32m    304\u001b[0m \u001b[39melse\u001b[39;00m:\n\u001b[1;32m    305\u001b[0m     \u001b[39m# calculate lookahead score\u001b[39;00m\n\u001b[0;32m--> 306\u001b[0m     curr_depth \u001b[39m=\u001b[39m calculate_circuit_depth(gates_order)\n\u001b[1;32m    307\u001b[0m     score_depth \u001b[39m=\u001b[39m curr_depth \u001b[39m-\u001b[39m prev_depth\n\u001b[1;32m    309\u001b[0m     \u001b[39m# calculate gate score\u001b[39;00m\n",
      "File \u001b[0;32m~/Documents/GitHub/qiskit/qiskit/transpiler/passes/routing/sabre_swap_v020_lookahead.py:528\u001b[0m, in \u001b[0;36mcalculate_circuit_depth\u001b[0;34m(gates)\u001b[0m\n\u001b[1;32m    523\u001b[0m depths \u001b[39m=\u001b[39m {node: \u001b[39m0\u001b[39m \u001b[39mfor\u001b[39;00m node \u001b[39min\u001b[39;00m nodes} \n\u001b[1;32m    525\u001b[0m \u001b[39mfor\u001b[39;00m gate \u001b[39min\u001b[39;00m gates:\n\u001b[1;32m    526\u001b[0m     \n\u001b[1;32m    527\u001b[0m     \u001b[39m# Get the max depth of the two qubits in this gate\u001b[39;00m\n\u001b[0;32m--> 528\u001b[0m     depth \u001b[39m=\u001b[39m \u001b[39mmax\u001b[39;49m(depths[gate[\u001b[39m0\u001b[39;49m]], depths[gate[\u001b[39m1\u001b[39;49m]])\n\u001b[1;32m    530\u001b[0m     \u001b[39m# Increment the depth by 1\u001b[39;00m\n\u001b[1;32m    531\u001b[0m     depth \u001b[39m+\u001b[39m\u001b[39m=\u001b[39m \u001b[39m1\u001b[39m\n",
      "\u001b[0;31mKeyboardInterrupt\u001b[0m: "
     ]
    }
   ],
   "source": [
    "for lookahead in range(5, 36, 10):\n",
    "    experiment_name = f\"sabre_look_{lookahead}\"\n",
    "\n",
    "    pm = generate_pass_managers(num_shots, rp, lp, cm, lookahead=lookahead, fast_layout=fast_layout)\n",
    "    rp_name = experiment_name + \"_v0.\" + version\n",
    "\n",
    "    csv_file_path = f'data/{qc_name}/{experiment_name}_v0{version}.csv'\n",
    "    directory = f'data/{qc_name}'\n",
    "    if not os.path.exists(directory):\n",
    "            os.makedirs(directory)\n",
    "\n",
    "    data_list = []\n",
    "    for qc_idx, qc in enumerate(qc_list):\n",
    "        data = transpiled_data(qc, pm)\n",
    "        data['routing pass'] = rp_name\n",
    "        data['layout pass'] = lp_name\n",
    "        data['coupling map'] = cp_name\n",
    "        data['circuit label'] = qc_idx\n",
    "        data_list.append(data)\n",
    "\n",
    "        print(f\"Finished {qc_idx}\")\n",
    "    print(\"Finished all\")\n",
    "\n",
    "    df = pd.DataFrame(data_list)\n",
    "    df.to_csv(csv_file_path, index=False)\n",
    "\n"
   ]
  }
 ],
 "metadata": {
  "kernelspec": {
   "display_name": "QiskitEnv",
   "language": "python",
   "name": "python3"
  },
  "language_info": {
   "codemirror_mode": {
    "name": "ipython",
    "version": 3
   },
   "file_extension": ".py",
   "mimetype": "text/x-python",
   "name": "python",
   "nbconvert_exporter": "python",
   "pygments_lexer": "ipython3",
   "version": "3.11.5"
  }
 },
 "nbformat": 4,
 "nbformat_minor": 2
}
