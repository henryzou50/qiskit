{
 "cells": [
  {
   "cell_type": "markdown",
   "metadata": {},
   "source": [
    "This code runs the experiment for SabreSwap v0.25 and SabreLayout v0.25\n"
   ]
  },
  {
   "cell_type": "code",
   "execution_count": 1,
   "metadata": {},
   "outputs": [],
   "source": [
    "from qiskit.transpiler.passes.routing.sabre_swap_v020_lookahead   import SabreSwap   as SabreSwap_v020\n",
    "from qiskit.transpiler.passes.layout.sabre_layout                 import SabreLayout as SabreLayout_v045\n",
    "from qiskit.transpiler.passes.layout.sabre_layout_v020            import SabreLayout as SabreLayout_v020\n",
    "from ulti.circuits import get_circuit_list, sort_circuits_by_depth\n",
    "from ulti.coupling_maps import file_to_coupling_map\n",
    "from ulti.pass_managers import generate_pass_managers, transpiled_data\n",
    "import pandas as pd\n",
    "import random\n",
    "random.seed(42)\n",
    "import os"
   ]
  },
  {
   "cell_type": "code",
   "execution_count": 2,
   "metadata": {},
   "outputs": [
    {
     "name": "stdout",
     "output_type": "stream",
     "text": [
      "Running experiment for the circuits: ghz_100\n"
     ]
    }
   ],
   "source": [
    "# Option to keep the layout inital layout the same for faster transpilation\n",
    "fast_layout = False\n",
    "num_shots = 5\n",
    "qc_name = \"ghz_100\"\n",
    "cp_name = \"hex_127\"\n",
    "print(f\"Running experiment for the circuits: {qc_name}\")\n",
    "qc_list = get_circuit_list([f'circuits/{qc_name}/'])\n",
    "qc_list = sort_circuits_by_depth(qc_list)\n",
    "\n",
    "csv_file_path = f'data/{qc_name}/sabre_v020_beam.csv'\n",
    "directory = f'data/{qc_name}'\n",
    "if not os.path.exists(directory):\n",
    "        os.makedirs(directory)"
   ]
  },
  {
   "cell_type": "code",
   "execution_count": 3,
   "metadata": {},
   "outputs": [
    {
     "name": "stdout",
     "output_type": "stream",
     "text": [
      "Running experiment for look 2\n",
      "    Finished 0 for experiment sabre_v020_look_001_beam_010 and circuit ghz_100\n",
      "Finished all for experiment sabre_v020_look_001_beam_010 and circuit ghz_100\n",
      "Saved to data/ghz_100/sabre_v020_beam.csv\n",
      "**************************************************\n",
      "Running experiment for look 2\n",
      "    Finished 0 for experiment sabre_v020_look_002_beam_010 and circuit ghz_100\n",
      "Finished all for experiment sabre_v020_look_002_beam_010 and circuit ghz_100\n",
      "Saved to data/ghz_100/sabre_v020_beam.csv\n",
      "**************************************************\n"
     ]
    }
   ],
   "source": [
    "# Test beam_width from 1\n",
    "lookaheads = list(range(1, 100))\n",
    "beam = 10\n",
    "all_data_df = pd.DataFrame()\n",
    "for look in lookaheads:\n",
    "    print(f\"Running experiment for look {beam}\")\n",
    "    # Experiment for Sabre v0.20 with lookahead heuristic\n",
    "    # set beam to max integer\n",
    "    lp_name = \"sabre_v020\"\n",
    "    if beam < 10:\n",
    "        rp_name = f\"sabre_v020_look_00{look}_beam_010\"\n",
    "    elif beam < 100:\n",
    "        rp_name = f\"sabre_v020_look_0{look}_beam_010\"\n",
    "    else:\n",
    "        rp_name = f\"sabre_v020_look_{look}_beam_010\"\n",
    "\n",
    "    rp = SabreSwap_v020\n",
    "    lp = SabreLayout_v020\n",
    "    cm = file_to_coupling_map(f'coupling_maps/{cp_name}.txt')\n",
    "    pm = generate_pass_managers(num_shots, rp, lp, cm, beam_width = beam, lookahead = look,\n",
    "                                fast_layout=fast_layout)\n",
    "\n",
    "    for qc_idx, qc in enumerate(qc_list):\n",
    "        data = transpiled_data(qc, pm)\n",
    "        data['routing pass'] = rp_name\n",
    "        data['layout pass'] = lp_name\n",
    "        data['coupling map'] = cp_name\n",
    "        data['circuit label'] = qc_idx\n",
    "        data['beam width'] = beam\n",
    "        data['look ahead'] = look\n",
    "        \n",
    "        # Create a DataFrame from the current data and append it to the all_data_df\n",
    "        current_data_df = pd.DataFrame([data])\n",
    "        all_data_df = pd.concat([all_data_df, current_data_df])\n",
    "\n",
    "        # Append the current data to the CSV file\n",
    "        with open(csv_file_path, 'a') as f:\n",
    "            current_data_df.to_csv(f, header=f.tell()==0, index=False)\n",
    "\n",
    "        print(f\"    Finished {qc_idx} for experiment {rp_name} and circuit {qc_name}\")\n",
    "\n",
    "    print(f\"Finished all for experiment {rp_name} and circuit {qc_name}\")\n",
    "    print(f\"Saved to {csv_file_path}\")\n",
    "    print(\"*\" * 50)\n",
    "    \n",
    "\n",
    "    \n"
   ]
  },
  {
   "cell_type": "markdown",
   "metadata": {},
   "source": []
  }
 ],
 "metadata": {
  "kernelspec": {
   "display_name": "QiskitEnv",
   "language": "python",
   "name": "python3"
  },
  "language_info": {
   "codemirror_mode": {
    "name": "ipython",
    "version": 3
   },
   "file_extension": ".py",
   "mimetype": "text/x-python",
   "name": "python",
   "nbconvert_exporter": "python",
   "pygments_lexer": "ipython3",
   "version": "3.11.4"
  }
 },
 "nbformat": 4,
 "nbformat_minor": 2
}
