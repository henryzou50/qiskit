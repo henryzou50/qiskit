{
 "cells": [
  {
   "cell_type": "code",
   "execution_count": 3,
   "metadata": {},
   "outputs": [],
   "source": [
    "from experiments.utils.circuits import directory_to_circuits, rename_circuits"
   ]
  },
  {
   "cell_type": "code",
   "execution_count": null,
   "metadata": {},
   "outputs": [],
   "source": [
    "source_directory = \"experiments/circuits/red_queen_all/\"\n",
    "target_directory = \"experiments/circuits/red_queen/\"\n",
    "\n",
    "circuits = directory_to_circuits(source_directory)\n",
    "circuits = rename_circuits(circuits, target_directory)"
   ]
  }
 ],
 "metadata": {
  "kernelspec": {
   "display_name": "qiskit-sabre",
   "language": "python",
   "name": "python3"
  },
  "language_info": {
   "codemirror_mode": {
    "name": "ipython",
    "version": 3
   },
   "file_extension": ".py",
   "mimetype": "text/x-python",
   "name": "python",
   "nbconvert_exporter": "python",
   "pygments_lexer": "ipython3",
   "version": "3.11.4"
  }
 },
 "nbformat": 4,
 "nbformat_minor": 2
}
