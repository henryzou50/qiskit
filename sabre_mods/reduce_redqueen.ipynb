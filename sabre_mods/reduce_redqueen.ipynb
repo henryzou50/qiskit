{
 "cells": [
  {
   "cell_type": "markdown",
   "metadata": {},
   "source": [
    "Process to reduce the red queen to include the circuits that have depth from 10 to 10000 and qubits <= 27"
   ]
  },
  {
   "cell_type": "code",
   "execution_count": 37,
   "metadata": {},
   "outputs": [],
   "source": [
    "from experiments.utils.circuits import directory_to_circuits, rename_circuits\n",
    "from qiskit.qasm2 import dump\n",
    "from qiskit import transpile"
   ]
  },
  {
   "cell_type": "code",
   "execution_count": 3,
   "metadata": {},
   "outputs": [],
   "source": [
    "source_directory = \"experiments/circuits/red_queen_all/\"\n",
    "target_directory = \"experiments/circuits/red_queen/\"\n",
    "\n",
    "circuits, files = directory_to_circuits(source_directory)\n",
    "circuits = rename_circuits(circuits, files)"
   ]
  },
  {
   "cell_type": "code",
   "execution_count": 7,
   "metadata": {},
   "outputs": [],
   "source": [
    "# Get the regular circuits in the list (defined as circuits with less than 10000 depth)\n",
    "regular_circuits = []\n",
    "for circuit in circuits:\n",
    "    if circuit.depth() < 10000:\n",
    "        regular_circuits.append(circuit)"
   ]
  },
  {
   "cell_type": "code",
   "execution_count": 9,
   "metadata": {},
   "outputs": [],
   "source": [
    "# Get the circuits that have 27 qubits or less\n",
    "regular_circuits_27 = []\n",
    "for circuit in regular_circuits:\n",
    "    if circuit.num_qubits <= 27:\n",
    "        regular_circuits_27.append(circuit)"
   ]
  },
  {
   "cell_type": "code",
   "execution_count": 30,
   "metadata": {},
   "outputs": [
    {
     "name": "stdout",
     "output_type": "stream",
     "text": [
      "Circuit depth:  2\n",
      "Circuit depth:  5\n",
      "Circuit depth:  4\n",
      "Circuit depth:  8\n",
      "Circuit depth:  23\n",
      "Circuit depth:  6\n",
      "Circuit depth:  10\n",
      "Circuit depth:  5\n",
      "Circuit depth:  158\n",
      "Circuit depth:  30\n",
      "Circuit depth:  10\n",
      "Circuit depth:  2\n",
      "Circuit depth:  8\n",
      "Circuit depth:  12\n",
      "Circuit depth:  5\n",
      "Circuit depth:  12\n",
      "Circuit depth:  13\n",
      "Circuit depth:  54\n",
      "Circuit depth:  6\n",
      "Circuit depth:  18\n",
      "Circuit depth:  12\n",
      "Circuit depth:  11\n",
      "Circuit depth:  10\n",
      "Circuit depth:  7\n",
      "Circuit depth:  6\n",
      "Circuit depth:  43\n",
      "Circuit depth:  6\n",
      "Circuit depth:  96\n",
      "Circuit depth:  28\n",
      "Circuit depth:  15\n",
      "Circuit depth:  103\n",
      "Circuit depth:  103\n",
      "Circuit depth:  39\n",
      "Circuit depth:  22\n",
      "Circuit depth:  23\n",
      "Circuit depth:  25\n",
      "Circuit depth:  85\n",
      "Circuit depth:  24\n",
      "Circuit depth:  82\n",
      "Circuit depth:  10\n",
      "Circuit depth:  85\n",
      "Circuit depth:  149\n",
      "Circuit depth:  82\n",
      "Circuit depth:  4\n",
      "Circuit depth:  16\n",
      "Circuit depth:  16\n",
      "Circuit depth:  65\n",
      "Circuit depth:  39\n",
      "Circuit depth:  26\n",
      "Circuit depth:  21\n",
      "Circuit depth:  139\n",
      "Circuit depth:  229\n",
      "Circuit depth:  12\n",
      "Circuit depth:  73\n",
      "Circuit depth:  133\n",
      "Circuit depth:  224\n",
      "Circuit depth:  388\n",
      "Circuit depth:  78\n",
      "Circuit depth:  54\n",
      "Circuit depth:  55\n",
      "Circuit depth:  128\n",
      "Circuit depth:  86\n",
      "Circuit depth:  10\n",
      "Circuit depth:  68\n",
      "Circuit depth:  42\n",
      "Circuit depth:  1192\n",
      "Circuit depth:  360\n",
      "Circuit depth:  134\n",
      "Circuit depth:  98\n",
      "Circuit depth:  734\n",
      "Circuit depth:  1325\n",
      "Circuit depth:  98\n",
      "Circuit depth:  1466\n",
      "Circuit depth:  6451\n",
      "Total depth of the circuits:  15221\n"
     ]
    }
   ],
   "source": [
    "# Get the decomposed circuits\n",
    "circuits_decomposed = []\n",
    "total_depth = 0\n",
    "for circuit in regular_circuits_27:\n",
    "    #qc_tr = circuit.decompose()\n",
    "    qc_tr = transpile(circuit, basis_gates=['u', 'cx'])\n",
    "    depth = qc_tr.depth()\n",
    "    print(\"Circuit depth: \", depth)\n",
    "\n",
    "    circuits_decomposed.append(qc_tr)\n",
    "    total_depth += depth\n",
    "\n",
    "\n",
    "print(\"Total depth of the circuits: \", total_depth)\n"
   ]
  },
  {
   "cell_type": "code",
   "execution_count": 32,
   "metadata": {},
   "outputs": [],
   "source": [
    "# check the 2 qubit gates depth of the circuits, and get the ones that have a depth of 10 or more\n",
    "\n",
    "valid_circuits = []\n",
    "for circuit in circuits_decomposed:\n",
    "    if circuit.depth(lambda x: x.operation.num_qubits == 2) >= 10:\n",
    "        valid_circuits.append(circuit)"
   ]
  },
  {
   "cell_type": "code",
   "execution_count": 34,
   "metadata": {},
   "outputs": [
    {
     "name": "stdout",
     "output_type": "stream",
     "text": [
      "Number of valid circuits:  48\n"
     ]
    }
   ],
   "source": [
    "print(\"Number of valid circuits: \", len(valid_circuits))"
   ]
  },
  {
   "cell_type": "code",
   "execution_count": 38,
   "metadata": {},
   "outputs": [
    {
     "name": "stdout",
     "output_type": "stream",
     "text": [
      "Circuit  qft_n4.qasm  stored in  experiments/circuits/red_queen/qft_n4.qasm\n",
      "Circuit  grover.qasm  stored in  experiments/circuits/red_queen/grover.qasm\n",
      "Circuit  qpe.qasm  stored in  experiments/circuits/red_queen/qpe.qasm\n",
      "Circuit  shor_n5.qasm  stored in  experiments/circuits/red_queen/shor_n5.qasm\n",
      "Circuit  multiply_n13.qasm  stored in  experiments/circuits/red_queen/multiply_n13.qasm\n",
      "Circuit  adder_n10.qasm  stored in  experiments/circuits/red_queen/adder_n10.qasm\n",
      "Circuit  simon_n6.qasm  stored in  experiments/circuits/red_queen/simon_n6.qasm\n",
      "Circuit  qec_en_n5.qasm  stored in  experiments/circuits/red_queen/qec_en_n5.qasm\n",
      "Circuit  knn_n25.qasm  stored in  experiments/circuits/red_queen/knn_n25.qasm\n",
      "Circuit  swap_test_n25.qasm  stored in  experiments/circuits/red_queen/swap_test_n25.qasm\n",
      "Circuit  ipe.qasm  stored in  experiments/circuits/red_queen/ipe.qasm\n",
      "Circuit  basis_change_n3.qasm  stored in  experiments/circuits/red_queen/basis_change_n3.qasm\n",
      "Circuit  cat_state_n22.qasm  stored in  experiments/circuits/red_queen/cat_state_n22.qasm\n",
      "Circuit  bv_mcm.qasm  stored in  experiments/circuits/red_queen/bv_mcm.qasm\n",
      "Circuit  sat_n7.qasm  stored in  experiments/circuits/red_queen/sat_n7.qasm\n",
      "Circuit  ghz_state_n23.qasm  stored in  experiments/circuits/red_queen/ghz_state_n23.qasm\n",
      "Circuit  pea_n5.qasm  stored in  experiments/circuits/red_queen/pea_n5.qasm\n",
      "Circuit  qpe_n9.qasm  stored in  experiments/circuits/red_queen/qpe_n9.qasm\n",
      "Circuit  bigadder_n18.qasm  stored in  experiments/circuits/red_queen/bigadder_n18.qasm\n",
      "Circuit  ipea_n2.qasm  stored in  experiments/circuits/red_queen/ipea_n2.qasm\n",
      "Circuit  bv_n14.qasm  stored in  experiments/circuits/red_queen/bv_n14.qasm\n",
      "Circuit  qec9xz_n17.qasm  stored in  experiments/circuits/red_queen/qec9xz_n17.qasm\n",
      "Circuit  ft_2.qasm  stored in  experiments/circuits/red_queen/ft_2.qasm\n",
      "Circuit  cc_n12.qasm  stored in  experiments/circuits/red_queen/cc_n12.qasm\n",
      "Circuit  variational_n4.qasm  stored in  experiments/circuits/red_queen/variational_n4.qasm\n",
      "Circuit  bv_n19.qasm  stored in  experiments/circuits/red_queen/bv_n19.qasm\n",
      "Circuit  qram_n20.qasm  stored in  experiments/circuits/red_queen/qram_n20.qasm\n",
      "Circuit  multiplier_n15.qasm  stored in  experiments/circuits/red_queen/multiplier_n15.qasm\n",
      "Circuit  seca_n11.qasm  stored in  experiments/circuits/red_queen/seca_n11.qasm\n",
      "Circuit  ft_1.qasm  stored in  experiments/circuits/red_queen/ft_1.qasm\n",
      "Circuit  qf21_n15.qasm  stored in  experiments/circuits/red_queen/qf21_n15.qasm\n",
      "Circuit  sat_n11.qasm  stored in  experiments/circuits/red_queen/sat_n11.qasm\n",
      "Circuit  error_correctiond3_n5.qasm  stored in  experiments/circuits/red_queen/error_correctiond3_n5.qasm\n",
      "Circuit  basis_test_n4.qasm  stored in  experiments/circuits/red_queen/basis_test_n4.qasm\n",
      "Circuit  wstate_n27.qasm  stored in  experiments/circuits/red_queen/wstate_n27.qasm\n",
      "Circuit  vqe_uccsd_n4.qasm  stored in  experiments/circuits/red_queen/vqe_uccsd_n4.qasm\n",
      "Circuit  dnn_n2.qasm  stored in  experiments/circuits/red_queen/dnn_n2.qasm\n",
      "Circuit  qaoa_n6.qasm  stored in  experiments/circuits/red_queen/qaoa_n6.qasm\n",
      "Circuit  ising_n10.qasm  stored in  experiments/circuits/red_queen/ising_n10.qasm\n",
      "Circuit  square_root_n18.qasm  stored in  experiments/circuits/red_queen/square_root_n18.qasm\n",
      "Circuit  hhl_n7.qasm  stored in  experiments/circuits/red_queen/hhl_n7.qasm\n",
      "Circuit  qft_n18.qasm  stored in  experiments/circuits/red_queen/qft_n18.qasm\n",
      "Circuit  dnn_n8.qasm  stored in  experiments/circuits/red_queen/dnn_n8.qasm\n",
      "Circuit  basis_trotter_n4.qasm  stored in  experiments/circuits/red_queen/basis_trotter_n4.qasm\n",
      "Circuit  vqe_uccsd_n6.qasm  stored in  experiments/circuits/red_queen/vqe_uccsd_n6.qasm\n",
      "Circuit  dnn_n16.qasm  stored in  experiments/circuits/red_queen/dnn_n16.qasm\n",
      "Circuit  gcm_h6.qasm  stored in  experiments/circuits/red_queen/gcm_h6.qasm\n",
      "Circuit  vqe_uccsd_n8.qasm  stored in  experiments/circuits/red_queen/vqe_uccsd_n8.qasm\n"
     ]
    }
   ],
   "source": [
    "# Store the valids circuits in the target directory using their circuit name\n",
    "# Use the dump function to store the circuits in the target directory\n",
    "for circuit in valid_circuits:\n",
    "    file_name = target_directory + circuit.name \n",
    "    dump(circuit, file_name)\n",
    "    print(\"Circuit \", circuit.name, \" stored in \", file_name)"
   ]
  },
  {
   "cell_type": "code",
   "execution_count": 39,
   "metadata": {},
   "outputs": [
    {
     "name": "stdout",
     "output_type": "stream",
     "text": [
      "Circuit  qft_n4.qasm  has a 2 qubit gate depth of  10\n",
      "Circuit  grover.qasm  has a 2 qubit gate depth of  84\n",
      "Circuit  qpe.qasm  has a 2 qubit gate depth of  15\n",
      "Circuit  shor_n5.qasm  has a 2 qubit gate depth of  32\n",
      "Circuit  multiply_n13.qasm  has a 2 qubit gate depth of  25\n",
      "Circuit  adder_n10.qasm  has a 2 qubit gate depth of  55\n",
      "Circuit  simon_n6.qasm  has a 2 qubit gate depth of  14\n",
      "Circuit  qec_en_n5.qasm  has a 2 qubit gate depth of  10\n",
      "Circuit  knn_n25.qasm  has a 2 qubit gate depth of  63\n",
      "Circuit  swap_test_n25.qasm  has a 2 qubit gate depth of  63\n",
      "Circuit  ipe.qasm  has a 2 qubit gate depth of  20\n",
      "Circuit  basis_change_n3.qasm  has a 2 qubit gate depth of  10\n",
      "Circuit  cat_state_n22.qasm  has a 2 qubit gate depth of  21\n",
      "Circuit  bv_mcm.qasm  has a 2 qubit gate depth of  10\n",
      "Circuit  sat_n7.qasm  has a 2 qubit gate depth of  45\n",
      "Circuit  ghz_state_n23.qasm  has a 2 qubit gate depth of  22\n",
      "Circuit  pea_n5.qasm  has a 2 qubit gate depth of  40\n",
      "Circuit  qpe_n9.qasm  has a 2 qubit gate depth of  42\n",
      "Circuit  bigadder_n18.qasm  has a 2 qubit gate depth of  88\n",
      "Circuit  ipea_n2.qasm  has a 2 qubit gate depth of  38\n",
      "Circuit  bv_n14.qasm  has a 2 qubit gate depth of  13\n",
      "Circuit  qec9xz_n17.qasm  has a 2 qubit gate depth of  12\n",
      "Circuit  ft_2.qasm  has a 2 qubit gate depth of  36\n",
      "Circuit  cc_n12.qasm  has a 2 qubit gate depth of  36\n",
      "Circuit  variational_n4.qasm  has a 2 qubit gate depth of  12\n",
      "Circuit  bv_n19.qasm  has a 2 qubit gate depth of  18\n",
      "Circuit  qram_n20.qasm  has a 2 qubit gate depth of  80\n",
      "Circuit  multiplier_n15.qasm  has a 2 qubit gate depth of  133\n",
      "Circuit  seca_n11.qasm  has a 2 qubit gate depth of  44\n",
      "Circuit  ft_1.qasm  has a 2 qubit gate depth of  72\n",
      "Circuit  qf21_n15.qasm  has a 2 qubit gate depth of  112\n",
      "Circuit  sat_n11.qasm  has a 2 qubit gate depth of  204\n",
      "Circuit  error_correctiond3_n5.qasm  has a 2 qubit gate depth of  48\n",
      "Circuit  basis_test_n4.qasm  has a 2 qubit gate depth of  32\n",
      "Circuit  wstate_n27.qasm  has a 2 qubit gate depth of  28\n",
      "Circuit  vqe_uccsd_n4.qasm  has a 2 qubit gate depth of  87\n",
      "Circuit  dnn_n2.qasm  has a 2 qubit gate depth of  42\n",
      "Circuit  qaoa_n6.qasm  has a 2 qubit gate depth of  33\n",
      "Circuit  ising_n10.qasm  has a 2 qubit gate depth of  20\n",
      "Circuit  square_root_n18.qasm  has a 2 qubit gate depth of  644\n",
      "Circuit  hhl_n7.qasm  has a 2 qubit gate depth of  179\n",
      "Circuit  qft_n18.qasm  has a 2 qubit gate depth of  66\n",
      "Circuit  dnn_n8.qasm  has a 2 qubit gate depth of  48\n",
      "Circuit  basis_trotter_n4.qasm  has a 2 qubit gate depth of  408\n",
      "Circuit  vqe_uccsd_n6.qasm  has a 2 qubit gate depth of  1028\n",
      "Circuit  dnn_n16.qasm  has a 2 qubit gate depth of  48\n",
      "Circuit  gcm_h6.qasm  has a 2 qubit gate depth of  762\n",
      "Circuit  vqe_uccsd_n8.qasm  has a 2 qubit gate depth of  5242\n"
     ]
    }
   ],
   "source": [
    "# print 2 qubit gate depths of the valid circuits\n",
    "for circuit in valid_circuits:\n",
    "    print(\"Circuit \", circuit.name, \" has a 2 qubit gate depth of \", circuit.depth(lambda x: x.operation.num_qubits == 2))"
   ]
  },
  {
   "cell_type": "code",
   "execution_count": null,
   "metadata": {},
   "outputs": [],
   "source": []
  }
 ],
 "metadata": {
  "kernelspec": {
   "display_name": "qiskit-sabre",
   "language": "python",
   "name": "python3"
  },
  "language_info": {
   "codemirror_mode": {
    "name": "ipython",
    "version": 3
   },
   "file_extension": ".py",
   "mimetype": "text/x-python",
   "name": "python",
   "nbconvert_exporter": "python",
   "pygments_lexer": "ipython3",
   "version": "3.11.4"
  }
 },
 "nbformat": 4,
 "nbformat_minor": 2
}
