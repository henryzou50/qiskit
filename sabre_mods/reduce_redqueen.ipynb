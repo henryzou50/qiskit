{
 "cells": [
  {
   "cell_type": "markdown",
   "metadata": {},
   "source": [
    "Process to reduce the red queen to include the circuits that have depth from 10 to 10000 and qubits <= 27\n",
    "\n",
    "Also removed circuits wtih reset and:\n",
    "- basis_test_n4.qasm\n",
    "- basis_trotter_n4.qasm\n",
    "- pea_n5.qasm\n",
    "- dnn_n2.qasm\n",
    "- dnn_n8.qasm\n",
    "- dnn_n16.qasm\n",
    "- hhl_n7.qasm\n",
    "- gcm_h6.qasm\n",
    "- vqe_uccsd_n6.qasm\n",
    "- vqe_uccsd_n8.qasm\n",
    "\n",
    "\n",
    "as those haad issues with sabre depth"
   ]
  },
  {
   "cell_type": "code",
   "execution_count": 1,
   "metadata": {},
   "outputs": [],
   "source": [
    "from experiments.utils.circuits import directory_to_circuits, rename_circuits\n",
    "from qiskit.qasm2 import dump\n",
    "from qiskit import transpile"
   ]
  },
  {
   "cell_type": "code",
   "execution_count": 2,
   "metadata": {},
   "outputs": [],
   "source": [
    "source_directory = \"experiments/circuits/red_queen_all/\"\n",
    "target_directory = \"experiments/circuits/red_queen/\"\n",
    "\n",
    "circuits, files = directory_to_circuits(source_directory)\n",
    "circuits = rename_circuits(circuits, files)"
   ]
  },
  {
   "cell_type": "code",
   "execution_count": 3,
   "metadata": {},
   "outputs": [],
   "source": [
    "# Get the regular circuits in the list (defined as circuits with less than 10000 depth)\n",
    "circuits_1 = []\n",
    "for circuit in circuits:\n",
    "    if circuit.depth() < 10000:\n",
    "        circuits_1.append(circuit)"
   ]
  },
  {
   "cell_type": "code",
   "execution_count": 4,
   "metadata": {},
   "outputs": [],
   "source": [
    "# Get the circuits that have 27 qubits or less\n",
    "circuits_2 = []\n",
    "for circuit in circuits_1:\n",
    "    if circuit.num_qubits <= 27:\n",
    "        circuits_2.append(circuit)"
   ]
  },
  {
   "cell_type": "code",
   "execution_count": 5,
   "metadata": {},
   "outputs": [],
   "source": [
    "# Get the decomposed circuits\n",
    "circuits_3 = []\n",
    "for circuit in circuits_2:\n",
    "    qc_tr = transpile(circuit, basis_gates=['u', 'cx'])\n",
    "    circuits_3.append(qc_tr)\n"
   ]
  },
  {
   "cell_type": "code",
   "execution_count": 6,
   "metadata": {},
   "outputs": [],
   "source": [
    "# check the 2 qubit gates depth of the circuits, and get the ones that have a depth of 10 or more\n",
    "circuits_4 = []\n",
    "for circuit in circuits_3:\n",
    "    if circuit.depth(lambda x: x.operation.num_qubits == 2) >= 10:\n",
    "        circuits_4.append(circuit)"
   ]
  },
  {
   "cell_type": "code",
   "execution_count": 7,
   "metadata": {},
   "outputs": [],
   "source": [
    "# Remove any circuits that have resets\n",
    "circuits_5 = []\n",
    "\n",
    "for circuit in circuits_4:\n",
    "    ops = circuit.count_ops()\n",
    "    if 'reset' not in ops:\n",
    "        circuits_5.append(circuit)"
   ]
  },
  {
   "cell_type": "code",
   "execution_count": 8,
   "metadata": {},
   "outputs": [
    {
     "name": "stdout",
     "output_type": "stream",
     "text": [
      "Circuit  qft_n4.qasm  stored in  experiments/circuits/red_queen/qft_n4.qasm\n",
      "Circuit  grover.qasm  stored in  experiments/circuits/red_queen/grover.qasm\n",
      "Circuit  qpe.qasm  stored in  experiments/circuits/red_queen/qpe.qasm\n",
      "Circuit  multiply_n13.qasm  stored in  experiments/circuits/red_queen/multiply_n13.qasm\n",
      "Circuit  adder_n10.qasm  stored in  experiments/circuits/red_queen/adder_n10.qasm\n",
      "Circuit  simon_n6.qasm  stored in  experiments/circuits/red_queen/simon_n6.qasm\n",
      "Circuit  qec_en_n5.qasm  stored in  experiments/circuits/red_queen/qec_en_n5.qasm\n",
      "Circuit  knn_n25.qasm  stored in  experiments/circuits/red_queen/knn_n25.qasm\n",
      "Circuit  swap_test_n25.qasm  stored in  experiments/circuits/red_queen/swap_test_n25.qasm\n",
      "Circuit  basis_change_n3.qasm  stored in  experiments/circuits/red_queen/basis_change_n3.qasm\n",
      "Circuit  cat_state_n22.qasm  stored in  experiments/circuits/red_queen/cat_state_n22.qasm\n",
      "Circuit  sat_n7.qasm  stored in  experiments/circuits/red_queen/sat_n7.qasm\n",
      "Circuit  ghz_state_n23.qasm  stored in  experiments/circuits/red_queen/ghz_state_n23.qasm\n",
      "Circuit  pea_n5.qasm  stored in  experiments/circuits/red_queen/pea_n5.qasm\n",
      "Circuit  qpe_n9.qasm  stored in  experiments/circuits/red_queen/qpe_n9.qasm\n",
      "Circuit  bigadder_n18.qasm  stored in  experiments/circuits/red_queen/bigadder_n18.qasm\n",
      "Circuit  bv_n14.qasm  stored in  experiments/circuits/red_queen/bv_n14.qasm\n",
      "Circuit  qec9xz_n17.qasm  stored in  experiments/circuits/red_queen/qec9xz_n17.qasm\n",
      "Circuit  ft_2.qasm  stored in  experiments/circuits/red_queen/ft_2.qasm\n",
      "Circuit  cc_n12.qasm  stored in  experiments/circuits/red_queen/cc_n12.qasm\n",
      "Circuit  variational_n4.qasm  stored in  experiments/circuits/red_queen/variational_n4.qasm\n",
      "Circuit  bv_n19.qasm  stored in  experiments/circuits/red_queen/bv_n19.qasm\n",
      "Circuit  qram_n20.qasm  stored in  experiments/circuits/red_queen/qram_n20.qasm\n",
      "Circuit  multiplier_n15.qasm  stored in  experiments/circuits/red_queen/multiplier_n15.qasm\n",
      "Circuit  seca_n11.qasm  stored in  experiments/circuits/red_queen/seca_n11.qasm\n",
      "Circuit  ft_1.qasm  stored in  experiments/circuits/red_queen/ft_1.qasm\n",
      "Circuit  qf21_n15.qasm  stored in  experiments/circuits/red_queen/qf21_n15.qasm\n",
      "Circuit  sat_n11.qasm  stored in  experiments/circuits/red_queen/sat_n11.qasm\n",
      "Circuit  error_correctiond3_n5.qasm  stored in  experiments/circuits/red_queen/error_correctiond3_n5.qasm\n",
      "Circuit  basis_test_n4.qasm  stored in  experiments/circuits/red_queen/basis_test_n4.qasm\n",
      "Circuit  wstate_n27.qasm  stored in  experiments/circuits/red_queen/wstate_n27.qasm\n",
      "Circuit  vqe_uccsd_n4.qasm  stored in  experiments/circuits/red_queen/vqe_uccsd_n4.qasm\n",
      "Circuit  dnn_n2.qasm  stored in  experiments/circuits/red_queen/dnn_n2.qasm\n",
      "Circuit  qaoa_n6.qasm  stored in  experiments/circuits/red_queen/qaoa_n6.qasm\n",
      "Circuit  ising_n10.qasm  stored in  experiments/circuits/red_queen/ising_n10.qasm\n",
      "Circuit  hhl_n7.qasm  stored in  experiments/circuits/red_queen/hhl_n7.qasm\n",
      "Circuit  qft_n18.qasm  stored in  experiments/circuits/red_queen/qft_n18.qasm\n",
      "Circuit  dnn_n8.qasm  stored in  experiments/circuits/red_queen/dnn_n8.qasm\n",
      "Circuit  basis_trotter_n4.qasm  stored in  experiments/circuits/red_queen/basis_trotter_n4.qasm\n",
      "Circuit  vqe_uccsd_n6.qasm  stored in  experiments/circuits/red_queen/vqe_uccsd_n6.qasm\n",
      "Circuit  dnn_n16.qasm  stored in  experiments/circuits/red_queen/dnn_n16.qasm\n",
      "Circuit  gcm_h6.qasm  stored in  experiments/circuits/red_queen/gcm_h6.qasm\n",
      "Circuit  vqe_uccsd_n8.qasm  stored in  experiments/circuits/red_queen/vqe_uccsd_n8.qasm\n"
     ]
    }
   ],
   "source": [
    "# Store the valids circuits in the target directory using their circuit name\n",
    "# Use the dump function to store the circuits in the target directory\n",
    "for circuit in circuits_5:\n",
    "    file_name = target_directory + circuit.name \n",
    "    dump(circuit, file_name)\n",
    "    print(\"Circuit \", circuit.name, \" stored in \", file_name)"
   ]
  },
  {
   "cell_type": "code",
   "execution_count": 9,
   "metadata": {},
   "outputs": [
    {
     "name": "stdout",
     "output_type": "stream",
     "text": [
      "Circuit  qft_n4.qasm  has a 2 qubit gates depth of  10\n",
      "Circuit  grover.qasm  has a 2 qubit gates depth of  84\n",
      "Circuit  qpe.qasm  has a 2 qubit gates depth of  15\n",
      "Circuit  multiply_n13.qasm  has a 2 qubit gates depth of  25\n",
      "Circuit  adder_n10.qasm  has a 2 qubit gates depth of  55\n",
      "Circuit  simon_n6.qasm  has a 2 qubit gates depth of  14\n",
      "Circuit  qec_en_n5.qasm  has a 2 qubit gates depth of  10\n",
      "Circuit  knn_n25.qasm  has a 2 qubit gates depth of  63\n",
      "Circuit  swap_test_n25.qasm  has a 2 qubit gates depth of  63\n",
      "Circuit  basis_change_n3.qasm  has a 2 qubit gates depth of  10\n",
      "Circuit  cat_state_n22.qasm  has a 2 qubit gates depth of  21\n",
      "Circuit  sat_n7.qasm  has a 2 qubit gates depth of  45\n",
      "Circuit  ghz_state_n23.qasm  has a 2 qubit gates depth of  22\n",
      "Circuit  pea_n5.qasm  has a 2 qubit gates depth of  40\n",
      "Circuit  qpe_n9.qasm  has a 2 qubit gates depth of  42\n",
      "Circuit  bigadder_n18.qasm  has a 2 qubit gates depth of  88\n",
      "Circuit  bv_n14.qasm  has a 2 qubit gates depth of  13\n",
      "Circuit  qec9xz_n17.qasm  has a 2 qubit gates depth of  12\n",
      "Circuit  ft_2.qasm  has a 2 qubit gates depth of  36\n",
      "Circuit  cc_n12.qasm  has a 2 qubit gates depth of  36\n",
      "Circuit  variational_n4.qasm  has a 2 qubit gates depth of  12\n",
      "Circuit  bv_n19.qasm  has a 2 qubit gates depth of  18\n",
      "Circuit  qram_n20.qasm  has a 2 qubit gates depth of  80\n",
      "Circuit  multiplier_n15.qasm  has a 2 qubit gates depth of  133\n",
      "Circuit  seca_n11.qasm  has a 2 qubit gates depth of  44\n",
      "Circuit  ft_1.qasm  has a 2 qubit gates depth of  72\n",
      "Circuit  qf21_n15.qasm  has a 2 qubit gates depth of  112\n",
      "Circuit  sat_n11.qasm  has a 2 qubit gates depth of  204\n",
      "Circuit  error_correctiond3_n5.qasm  has a 2 qubit gates depth of  48\n",
      "Circuit  basis_test_n4.qasm  has a 2 qubit gates depth of  32\n",
      "Circuit  wstate_n27.qasm  has a 2 qubit gates depth of  28\n",
      "Circuit  vqe_uccsd_n4.qasm  has a 2 qubit gates depth of  87\n",
      "Circuit  dnn_n2.qasm  has a 2 qubit gates depth of  42\n",
      "Circuit  qaoa_n6.qasm  has a 2 qubit gates depth of  33\n",
      "Circuit  ising_n10.qasm  has a 2 qubit gates depth of  20\n",
      "Circuit  hhl_n7.qasm  has a 2 qubit gates depth of  179\n",
      "Circuit  qft_n18.qasm  has a 2 qubit gates depth of  66\n",
      "Circuit  dnn_n8.qasm  has a 2 qubit gates depth of  48\n",
      "Circuit  basis_trotter_n4.qasm  has a 2 qubit gates depth of  408\n",
      "Circuit  vqe_uccsd_n6.qasm  has a 2 qubit gates depth of  1028\n",
      "Circuit  dnn_n16.qasm  has a 2 qubit gates depth of  48\n",
      "Circuit  gcm_h6.qasm  has a 2 qubit gates depth of  762\n",
      "Circuit  vqe_uccsd_n8.qasm  has a 2 qubit gates depth of  5242\n"
     ]
    }
   ],
   "source": [
    "# print the 2 qubit gates depth of the circuits\n",
    "for circuit in circuits_5:\n",
    "    print(\"Circuit \", circuit.name, \" has a 2 qubit gates depth of \", circuit.depth(lambda x: x.operation.num_qubits == 2))"
   ]
  },
  {
   "cell_type": "code",
   "execution_count": 10,
   "metadata": {},
   "outputs": [
    {
     "name": "stdout",
     "output_type": "stream",
     "text": [
      "Circuit  qft_n4.qasm  has  OrderedDict([('u', 24), ('cx', 12), ('measure', 4), ('barrier', 1)])\n",
      "Circuit  grover.qasm  has  OrderedDict([('u', 94), ('cx', 84), ('measure', 4)])\n",
      "Circuit  qpe.qasm  has  OrderedDict([('u', 18), ('cx', 15), ('measure', 3), ('barrier', 1)])\n",
      "Circuit  multiply_n13.qasm  has  OrderedDict([('u', 52), ('cx', 40), ('measure', 4), ('barrier', 3)])\n",
      "Circuit  adder_n10.qasm  has  OrderedDict([('u', 69), ('cx', 65), ('measure', 5)])\n",
      "Circuit  simon_n6.qasm  has  OrderedDict([('u', 26), ('cx', 14), ('measure', 6), ('barrier', 2)])\n",
      "Circuit  qec_en_n5.qasm  has  OrderedDict([('u', 12), ('cx', 10), ('measure', 5)])\n",
      "Circuit  knn_n25.qasm  has  OrderedDict([('u', 122), ('cx', 96), ('measure', 1)])\n",
      "Circuit  swap_test_n25.qasm  has  OrderedDict([('u', 122), ('cx', 96), ('measure', 1)])\n",
      "Circuit  basis_change_n3.qasm  has  OrderedDict([('u', 23), ('cx', 10), ('measure', 3)])\n",
      "Circuit  cat_state_n22.qasm  has  OrderedDict([('measure', 22), ('cx', 21), ('u', 1), ('barrier', 1)])\n",
      "Circuit  sat_n7.qasm  has  OrderedDict([('u', 91), ('cx', 60), ('measure', 2)])\n",
      "Circuit  ghz_state_n23.qasm  has  OrderedDict([('measure', 23), ('cx', 22), ('u', 1), ('barrier', 1)])\n",
      "Circuit  pea_n5.qasm  has  OrderedDict([('u', 50), ('cx', 42), ('measure', 4)])\n",
      "Circuit  qpe_n9.qasm  has  OrderedDict([('u', 74), ('cx', 43), ('measure', 6), ('barrier', 3)])\n",
      "Circuit  bigadder_n18.qasm  has  OrderedDict([('u', 136), ('cx', 130), ('measure', 9)])\n",
      "Circuit  bv_n14.qasm  has  OrderedDict([('u', 27), ('cx', 13), ('measure', 13), ('barrier', 2)])\n",
      "Circuit  qec9xz_n17.qasm  has  OrderedDict([('cx', 32), ('u', 21), ('measure', 8)])\n",
      "Circuit  ft_2.qasm  has  OrderedDict([('u', 80), ('cx', 56), ('measure', 8), ('barrier', 3)])\n",
      "Circuit  cc_n12.qasm  has  OrderedDict([('u', 35), ('cx', 12), ('measure', 12), ('barrier', 2)])\n",
      "Circuit  variational_n4.qasm  has  OrderedDict([('u', 24), ('cx', 16), ('measure', 4)])\n",
      "Circuit  bv_n19.qasm  has  OrderedDict([('u', 37), ('cx', 18), ('measure', 18), ('barrier', 2)])\n",
      "Circuit  qram_n20.qasm  has  OrderedDict([('u', 158), ('cx', 136), ('measure', 4)])\n",
      "Circuit  multiplier_n15.qasm  has  OrderedDict([('u', 270), ('cx', 222), ('measure', 3)])\n",
      "Circuit  seca_n11.qasm  has  OrderedDict([('u', 105), ('cx', 84), ('barrier', 7), ('measure', 3)])\n",
      "Circuit  ft_1.qasm  has  OrderedDict([('u', 143), ('cx', 112), ('measure', 8), ('barrier', 4)])\n",
      "Circuit  qf21_n15.qasm  has  OrderedDict([('u', 184), ('cx', 115), ('barrier', 3), ('measure', 3)])\n",
      "Circuit  sat_n11.qasm  has  OrderedDict([('u', 345), ('cx', 252), ('measure', 4)])\n",
      "Circuit  error_correctiond3_n5.qasm  has  OrderedDict([('u', 64), ('cx', 49), ('measure', 5)])\n",
      "Circuit  basis_test_n4.qasm  has  OrderedDict([('cx', 46), ('u', 39), ('measure', 4)])\n",
      "Circuit  wstate_n27.qasm  has  OrderedDict([('u', 53), ('cx', 52), ('measure', 27), ('barrier', 1)])\n",
      "Circuit  vqe_uccsd_n4.qasm  has  OrderedDict([('cx', 88), ('u', 66)])\n",
      "Circuit  dnn_n2.qasm  has  OrderedDict([('u', 72), ('cx', 42), ('measure', 2)])\n",
      "Circuit  qaoa_n6.qasm  has  OrderedDict([('u', 96), ('cx', 54), ('measure', 6)])\n",
      "Circuit  ising_n10.qasm  has  OrderedDict([('u', 145), ('cx', 90), ('measure', 10)])\n",
      "Circuit  hhl_n7.qasm  has  OrderedDict([('u', 285), ('cx', 196), ('measure', 7), ('barrier', 1)])\n",
      "Circuit  qft_n18.qasm  has  OrderedDict([('u', 477), ('cx', 306), ('measure', 18), ('barrier', 1)])\n",
      "Circuit  dnn_n8.qasm  has  OrderedDict([('u', 328), ('cx', 192), ('measure', 8)])\n",
      "Circuit  basis_trotter_n4.qasm  has  OrderedDict([('u', 682), ('cx', 582), ('measure', 4)])\n",
      "Circuit  vqe_uccsd_n6.qasm  has  OrderedDict([('cx', 1034), ('u', 471)])\n",
      "Circuit  dnn_n16.qasm  has  OrderedDict([('u', 656), ('cx', 384), ('measure', 16)])\n",
      "Circuit  gcm_h6.qasm  has  OrderedDict([('u', 1089), ('cx', 762), ('measure', 1)])\n",
      "Circuit  vqe_uccsd_n8.qasm  has  OrderedDict([('cx', 5284), ('u', 1891)])\n"
     ]
    }
   ],
   "source": [
    "for circuit in circuits_5:\n",
    "    ops = circuit.count_ops()\n",
    "    print(\"Circuit \", circuit.name, \" has \", ops)"
   ]
  },
  {
   "cell_type": "code",
   "execution_count": null,
   "metadata": {},
   "outputs": [],
   "source": []
  }
 ],
 "metadata": {
  "kernelspec": {
   "display_name": "qiskit-sabre",
   "language": "python",
   "name": "python3"
  },
  "language_info": {
   "codemirror_mode": {
    "name": "ipython",
    "version": 3
   },
   "file_extension": ".py",
   "mimetype": "text/x-python",
   "name": "python",
   "nbconvert_exporter": "python",
   "pygments_lexer": "ipython3",
   "version": "3.11.4"
  }
 },
 "nbformat": 4,
 "nbformat_minor": 2
}
