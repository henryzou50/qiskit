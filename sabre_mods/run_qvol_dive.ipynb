{
 "cells": [
  {
   "cell_type": "code",
   "execution_count": 1,
   "metadata": {},
   "outputs": [],
   "source": [
    "from experiments.utils.pass_managers import run_circuits, build_pm\n",
    "from experiments.utils.coupling_maps import file_to_coupling_map\n",
    "from experiments.utils.circuits      import directory_to_circuits, rename_circuits\n",
    "\n",
    "# Parameters for general experiments\n",
    "from qiskit.transpiler.passes.routing.sabre_swap_0_20  import SabreSwap_v0_20   \n",
    "from qiskit.transpiler.passes.routing.sabre_swap_0_20_depth  import SabreSwap_v0_20_Depth\n",
    "from qiskit.transpiler.passes.routing.sabre_swap_0_20_depth_ties  import SabreSwap_v0_20_DepthTies\n",
    "from qiskit.transpiler.passes.routing.sabre_swap_0_20_dive  import SabreSwap_v0_20_Dive\n",
    "\n",
    "\n",
    "from qiskit.transpiler.passes.layout.sabre_layout import SabreLayout as LP\n",
    "from qiskit.transpiler.passes.routing.sabre_swap  import SabreSwap as RP"
   ]
  },
  {
   "cell_type": "code",
   "execution_count": 2,
   "metadata": {},
   "outputs": [],
   "source": [
    "# List of routing passes\n",
    "rp = SabreSwap_v0_20_Dive\n",
    "\n",
    "# Main parameters for experiments\n",
    "qc_type     = 'qvol_d1_small'\n",
    "cm_type     = 'hex_027'\n",
    "seed        = 42\n",
    "num_times   = 1\n",
    "max_iter    = 3\n",
    "\n",
    "# Other parameters for sabre_mods\n",
    "beam_list   = [1, 10, 100, 1000, 10000 ]\n",
    "look        = 1\n",
    "crit        = 1"
   ]
  },
  {
   "cell_type": "code",
   "execution_count": 3,
   "metadata": {},
   "outputs": [
    {
     "name": "stdout",
     "output_type": "stream",
     "text": [
      "    Running the experiment for circuit qvol_10_10_0105.qasm...\n",
      "        Depths: Beam Width: (1) 0, 1, 2, 3, 4, \n",
      "153, \n",
      "    Circuit qvol_10_10_0105.qasm transpiled with best depth 153 and time 0.2881278991699219.\n",
      "    Running the experiment for circuit qvol_10_20_0096.qasm...\n",
      "        Depths: Beam Width: (1) 0, 1, 2, 3, 4, 5, 6, 7, 8, 9, \n",
      "261, \n",
      "    Circuit qvol_10_20_0096.qasm transpiled with best depth 261 and time 1.5742261409759521.\n",
      "    Running the experiment for circuit qvol_10_30_0719.qasm...\n",
      "        Depths: Beam Width: (1) 0, 1, 2, 3, 4, 5, 6, 7, 8, 9, 10, 11, 12, 13, 14, \n",
      "312, \n",
      "    Circuit qvol_10_30_0719.qasm transpiled with best depth 312 and time 4.1185877323150635.\n",
      "    Running the experiment for circuit qvol_10_40_0778.qasm...\n",
      "        Depths: Beam Width: (1) 0, 1, 2, 3, 4, 5, 6, 7, 8, 9, 10, 11, 12, 13, 14, 15, 16, 17, 18, 19, \n",
      "399, \n",
      "    Circuit qvol_10_40_0778.qasm transpiled with best depth 399 and time 7.516979932785034.\n",
      "    Running the experiment for circuit qvol_10_50_0345.qasm...\n",
      "        Depths: Beam Width: (1) 0, 1, 2, 3, 4, 5, 6, 7, 8, 9, 10, 11, 12, 13, 14, 15, 16, 17, 18, 19, 20, 21, 22, 23, 24, \n",
      "498, \n",
      "    Circuit qvol_10_50_0345.qasm transpiled with best depth 498 and time 10.702647924423218.\n",
      "    Running the experiment for circuit qvol_10_10_0105.qasm...\n",
      "        Depths: Beam Width: (10) 0, 1, 2, 3, 4, \n",
      "141, \n",
      "    Circuit qvol_10_10_0105.qasm transpiled with best depth 141 and time 2.3213391304016113.\n",
      "    Running the experiment for circuit qvol_10_20_0096.qasm...\n",
      "        Depths: Beam Width: (10) 0, 1, 2, 3, 4, 5, 6, 7, 8, 9, \n",
      "261, \n",
      "    Circuit qvol_10_20_0096.qasm transpiled with best depth 261 and time 12.712733030319214.\n",
      "    Running the experiment for circuit qvol_10_30_0719.qasm...\n",
      "        Depths: Beam Width: (10) 0, 1, 2, 3, 4, 5, 6, 7, 8, 9, 10, 11, 12, 13, 14, \n",
      "288, \n",
      "    Circuit qvol_10_30_0719.qasm transpiled with best depth 288 and time 37.41968011856079.\n",
      "    Running the experiment for circuit qvol_10_40_0778.qasm...\n",
      "        Depths: Beam Width: (10) 0, 1, 2, 3, 4, 5, 6, 7, 8, 9, 10, 11, 12, 13, 14, 15, 16, 17, 18, 19, \n",
      "393, \n",
      "    Circuit qvol_10_40_0778.qasm transpiled with best depth 393 and time 69.43158102035522.\n",
      "    Running the experiment for circuit qvol_10_50_0345.qasm...\n",
      "        Depths: Beam Width: (10) 0, 1, 2, 3, 4, 5, 6, 7, 8, 9, 10, 11, 12, 13, 14, 15, 16, 17, 18, 19, 20, 21, 22, 23, 24, \n",
      "483, \n",
      "    Circuit qvol_10_50_0345.qasm transpiled with best depth 483 and time 118.26458883285522.\n",
      "    Running the experiment for circuit qvol_10_10_0105.qasm...\n",
      "        Depths: Beam Width: (100) 0, 1, 2, 3, 4, \n",
      "111, \n",
      "    Circuit qvol_10_10_0105.qasm transpiled with best depth 111 and time 21.259693145751953.\n",
      "    Running the experiment for circuit qvol_10_20_0096.qasm...\n",
      "        Depths: Beam Width: (100) 0, 1, 2, 3, 4, 5, 6, 7, 8, 9, \n",
      "204, \n",
      "    Circuit qvol_10_20_0096.qasm transpiled with best depth 204 and time 133.63876605033875.\n",
      "    Running the experiment for circuit qvol_10_30_0719.qasm...\n",
      "        Depths: Beam Width: (100) 0, 1, 2, 3, 4, 5, 6, 7, 8, 9, 10, 11, 12, 13, 14, \n",
      "288, \n",
      "    Circuit qvol_10_30_0719.qasm transpiled with best depth 288 and time 352.86548495292664.\n",
      "    Running the experiment for circuit qvol_10_40_0778.qasm...\n",
      "        Depths: Beam Width: (100) 0, 1, 2, 3, 4, 5, 6, 7, 8, 9, 10, 11, 12, 13, 14, 15, 16, 17, 18, 19, \n",
      "393, \n",
      "    Circuit qvol_10_40_0778.qasm transpiled with best depth 393 and time 656.3747327327728.\n",
      "    Running the experiment for circuit qvol_10_50_0345.qasm...\n",
      "        Depths: Beam Width: (100) 0, 1, 2, 3, 4, "
     ]
    }
   ],
   "source": [
    "# Runs the experiments\n",
    "coupling_map     = file_to_coupling_map(f'experiments/coupling_maps/{cm_type}.txt')\n",
    "circuits, files  = directory_to_circuits(f'experiments/circuits/{qc_type}/')\n",
    "circuits         = rename_circuits(circuits, files)\n",
    "\n",
    "for beam in beam_list:\n",
    "    routing_pass     = rp(coupling_map, seed=seed, beam_width=beam)\n",
    "    layout_pass      = LP(coupling_map, RP(coupling_map, seed=seed), seed=seed, max_iterations=max_iter)\n",
    "    pass_manager     = build_pm(coupling_map, layout_pass, routing_pass)\n",
    "    rp_name = routing_pass.__class__.__name__\n",
    "    filename = f'experiments/results/{qc_type}/{rp_name}_beam_{beam}.csv'\n",
    "    df = run_circuits(filename, circuits, pass_manager, num_times, max_iter, beam, look, crit)"
   ]
  },
  {
   "cell_type": "code",
   "execution_count": null,
   "metadata": {},
   "outputs": [],
   "source": []
  }
 ],
 "metadata": {
  "kernelspec": {
   "display_name": "qiskit-sabre",
   "language": "python",
   "name": "python3"
  },
  "language_info": {
   "codemirror_mode": {
    "name": "ipython",
    "version": 3
   },
   "file_extension": ".py",
   "mimetype": "text/x-python",
   "name": "python",
   "nbconvert_exporter": "python",
   "pygments_lexer": "ipython3",
   "version": "3.11.4"
  }
 },
 "nbformat": 4,
 "nbformat_minor": 2
}
