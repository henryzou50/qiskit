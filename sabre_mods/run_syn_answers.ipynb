{
 "cells": [
  {
   "cell_type": "code",
   "execution_count": 3,
   "metadata": {},
   "outputs": [],
   "source": [
    "from experiments.utils.pass_managers import run_circuits, build_pm\n",
    "from experiments.utils.coupling_maps import file_to_coupling_map\n",
    "from experiments.utils.circuits      import directory_to_circuits, rename_circuits\n",
    "\n",
    "from qiskit.transpiler.passes import TrivialLayout"
   ]
  },
  {
   "cell_type": "code",
   "execution_count": 4,
   "metadata": {},
   "outputs": [],
   "source": [
    "seed        = 42\n",
    "num_times   = 1\n",
    "max_iter    = 1\n",
    "beam        = 1\n",
    "look        = 1\n",
    "crit        = 1\n",
    "\n",
    "routing_pass     = None"
   ]
  },
  {
   "cell_type": "code",
   "execution_count": 5,
   "metadata": {},
   "outputs": [
    {
     "name": "stdout",
     "output_type": "stream",
     "text": [
      "    Running the experiment for circuit _10.qasm...\n",
      "        Depths: 16, \n",
      "    Circuit _10.qasm transpiled with best depth 16 and time 0.02531719207763672.\n",
      "    Running the experiment for circuit _20.qasm...\n",
      "        Depths: 32, \n",
      "    Circuit _20.qasm transpiled with best depth 32 and time 0.0029320716857910156.\n",
      "    Running the experiment for circuit _30.qasm...\n",
      "        Depths: 56, \n",
      "    Circuit _30.qasm transpiled with best depth 56 and time 0.0040531158447265625.\n",
      "    Running the experiment for circuit _40.qasm...\n",
      "        Depths: 66, \n",
      "    Circuit _40.qasm transpiled with best depth 66 and time 0.005602121353149414.\n",
      "    Running the experiment for circuit _50.qasm...\n",
      "        Depths: 84, \n",
      "    Circuit _50.qasm transpiled with best depth 84 and time 0.0064008235931396484.\n",
      "    Running the experiment for circuit _60.qasm...\n",
      "        Depths: 102, \n",
      "    Circuit _60.qasm transpiled with best depth 102 and time 0.007821798324584961.\n",
      "    Running the experiment for circuit _70.qasm...\n",
      "        Depths: 109, \n",
      "    Circuit _70.qasm transpiled with best depth 109 and time 0.00890803337097168.\n",
      "    Running the experiment for circuit _80.qasm...\n",
      "        Depths: 127, \n",
      "    Circuit _80.qasm transpiled with best depth 127 and time 0.010156631469726562.\n",
      "    Running the experiment for circuit _90.qasm...\n",
      "        Depths: 140, \n",
      "    Circuit _90.qasm transpiled with best depth 140 and time 0.011467695236206055.\n",
      "    Running the experiment for circuit _100.qasm...\n",
      "        Depths: 163, \n",
      "    Circuit _100.qasm transpiled with best depth 163 and time 0.013490915298461914.\n"
     ]
    }
   ],
   "source": [
    "# For ring 27\n",
    "qc_type     = 'synthetic/ring_027_ans'\n",
    "cm_type     = 'ring_027'\n",
    "\n",
    "coupling_map     = file_to_coupling_map(f'experiments/coupling_maps/{cm_type}.txt')\n",
    "circuits, files  = directory_to_circuits(f'experiments/circuits/{qc_type}/')\n",
    "circuits         = rename_circuits(circuits, files)\n",
    "layout_pass      = TrivialLayout(coupling_map)\n",
    "pass_manager     = build_pm(coupling_map, layout_pass, routing_pass)\n",
    "filename = f'experiments/results/synthetic/{cm_type}_prob/optimal_lowerbound.csv'\n",
    "df = run_circuits(filename, circuits, pass_manager, num_times, max_iter, beam, look, crit)\n",
    "\n"
   ]
  },
  {
   "cell_type": "code",
   "execution_count": 6,
   "metadata": {},
   "outputs": [
    {
     "name": "stdout",
     "output_type": "stream",
     "text": [
      "    Running the experiment for circuit _10.qasm...\n",
      "        Depths: 18, \n",
      "    Circuit _10.qasm transpiled with best depth 18 and time 0.0017910003662109375.\n",
      "    Running the experiment for circuit _20.qasm...\n",
      "        Depths: 32, \n",
      "    Circuit _20.qasm transpiled with best depth 32 and time 0.0026590824127197266.\n",
      "    Running the experiment for circuit _30.qasm...\n",
      "        Depths: 54, \n",
      "    Circuit _30.qasm transpiled with best depth 54 and time 0.003515958786010742.\n",
      "    Running the experiment for circuit _40.qasm...\n",
      "        Depths: 74, \n",
      "    Circuit _40.qasm transpiled with best depth 74 and time 0.004796028137207031.\n",
      "    Running the experiment for circuit _50.qasm...\n",
      "        Depths: 96, \n",
      "    Circuit _50.qasm transpiled with best depth 96 and time 0.0059511661529541016.\n",
      "    Running the experiment for circuit _60.qasm...\n",
      "        Depths: 106, \n",
      "    Circuit _60.qasm transpiled with best depth 106 and time 0.006854057312011719.\n",
      "    Running the experiment for circuit _70.qasm...\n",
      "        Depths: 115, \n",
      "    Circuit _70.qasm transpiled with best depth 115 and time 0.007864713668823242.\n",
      "    Running the experiment for circuit _80.qasm...\n",
      "        Depths: 146, \n",
      "    Circuit _80.qasm transpiled with best depth 146 and time 0.008856058120727539.\n",
      "    Running the experiment for circuit _90.qasm...\n",
      "        Depths: 144, \n",
      "    Circuit _90.qasm transpiled with best depth 144 and time 0.010331869125366211.\n",
      "    Running the experiment for circuit _100.qasm...\n",
      "        Depths: 170, \n",
      "    Circuit _100.qasm transpiled with best depth 170 and time 0.01278996467590332.\n"
     ]
    }
   ],
   "source": [
    "# For hex 27\n",
    "qc_type     = 'synthetic/hex_027_ans'\n",
    "cm_type     = 'hex_027'\n",
    "\n",
    "coupling_map     = file_to_coupling_map(f'experiments/coupling_maps/{cm_type}.txt')\n",
    "circuits, files  = directory_to_circuits(f'experiments/circuits/{qc_type}/')\n",
    "circuits         = rename_circuits(circuits, files)\n",
    "layout_pass      = TrivialLayout(coupling_map)\n",
    "pass_manager     = build_pm(coupling_map, layout_pass, routing_pass)\n",
    "filename = f'experiments/results/synthetic/{cm_type}_prob/optimal_lowerbound.csv'\n",
    "df = run_circuits(filename, circuits, pass_manager, num_times, max_iter, beam, look, crit)\n",
    "\n"
   ]
  },
  {
   "cell_type": "code",
   "execution_count": 7,
   "metadata": {},
   "outputs": [
    {
     "name": "stdout",
     "output_type": "stream",
     "text": [
      "    Running the experiment for circuit _10.qasm...\n",
      "        Depths: 21, \n",
      "    Circuit _10.qasm transpiled with best depth 21 and time 0.001851797103881836.\n",
      "    Running the experiment for circuit _20.qasm...\n",
      "        Depths: 36, \n",
      "    Circuit _20.qasm transpiled with best depth 36 and time 0.0033311843872070312.\n",
      "    Running the experiment for circuit _30.qasm...\n",
      "        Depths: 58, \n",
      "    Circuit _30.qasm transpiled with best depth 58 and time 0.004250764846801758.\n",
      "    Running the experiment for circuit _40.qasm...\n",
      "        Depths: 73, \n",
      "    Circuit _40.qasm transpiled with best depth 73 and time 0.0056040287017822266.\n",
      "    Running the experiment for circuit _50.qasm...\n",
      "        Depths: 97, \n",
      "    Circuit _50.qasm transpiled with best depth 97 and time 0.007193803787231445.\n",
      "    Running the experiment for circuit _60.qasm...\n",
      "        Depths: 108, \n",
      "    Circuit _60.qasm transpiled with best depth 108 and time 0.007980108261108398.\n",
      "    Running the experiment for circuit _70.qasm...\n",
      "        Depths: 135, \n",
      "    Circuit _70.qasm transpiled with best depth 135 and time 0.00929403305053711.\n",
      "    Running the experiment for circuit _80.qasm...\n",
      "        Depths: 155, \n",
      "    Circuit _80.qasm transpiled with best depth 155 and time 0.010120391845703125.\n",
      "    Running the experiment for circuit _90.qasm...\n",
      "        Depths: 177, \n",
      "    Circuit _90.qasm transpiled with best depth 177 and time 0.011208057403564453.\n",
      "    Running the experiment for circuit _100.qasm...\n",
      "        Depths: 199, \n",
      "    Circuit _100.qasm transpiled with best depth 199 and time 0.01335287094116211.\n"
     ]
    }
   ],
   "source": [
    "# For square 25\n",
    "qc_type     = 'synthetic/square_025_ans'\n",
    "cm_type     = 'square_025'\n",
    "\n",
    "coupling_map     = file_to_coupling_map(f'experiments/coupling_maps/{cm_type}.txt')\n",
    "circuits, files  = directory_to_circuits(f'experiments/circuits/{qc_type}/')\n",
    "circuits         = rename_circuits(circuits, files)\n",
    "layout_pass      = TrivialLayout(coupling_map)\n",
    "pass_manager     = build_pm(coupling_map, layout_pass, routing_pass)\n",
    "filename = f'experiments/results/synthetic/{cm_type}_prob/optimal_lowerbound.csv'\n",
    "df = run_circuits(filename, circuits, pass_manager, num_times, max_iter, beam, look, crit)\n",
    "\n"
   ]
  }
 ],
 "metadata": {
  "kernelspec": {
   "display_name": "qiskit-sabre",
   "language": "python",
   "name": "python3"
  },
  "language_info": {
   "codemirror_mode": {
    "name": "ipython",
    "version": 3
   },
   "file_extension": ".py",
   "mimetype": "text/x-python",
   "name": "python",
   "nbconvert_exporter": "python",
   "pygments_lexer": "ipython3",
   "version": "3.11.4"
  }
 },
 "nbformat": 4,
 "nbformat_minor": 2
}
