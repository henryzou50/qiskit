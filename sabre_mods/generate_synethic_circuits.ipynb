{
 "cells": [
  {
   "cell_type": "code",
   "execution_count": 1,
   "metadata": {},
   "outputs": [],
   "source": [
    "from experiments.utils.synthetic_circuits import create_parallel_circuit, apply_swaps_and_get_matching_circuit\n",
    "from experiments.utils.coupling_maps import file_to_coupling_map\n",
    "from qiskit.qasm2 import dump\n",
    "import os"
   ]
  },
  {
   "cell_type": "code",
   "execution_count": 2,
   "metadata": {},
   "outputs": [],
   "source": [
    "# Coupling maps that we will use: ring, hex, and square\n",
    "ring = \"ring_027\"\n",
    "hex  = \"hex_027\"\n",
    "square = \"square_025\"\n",
    "\n",
    "cm_ring   = file_to_coupling_map(f'experiments/coupling_maps/{ring}.txt')\n",
    "cm_hex    = file_to_coupling_map(f'experiments/coupling_maps/{hex}.txt')\n",
    "cm_square = file_to_coupling_map(f'experiments/coupling_maps/{square}.txt')\n",
    "\n",
    "label_list = [ring, hex, square]\n",
    "cm_list = [cm_ring, cm_hex, cm_square]\n",
    "\n",
    "layers_list = [10, 20, 30, 40, 50, 60, 70, 80, 90, 100]\n",
    "\n",
    "swap_max_density = 0.0001\n",
    "cx_min_density   = 0.5"
   ]
  },
  {
   "cell_type": "code",
   "execution_count": 3,
   "metadata": {},
   "outputs": [
    {
     "name": "stdout",
     "output_type": "stream",
     "text": [
      "Generated circuit for ring_027 with 10 layers\n",
      "Generated circuit for ring_027 with 20 layers\n",
      "Generated circuit for ring_027 with 30 layers\n",
      "Generated circuit for ring_027 with 40 layers\n",
      "Generated circuit for ring_027 with 50 layers\n",
      "Generated circuit for ring_027 with 60 layers\n",
      "Generated circuit for ring_027 with 70 layers\n",
      "Generated circuit for ring_027 with 80 layers\n",
      "Generated circuit for ring_027 with 90 layers\n",
      "Generated circuit for ring_027 with 100 layers\n",
      "Generated circuit for hex_027 with 10 layers\n",
      "Generated circuit for hex_027 with 20 layers\n",
      "Generated circuit for hex_027 with 30 layers\n",
      "Generated circuit for hex_027 with 40 layers\n",
      "Generated circuit for hex_027 with 50 layers\n",
      "Generated circuit for hex_027 with 60 layers\n",
      "Generated circuit for hex_027 with 70 layers\n",
      "Generated circuit for hex_027 with 80 layers\n",
      "Generated circuit for hex_027 with 90 layers\n",
      "Generated circuit for hex_027 with 100 layers\n",
      "Generated circuit for square_025 with 10 layers\n",
      "Generated circuit for square_025 with 20 layers\n",
      "Generated circuit for square_025 with 30 layers\n",
      "Generated circuit for square_025 with 40 layers\n",
      "Generated circuit for square_025 with 50 layers\n",
      "Generated circuit for square_025 with 60 layers\n",
      "Generated circuit for square_025 with 70 layers\n",
      "Generated circuit for square_025 with 80 layers\n",
      "Generated circuit for square_025 with 90 layers\n",
      "Generated circuit for square_025 with 100 layers\n"
     ]
    }
   ],
   "source": [
    "for i in range(len(cm_list)):\n",
    "    cm    = cm_list[i]\n",
    "    label = label_list[i]\n",
    "    seed = 42\n",
    "\n",
    "    for layers in layers_list:\n",
    "        # Getting the answering circuit\n",
    "        ans_directory = f'experiments/circuits/synthetic/{label}_ans/'\n",
    "        if not os.path.exists(ans_directory):\n",
    "            os.makedirs(ans_directory)\n",
    "\n",
    "        qc_ans = create_parallel_circuit(coupling_map=cm, num_layers=layers,\n",
    "                                     seed=seed, cx_min_density=cx_min_density, \n",
    "                                     swap_max_density=swap_max_density)\n",
    "        file_ans = ans_directory + f'_{layers}.qasm'\n",
    "        dump(qc_ans, file_ans)\n",
    "        \n",
    "        # Getting the problem circuit\n",
    "        prob_directory = f'experiments/circuits/synthetic/{label}_prob/'\n",
    "        if not os.path.exists(prob_directory):\n",
    "            os.makedirs(prob_directory)\n",
    "\n",
    "        qc_prob = apply_swaps_and_get_matching_circuit(qc_ans)\n",
    "        file_prob = prob_directory + f'_{layers}_prob.qasm'\n",
    "        dump(qc_prob, file_prob)\n",
    "\n",
    "        # change seed for each circuit\n",
    "        seed += 1\n",
    "\n",
    "        print(f'Generated circuit for {label} with {layers} layers')\n",
    "\n"
   ]
  }
 ],
 "metadata": {
  "kernelspec": {
   "display_name": "qiskit-sabre",
   "language": "python",
   "name": "python3"
  },
  "language_info": {
   "codemirror_mode": {
    "name": "ipython",
    "version": 3
   },
   "file_extension": ".py",
   "mimetype": "text/x-python",
   "name": "python",
   "nbconvert_exporter": "python",
   "pygments_lexer": "ipython3",
   "version": "3.11.4"
  }
 },
 "nbformat": 4,
 "nbformat_minor": 2
}
