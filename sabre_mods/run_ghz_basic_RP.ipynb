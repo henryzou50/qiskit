{
 "cells": [
  {
   "cell_type": "code",
   "execution_count": 1,
   "metadata": {},
   "outputs": [],
   "source": [
    "from experiments.utils.pass_managers import run_circuits, build_pm\n",
    "from experiments.utils.coupling_maps import file_to_coupling_map\n",
    "from experiments.utils.circuits      import directory_to_circuits, rename_circuits\n",
    "\n",
    "# Parameters for general experiments\n",
    "from qiskit.transpiler.passes.routing.sabre_swap_0_20  import SabreSwap_v0_20   \n",
    "from qiskit.transpiler.passes.routing.sabre_swap_0_20_depth  import SabreSwap_v0_20_Depth\n",
    "from qiskit.transpiler.passes.routing.sabre_swap_0_20_depth_ties import SabreSwap_v0_20_DepthTies\n",
    "from qiskit.transpiler.passes.routing.sabre_swap_0_20_depth_crit import SabreSwap_v0_20_DepthCrit\n",
    "\n",
    "from qiskit.transpiler.passes.layout.sabre_layout import SabreLayout as LP\n",
    "from qiskit.transpiler.passes.routing.sabre_swap  import SabreSwap as RP"
   ]
  },
  {
   "cell_type": "code",
   "execution_count": 2,
   "metadata": {},
   "outputs": [],
   "source": [
    "# List of routing passes\n",
    "rp_list = [SabreSwap_v0_20, SabreSwap_v0_20_Depth, SabreSwap_v0_20_DepthTies]\n",
    "skip_list = []\n",
    "\n",
    "# Main parameters for experiments\n",
    "qc_type     = 'ghz_small'\n",
    "cm_type     = 'hex_127'\n",
    "seed        = 42\n",
    "num_times   = 1\n",
    "max_iter    = 3\n",
    "\n",
    "# Other parameters for sabre_mods\n",
    "beam        = 1\n",
    "look        = 1\n",
    "crit        = 1.1"
   ]
  },
  {
   "cell_type": "code",
   "execution_count": 3,
   "metadata": {},
   "outputs": [
    {
     "name": "stdout",
     "output_type": "stream",
     "text": [
      "    Running the experiment for circuit ghz_10.qasm...\n",
      "        Depths: 35, \n",
      "    Circuit ghz_10.qasm transpiled with best depth 35 and time 0.0545191764831543.\n",
      "    Running the experiment for circuit ghz_20.qasm...\n",
      "        Depths: 89, \n",
      "    Circuit ghz_20.qasm transpiled with best depth 89 and time 0.029172897338867188.\n",
      "    Running the experiment for circuit ghz_30.qasm...\n",
      "        Depths: 160, \n",
      "    Circuit ghz_30.qasm transpiled with best depth 160 and time 0.03514218330383301.\n",
      "    Running the experiment for circuit ghz_40.qasm...\n",
      "        Depths: 214, \n",
      "    Circuit ghz_40.qasm transpiled with best depth 214 and time 0.04105019569396973.\n",
      "    Running the experiment for circuit ghz_50.qasm...\n",
      "        Depths: 263, \n",
      "    Circuit ghz_50.qasm transpiled with best depth 263 and time 0.04650092124938965.\n",
      "    Running the experiment for circuit ghz_10.qasm...\n",
      "        Depths: 26, \n",
      "    Circuit ghz_10.qasm transpiled with best depth 26 and time 0.02755904197692871.\n",
      "    Running the experiment for circuit ghz_20.qasm...\n",
      "        Depths: 68, \n",
      "    Circuit ghz_20.qasm transpiled with best depth 68 and time 0.035559892654418945.\n",
      "    Running the experiment for circuit ghz_30.qasm...\n",
      "        Depths: 100, \n",
      "    Circuit ghz_30.qasm transpiled with best depth 100 and time 0.04057502746582031.\n",
      "    Running the experiment for circuit ghz_40.qasm...\n",
      "        Depths: 127, \n",
      "    Circuit ghz_40.qasm transpiled with best depth 127 and time 0.04931497573852539.\n",
      "    Running the experiment for circuit ghz_50.qasm...\n",
      "        Depths: 181, \n",
      "    Circuit ghz_50.qasm transpiled with best depth 181 and time 0.08545494079589844.\n",
      "    Running the experiment for circuit ghz_10.qasm...\n",
      "        Depths: 26, \n",
      "    Circuit ghz_10.qasm transpiled with best depth 26 and time 0.027506113052368164.\n",
      "    Running the experiment for circuit ghz_20.qasm...\n",
      "        Depths: 68, \n",
      "    Circuit ghz_20.qasm transpiled with best depth 68 and time 0.03279304504394531.\n",
      "    Running the experiment for circuit ghz_30.qasm...\n",
      "        Depths: 100, \n",
      "    Circuit ghz_30.qasm transpiled with best depth 100 and time 0.03982710838317871.\n",
      "    Running the experiment for circuit ghz_40.qasm...\n",
      "        Depths: 127, \n",
      "    Circuit ghz_40.qasm transpiled with best depth 127 and time 0.04868578910827637.\n",
      "    Running the experiment for circuit ghz_50.qasm...\n",
      "        Depths: 181, \n",
      "    Circuit ghz_50.qasm transpiled with best depth 181 and time 0.05806303024291992.\n"
     ]
    }
   ],
   "source": [
    "# Runs the experiments\n",
    "coupling_map     = file_to_coupling_map(f'experiments/coupling_maps/{cm_type}.txt')\n",
    "circuits, files  = directory_to_circuits(f'experiments/circuits/{qc_type}/')\n",
    "circuits         = rename_circuits(circuits, files)\n",
    "\n",
    "for rp in rp_list:\n",
    "    if rp in skip_list:\n",
    "        continue\n",
    "    routing_pass     = rp(coupling_map, seed=seed)\n",
    "    layout_pass      = LP(coupling_map, RP(coupling_map, seed=seed), seed=seed, max_iterations=max_iter)\n",
    "    pass_manager     = build_pm(coupling_map, layout_pass, routing_pass)\n",
    "    rp_name = routing_pass.__class__.__name__\n",
    "    filename = f'experiments/results/{qc_type}/{rp_name}.csv'\n",
    "    df = run_circuits(filename, circuits, pass_manager, num_times, max_iter, beam, look, crit)"
   ]
  },
  {
   "cell_type": "markdown",
   "metadata": {},
   "source": [
    "Run experiment for Sabre_v0_20_extended"
   ]
  },
  {
   "cell_type": "code",
   "execution_count": 4,
   "metadata": {},
   "outputs": [
    {
     "name": "stdout",
     "output_type": "stream",
     "text": [
      "    Running the experiment for circuit ghz_10.qasm...\n",
      "        Depths: 26, \n",
      "    Circuit ghz_10.qasm transpiled with best depth 26 and time 0.028940916061401367.\n",
      "    Running the experiment for circuit ghz_20.qasm...\n",
      "        Depths: 85, \n",
      "    Circuit ghz_20.qasm transpiled with best depth 85 and time 0.030420780181884766.\n",
      "    Running the experiment for circuit ghz_30.qasm...\n",
      "        Depths: 146, \n",
      "    Circuit ghz_30.qasm transpiled with best depth 146 and time 0.03522133827209473.\n",
      "    Running the experiment for circuit ghz_40.qasm...\n",
      "        Depths: 183, \n",
      "    Circuit ghz_40.qasm transpiled with best depth 183 and time 0.04445815086364746.\n",
      "    Running the experiment for circuit ghz_50.qasm...\n",
      "        Depths: 249, \n",
      "    Circuit ghz_50.qasm transpiled with best depth 249 and time 0.050492048263549805.\n"
     ]
    }
   ],
   "source": [
    "rp_list = [SabreSwap_v0_20]\n",
    "for rp in rp_list: \n",
    "    if rp in skip_list:\n",
    "        continue\n",
    "    routing_pass     = rp(coupling_map, seed=seed, heuristic=\"lookahead\")\n",
    "    layout_pass      = LP(coupling_map, RP(coupling_map, seed=seed), seed=seed, max_iterations=max_iter)\n",
    "    pass_manager     = build_pm(coupling_map, layout_pass, routing_pass)\n",
    "    rp_name = routing_pass.__class__.__name__ + \"_extended\"\n",
    "    filename = f'experiments/results/{qc_type}/{rp_name}.csv'\n",
    "    df = run_circuits(filename, circuits, pass_manager, num_times, max_iter, beam, look, crit)"
   ]
  },
  {
   "cell_type": "code",
   "execution_count": 5,
   "metadata": {},
   "outputs": [
    {
     "name": "stdout",
     "output_type": "stream",
     "text": [
      "    Running the experiment for circuit ghz_10.qasm...\n",
      "        Depths: 26, \n",
      "    Circuit ghz_10.qasm transpiled with best depth 26 and time 0.03023695945739746.\n",
      "    Running the experiment for circuit ghz_20.qasm...\n",
      "        Depths: 69, \n",
      "    Circuit ghz_20.qasm transpiled with best depth 69 and time 0.03612780570983887.\n",
      "    Running the experiment for circuit ghz_30.qasm...\n",
      "        Depths: 104, \n",
      "    Circuit ghz_30.qasm transpiled with best depth 104 and time 0.07338094711303711.\n",
      "    Running the experiment for circuit ghz_40.qasm...\n",
      "        Depths: 137, \n",
      "    Circuit ghz_40.qasm transpiled with best depth 137 and time 0.054534196853637695.\n",
      "    Running the experiment for circuit ghz_50.qasm...\n",
      "        Depths: 176, \n",
      "    Circuit ghz_50.qasm transpiled with best depth 176 and time 0.06401181221008301.\n"
     ]
    }
   ],
   "source": [
    "\n",
    "rp_list = [SabreSwap_v0_20_DepthCrit]\n",
    "for rp in rp_list: \n",
    "    if rp in skip_list:\n",
    "        continue\n",
    "    routing_pass     = rp(coupling_map, seed=seed, crit_weight=crit)\n",
    "    layout_pass      = LP(coupling_map, RP(coupling_map, seed=seed), seed=seed, max_iterations=max_iter)\n",
    "    pass_manager     = build_pm(coupling_map, layout_pass, routing_pass)\n",
    "    rp_name = routing_pass.__class__.__name__ + \"_extended\"\n",
    "    filename = f'experiments/results/{qc_type}/{rp_name}.csv'\n",
    "    df = run_circuits(filename, circuits, pass_manager, num_times, max_iter, beam, look, crit)"
   ]
  }
 ],
 "metadata": {
  "kernelspec": {
   "display_name": "qiskit-sabre",
   "language": "python",
   "name": "python3"
  },
  "language_info": {
   "codemirror_mode": {
    "name": "ipython",
    "version": 3
   },
   "file_extension": ".py",
   "mimetype": "text/x-python",
   "name": "python",
   "nbconvert_exporter": "python",
   "pygments_lexer": "ipython3",
   "version": "3.11.4"
  }
 },
 "nbformat": 4,
 "nbformat_minor": 2
}
