{
 "cells": [
  {
   "cell_type": "code",
   "execution_count": null,
   "metadata": {},
   "outputs": [],
   "source": [
    "from experiments.utils.pass_managers import run_circuits, build_pm\n",
    "from experiments.utils.coupling_maps import file_to_coupling_map\n",
    "from experiments.utils.circuits      import directory_to_circuits, rename_circuits\n",
    "\n",
    "# Parameters for general experiments\n",
    "from qiskit.transpiler.passes.routing.sabre_swap_0_20  import SabreSwap_v0_20   \n",
    "from qiskit.transpiler.passes.routing.sabre_swap_0_20_depth  import SabreSwap_v0_20_Depth\n",
    "from qiskit.transpiler.passes.routing.sabre_swap_0_20_depth_ties  import SabreSwap_v0_20_DepthTies\n",
    "\n",
    "from qiskit.transpiler.passes.layout.sabre_layout import SabreLayout as LP"
   ]
  },
  {
   "cell_type": "code",
   "execution_count": null,
   "metadata": {},
   "outputs": [],
   "source": [
    "# List of routing passes\n",
    "rp_list = [SabreSwap_v0_20, SabreSwap_v0_20_Depth, SabreSwap_v0_20_DepthTies]\n",
    "skip_list = []\n",
    "\n",
    "# Main parameters for experiments\n",
    "qc_type     = 'ghz'\n",
    "cm_type     = 'hex_127'\n",
    "seed        = 42\n",
    "num_times   = 4\n",
    "max_iter    = 3\n",
    "\n",
    "# Other parameters for sabre_mods\n",
    "beam        = 1\n",
    "look        = 1\n",
    "crit        = 1"
   ]
  },
  {
   "cell_type": "code",
   "execution_count": null,
   "metadata": {},
   "outputs": [],
   "source": [
    "# Runs the experiments\n",
    "coupling_map     = file_to_coupling_map(f'experiments/coupling_maps/{cm_type}.txt')\n",
    "circuits, files  = directory_to_circuits(f'experiments/circuits/{qc_type}/')\n",
    "circuits         = rename_circuits(circuits, files)\n",
    "\n",
    "for rp in rp_list:\n",
    "    if rp in skip_list:\n",
    "        continue\n",
    "    routing_pass     = rp(coupling_map, seed=seed)\n",
    "    layout_pass      = LP(coupling_map, routing_pass, seed=seed, max_iterations=3)\n",
    "    pass_manager     = build_pm(coupling_map, layout_pass, routing_pass)\n",
    "    rp_name = routing_pass.__class__.__name__\n",
    "    filename = f'experiments/results/{qc_type}/{rp_name}.csv'\n",
    "    df = run_circuits(filename, circuits, pass_manager, num_times,)"
   ]
  },
  {
   "cell_type": "markdown",
   "metadata": {},
   "source": [
    "Run experiment for Sabre_v0_20_extended"
   ]
  },
  {
   "cell_type": "code",
   "execution_count": null,
   "metadata": {},
   "outputs": [],
   "source": [
    "rp_list = [SabreSwap_v0_20]\n",
    "for rp in rp_list: \n",
    "    if rp in skip_list:\n",
    "        continue\n",
    "    routing_pass     = rp(coupling_map, seed=seed, heuristic=\"lookahead\")\n",
    "    layout_pass      = LP(coupling_map, routing_pass, seed=seed, max_iterations=3)\n",
    "    pass_manager     = build_pm(coupling_map, layout_pass, routing_pass)\n",
    "    rp_name = routing_pass.__class__.__name__ + \"_extended\"\n",
    "    filename = f'experiments/results/{qc_type}/{rp_name}.csv'\n",
    "    df = run_circuits(filename, circuits, pass_manager, num_times,)"
   ]
  }
 ],
 "metadata": {
  "kernelspec": {
   "display_name": "qiskit-sabre",
   "language": "python",
   "name": "python3"
  },
  "language_info": {
   "codemirror_mode": {
    "name": "ipython",
    "version": 3
   },
   "file_extension": ".py",
   "mimetype": "text/x-python",
   "name": "python",
   "nbconvert_exporter": "python",
   "pygments_lexer": "ipython3",
   "version": "3.11.4"
  }
 },
 "nbformat": 4,
 "nbformat_minor": 2
}
