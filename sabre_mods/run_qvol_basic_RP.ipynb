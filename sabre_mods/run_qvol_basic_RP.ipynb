{
 "cells": [
  {
   "cell_type": "code",
   "execution_count": 7,
   "metadata": {},
   "outputs": [],
   "source": [
    "from experiments.utils.pass_managers import run_circuits, build_pm\n",
    "from experiments.utils.coupling_maps import file_to_coupling_map\n",
    "from experiments.utils.circuits      import directory_to_circuits, rename_circuits\n",
    "\n",
    "# Parameters for general experiments\n",
    "from qiskit.transpiler.passes.routing.sabre_swap_0_20  import SabreSwap_v0_20   \n",
    "from qiskit.transpiler.passes.routing.sabre_swap_0_20_depth  import SabreSwap_v0_20_Depth\n",
    "from qiskit.transpiler.passes.routing.sabre_swap_0_20_depth_ties import SabreSwap_v0_20_DepthTies\n",
    "from qiskit.transpiler.passes.routing.sabre_swap_0_20_depth_crit import SabreSwap_v0_20_DepthCrit\n",
    "\n",
    "from qiskit.transpiler.passes.layout.sabre_layout import SabreLayout as LP\n",
    "from qiskit.transpiler.passes.routing.sabre_swap  import SabreSwap as RP"
   ]
  },
  {
   "cell_type": "code",
   "execution_count": 8,
   "metadata": {},
   "outputs": [],
   "source": [
    "# List of routing passes\n",
    "rp_list = [SabreSwap_v0_20, SabreSwap_v0_20_Depth, SabreSwap_v0_20_DepthTies]\n",
    "skip_list = []\n",
    "\n",
    "# Main parameters for experiments\n",
    "qc_type     = 'qvol_d1_small'\n",
    "cm_type     = 'hex_027'\n",
    "seed        = 42\n",
    "num_times   = 1\n",
    "max_iter    = 3\n",
    "\n",
    "# Other parameters for sabre_mods\n",
    "beam        = 1\n",
    "look        = 1\n",
    "crit        = 1.1"
   ]
  },
  {
   "cell_type": "code",
   "execution_count": 9,
   "metadata": {},
   "outputs": [
    {
     "name": "stdout",
     "output_type": "stream",
     "text": [
      "    Running the experiment for circuit qvol_10_10_0105.qasm...\n",
      "        Depths: 174, \n",
      "    Circuit qvol_10_10_0105.qasm transpiled with best depth 174 and time 0.07420182228088379.\n",
      "    Running the experiment for circuit qvol_10_20_0096.qasm...\n",
      "        Depths: 375, \n",
      "    Circuit qvol_10_20_0096.qasm transpiled with best depth 375 and time 0.1368420124053955.\n",
      "    Running the experiment for circuit qvol_10_30_0719.qasm...\n",
      "        Depths: 528, \n",
      "    Circuit qvol_10_30_0719.qasm transpiled with best depth 528 and time 0.20616388320922852.\n",
      "    Running the experiment for circuit qvol_10_40_0778.qasm...\n",
      "        Depths: 513, \n",
      "    Circuit qvol_10_40_0778.qasm transpiled with best depth 513 and time 0.9648349285125732.\n",
      "    Running the experiment for circuit qvol_10_50_0345.qasm...\n",
      "        Depths: 609, \n",
      "    Circuit qvol_10_50_0345.qasm transpiled with best depth 609 and time 0.34532713890075684.\n",
      "    Running the experiment for circuit qvol_10_10_0105.qasm...\n",
      "        Depths: 159, \n",
      "    Circuit qvol_10_10_0105.qasm transpiled with best depth 159 and time 0.0707399845123291.\n",
      "    Running the experiment for circuit qvol_10_20_0096.qasm...\n",
      "        Depths: 306, \n",
      "    Circuit qvol_10_20_0096.qasm transpiled with best depth 306 and time 0.13190388679504395.\n",
      "    Running the experiment for circuit qvol_10_30_0719.qasm...\n",
      "        Depths: 387, \n",
      "    Circuit qvol_10_30_0719.qasm transpiled with best depth 387 and time 0.20410799980163574.\n",
      "    Running the experiment for circuit qvol_10_40_0778.qasm...\n",
      "        Depths: 429, \n",
      "    Circuit qvol_10_40_0778.qasm transpiled with best depth 429 and time 0.26795387268066406.\n",
      "    Running the experiment for circuit qvol_10_50_0345.qasm...\n",
      "        Depths: 513, \n",
      "    Circuit qvol_10_50_0345.qasm transpiled with best depth 513 and time 0.3274261951446533.\n",
      "    Running the experiment for circuit qvol_10_10_0105.qasm...\n",
      "        Depths: 156, \n",
      "    Circuit qvol_10_10_0105.qasm transpiled with best depth 156 and time 0.06619596481323242.\n",
      "    Running the experiment for circuit qvol_10_20_0096.qasm...\n",
      "        Depths: 306, \n",
      "    Circuit qvol_10_20_0096.qasm transpiled with best depth 306 and time 0.12884283065795898.\n",
      "    Running the experiment for circuit qvol_10_30_0719.qasm...\n",
      "        Depths: 492, \n",
      "    Circuit qvol_10_30_0719.qasm transpiled with best depth 492 and time 0.5226199626922607.\n",
      "    Running the experiment for circuit qvol_10_40_0778.qasm...\n",
      "        Depths: 417, \n",
      "    Circuit qvol_10_40_0778.qasm transpiled with best depth 417 and time 0.2638580799102783.\n",
      "    Running the experiment for circuit qvol_10_50_0345.qasm...\n",
      "        Depths: 528, \n",
      "    Circuit qvol_10_50_0345.qasm transpiled with best depth 528 and time 0.31548380851745605.\n"
     ]
    }
   ],
   "source": [
    "# Runs the experiments\n",
    "coupling_map     = file_to_coupling_map(f'experiments/coupling_maps/{cm_type}.txt')\n",
    "circuits, files  = directory_to_circuits(f'experiments/circuits/{qc_type}/')\n",
    "circuits         = rename_circuits(circuits, files)\n",
    "\n",
    "for rp in rp_list:\n",
    "    if rp in skip_list:\n",
    "        continue\n",
    "    routing_pass     = rp(coupling_map, seed=seed)\n",
    "    layout_pass      = LP(coupling_map, RP(coupling_map, seed=seed), seed=seed, max_iterations=max_iter)\n",
    "    pass_manager     = build_pm(coupling_map, layout_pass, routing_pass)\n",
    "    rp_name = routing_pass.__class__.__name__\n",
    "    filename = f'experiments/results/{qc_type}/{rp_name}.csv'\n",
    "    df = run_circuits(filename, circuits, pass_manager, num_times, max_iter, beam, look, crit)"
   ]
  },
  {
   "cell_type": "markdown",
   "metadata": {},
   "source": [
    "Run experiment for Sabre_v0_20_extended"
   ]
  },
  {
   "cell_type": "code",
   "execution_count": 10,
   "metadata": {},
   "outputs": [
    {
     "name": "stdout",
     "output_type": "stream",
     "text": [
      "    Running the experiment for circuit qvol_10_10_0105.qasm...\n",
      "        Depths: 159, \n",
      "    Circuit qvol_10_10_0105.qasm transpiled with best depth 159 and time 0.06797480583190918.\n",
      "    Running the experiment for circuit qvol_10_20_0096.qasm...\n",
      "        Depths: 324, \n",
      "    Circuit qvol_10_20_0096.qasm transpiled with best depth 324 and time 0.1290130615234375.\n",
      "    Running the experiment for circuit qvol_10_30_0719.qasm...\n",
      "        Depths: 501, \n",
      "    Circuit qvol_10_30_0719.qasm transpiled with best depth 501 and time 0.4792628288269043.\n",
      "    Running the experiment for circuit qvol_10_40_0778.qasm...\n",
      "        Depths: 492, \n",
      "    Circuit qvol_10_40_0778.qasm transpiled with best depth 492 and time 0.259768009185791.\n",
      "    Running the experiment for circuit qvol_10_50_0345.qasm...\n",
      "        Depths: 642, \n",
      "    Circuit qvol_10_50_0345.qasm transpiled with best depth 642 and time 0.31658387184143066.\n"
     ]
    }
   ],
   "source": [
    "rp_list = [SabreSwap_v0_20]\n",
    "for rp in rp_list: \n",
    "    if rp in skip_list:\n",
    "        continue\n",
    "    routing_pass     = rp(coupling_map, seed=seed, heuristic=\"lookahead\")\n",
    "    layout_pass      = LP(coupling_map, RP(coupling_map, seed=seed), seed=seed, max_iterations=max_iter)\n",
    "    pass_manager     = build_pm(coupling_map, layout_pass, routing_pass)\n",
    "    rp_name = routing_pass.__class__.__name__ + \"_extended\"\n",
    "    filename = f'experiments/results/{qc_type}/{rp_name}.csv'\n",
    "    df = run_circuits(filename, circuits, pass_manager, num_times, max_iter, beam, look, crit)"
   ]
  },
  {
   "cell_type": "code",
   "execution_count": 11,
   "metadata": {},
   "outputs": [
    {
     "name": "stdout",
     "output_type": "stream",
     "text": [
      "    Running the experiment for circuit qvol_10_10_0105.qasm...\n",
      "        Depths: 159, \n",
      "    Circuit qvol_10_10_0105.qasm transpiled with best depth 159 and time 0.0704960823059082.\n",
      "    Running the experiment for circuit qvol_10_20_0096.qasm...\n",
      "        Depths: 285, \n",
      "    Circuit qvol_10_20_0096.qasm transpiled with best depth 285 and time 0.13016700744628906.\n",
      "    Running the experiment for circuit qvol_10_30_0719.qasm...\n",
      "        Depths: 468, \n",
      "    Circuit qvol_10_30_0719.qasm transpiled with best depth 468 and time 0.4953269958496094.\n",
      "    Running the experiment for circuit qvol_10_40_0778.qasm...\n",
      "        Depths: 408, \n",
      "    Circuit qvol_10_40_0778.qasm transpiled with best depth 408 and time 0.2754690647125244.\n",
      "    Running the experiment for circuit qvol_10_50_0345.qasm...\n",
      "        Depths: 522, \n",
      "    Circuit qvol_10_50_0345.qasm transpiled with best depth 522 and time 0.3411529064178467.\n"
     ]
    }
   ],
   "source": [
    "\n",
    "rp_list = [SabreSwap_v0_20_DepthCrit]\n",
    "for rp in rp_list: \n",
    "    if rp in skip_list:\n",
    "        continue\n",
    "    routing_pass     = rp(coupling_map, seed=seed, crit_weight=crit)\n",
    "    layout_pass      = LP(coupling_map, RP(coupling_map, seed=seed), seed=seed, max_iterations=max_iter)\n",
    "    pass_manager     = build_pm(coupling_map, layout_pass, routing_pass)\n",
    "    rp_name = routing_pass.__class__.__name__ + \"_extended\"\n",
    "    filename = f'experiments/results/{qc_type}/{rp_name}.csv'\n",
    "    df = run_circuits(filename, circuits, pass_manager, num_times, max_iter, beam, look, crit)"
   ]
  }
 ],
 "metadata": {
  "kernelspec": {
   "display_name": "qiskit-sabre",
   "language": "python",
   "name": "python3"
  },
  "language_info": {
   "codemirror_mode": {
    "name": "ipython",
    "version": 3
   },
   "file_extension": ".py",
   "mimetype": "text/x-python",
   "name": "python",
   "nbconvert_exporter": "python",
   "pygments_lexer": "ipython3",
   "version": "3.11.4"
  }
 },
 "nbformat": 4,
 "nbformat_minor": 2
}
