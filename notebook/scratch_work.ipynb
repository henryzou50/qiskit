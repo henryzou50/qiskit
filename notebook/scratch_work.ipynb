{
 "cells": [
  {
   "cell_type": "code",
   "execution_count": 1,
   "metadata": {},
   "outputs": [],
   "source": [
    "from utils import create_and_save_ghz_circuits"
   ]
  },
  {
   "cell_type": "code",
   "execution_count": 2,
   "metadata": {},
   "outputs": [
    {
     "name": "stdout",
     "output_type": "stream",
     "text": [
      "GHZ circuits saved to ghz\n"
     ]
    }
   ],
   "source": [
    "num_qubits_list = [10, 29, 49, 68, 88, 107, 127]\n",
    "create_and_save_ghz_circuits(num_qubits_list)"
   ]
  }
 ],
 "metadata": {
  "kernelspec": {
   "display_name": "sabre-dev",
   "language": "python",
   "name": "python3"
  },
  "language_info": {
   "codemirror_mode": {
    "name": "ipython",
    "version": 3
   },
   "file_extension": ".py",
   "mimetype": "text/x-python",
   "name": "python",
   "nbconvert_exporter": "python",
   "pygments_lexer": "ipython3",
   "version": "3.11.4"
  }
 },
 "nbformat": 4,
 "nbformat_minor": 2
}
