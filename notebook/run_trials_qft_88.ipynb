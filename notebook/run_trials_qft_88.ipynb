{
 "cells": [
  {
   "cell_type": "code",
   "execution_count": 1,
   "metadata": {},
   "outputs": [],
   "source": [
    "from qiskit.transpiler import CouplingMap, PassManager\n",
    "from qiskit.transpiler.passes import SabreLayout, SabreSwap\n",
    "from qiskit.transpiler.passes import FullAncillaAllocation, EnlargeWithAncilla, ApplyLayout\n",
    "from qiskit.converters import circuit_to_dag, dag_to_circuit\n",
    "from utils import file_to_coupling_map, directory_to_circuits\n",
    "import random\n",
    "import time\n",
    "import os\n",
    "import numpy as np\n"
   ]
  },
  {
   "cell_type": "code",
   "execution_count": 2,
   "metadata": {},
   "outputs": [],
   "source": [
    "seed = 42\n",
    "random.seed(seed)\n",
    "\n",
    "cmap_name= \"heavy_hex_127.txt\"\n",
    "cmap = file_to_coupling_map(f\"coupling_maps/{cmap_name}\")\n",
    "qc_name = \"qft_88\"\n",
    "heuristic = \"decay\"\n",
    "curr_seed = 42\n",
    "qc_list = directory_to_circuits(f\"circuits/{qc_name}\")\n",
    "\n",
    "pass_trials_list = sorted(set(np.logspace(0, 3, num=10, dtype=int)))\n",
    "\n",
    "\n",
    "# CSV file to store the results\n",
    "csv_path = f\"results/trials_{qc_name}_10.csv\"\n",
    "# Columns are: \"swap_count\", \"depth\", \"runtime\", \"num_qubits\", \"heuristic\", \"cmap\", \"trials\", \"seed\"\n",
    "with open(csv_path, \"w\") as f:\n",
    "    f.write(\"swap_count,depth,runtime,num_qubits,heuristic,cmap,trials,seed\\n\")\n",
    "\n",
    "\n"
   ]
  },
  {
   "cell_type": "code",
   "execution_count": 3,
   "metadata": {},
   "outputs": [
    {
     "name": "stdout",
     "output_type": "stream",
     "text": [
      "    Running qft_88.qasm \n",
      "Running 1 trials\n",
      "            Swap count: 5766, Depth: 1403, Runtime: 2.2965378761291504\n",
      "Running 2 trials\n",
      "            Swap count: 6224, Depth: 1751, Runtime: 2.3636491298675537\n",
      "Running 4 trials\n",
      "            Swap count: 6224, Depth: 1751, Runtime: 2.5950238704681396\n",
      "Running 10 trials\n",
      "            Swap count: 6008, Depth: 1566, Runtime: 5.6467061042785645\n",
      "Running 21 trials\n",
      "            Swap count: 5505, Depth: 1740, Runtime: 17.159600973129272\n",
      "Running 46 trials\n",
      "            Swap count: 5264, Depth: 1416, Runtime: 141.11733293533325\n",
      "Running 100 trials\n",
      "            Swap count: 5000, Depth: 1277, Runtime: 794.2997620105743\n",
      "Running 215 trials\n",
      "            Swap count: 5000, Depth: 1277, Runtime: 3510.5311076641083\n",
      "Running 464 trials\n"
     ]
    }
   ],
   "source": [
    "# Run the circuits\n",
    "for qc in qc_list:\n",
    "    num_qubits = qc.num_qubits\n",
    "    print(f\"    Running {qc.name} \")\n",
    "    # Run the circuits for different number of trials\n",
    "    for pass_trials in pass_trials_list:\n",
    "        print(f\"Running {pass_trials} trials\")\n",
    "        # Create the sabre pass\n",
    "        sabre_pass = SabreLayout(cmap, seed=curr_seed, max_iterations=4, swap_trials=pass_trials, layout_trials=pass_trials )\n",
    "        dag = circuit_to_dag(qc)\n",
    "        \n",
    "        # Execute the pass manager\n",
    "        start = time.time()\n",
    "        dag_tr = sabre_pass.run(dag)\n",
    "        end = time.time()\n",
    "        # Collect the metrics for this trial\n",
    "        runtime = end - start\n",
    "\n",
    "        qc_tr = dag_to_circuit(dag_tr)\n",
    "        swap_count = qc_tr.count_ops().get(\"swap\", 0)\n",
    "        depth = qc_tr.depth(lambda x: x.operation.num_qubits == 2)\n",
    "\n",
    "        # Write the results to the CSV file\n",
    "        # Columns are: \"swap_count\", \"depth\", \"runtime\", \"num_qubits\", \"heuristic\", \"cmap\", \"trials\", \"seed\"\n",
    "        with open(csv_path, \"a\") as f:\n",
    "            f.write(f\"{swap_count},{depth},{runtime},{num_qubits},{heuristic},{cmap_name},{pass_trials},{curr_seed}\\n\")\n",
    "        print(f\"            Swap count: {swap_count}, Depth: {depth}, Runtime: {runtime}\")\n",
    "\n",
    "    "
   ]
  }
 ],
 "metadata": {
  "kernelspec": {
   "display_name": "sabre-dev",
   "language": "python",
   "name": "python3"
  },
  "language_info": {
   "codemirror_mode": {
    "name": "ipython",
    "version": 3
   },
   "file_extension": ".py",
   "mimetype": "text/x-python",
   "name": "python",
   "nbconvert_exporter": "python",
   "pygments_lexer": "ipython3",
   "version": "3.11.4"
  }
 },
 "nbformat": 4,
 "nbformat_minor": 2
}
