{
 "cells": [
  {
   "cell_type": "code",
   "execution_count": 3,
   "metadata": {},
   "outputs": [],
   "source": [
    "from qiskit.transpiler import CouplingMap, PassManager\n",
    "from qiskit.transpiler.passes import SabreLayout, SabreSwap, ApplyLayout, EnlargeWithAncilla\n",
    "from utils import file_to_coupling_map, directory_to_circuits, build_pass_manager\n",
    "import random\n",
    "import pandas as pd\n",
    "import time\n"
   ]
  },
  {
   "cell_type": "code",
   "execution_count": 4,
   "metadata": {},
   "outputs": [
    {
     "name": "stdout",
     "output_type": "stream",
     "text": [
      "Runtime: 0.4911050797 seconds\n",
      "Depth: 402\n"
     ]
    }
   ],
   "source": [
    "# Set random seed for reproducibility\n",
    "seed = 42\n",
    "\n",
    "# Load the coupling map and the quantum circuit\n",
    "cm_name = 'heavy_hex_127'\n",
    "qc_name = 'ghz'\n",
    "cm = CouplingMap(file_to_coupling_map(f'coupling_maps/{cm_name}.txt'))\n",
    "qc_list = directory_to_circuits(f'{qc_name}')\n",
    "\n",
    "# Create the pass manager\n",
    "layout_trials = 10\n",
    "swap_trials   = layout_trials # same number of trials for layout and swap\n",
    "heuristic     = \"lookahead\"\n",
    "rp  = SabreSwap(coupling_map=cm, heuristic=heuristic, seed = seed, trials=swap_trials)\n",
    "lp  = SabreLayout(coupling_map=cm,  seed=seed, routing_pass=rp)\n",
    "pm = build_pass_manager(cm, lp, rp)\n",
    "\n",
    "# One pass trial\n",
    "qc = qc_list[-1]\n",
    "\n",
    "time_start = time.time()\n",
    "qc_tr = pm.run(qc)\n",
    "time_end = time.time()\n",
    "\n",
    "runtime = time_end - time_start\n",
    "depth = qc_tr.depth(lambda x: x.operation.num_qubits == 2) # 2 qubit gates\n",
    "print(f\"Runtime: {runtime:.10f} seconds\")\n",
    "print(f\"Depth: {depth}\")\n"
   ]
  },
  {
   "cell_type": "code",
   "execution_count": null,
   "metadata": {},
   "outputs": [],
   "source": []
  },
  {
   "cell_type": "code",
   "execution_count": null,
   "metadata": {},
   "outputs": [],
   "source": []
  }
 ],
 "metadata": {
  "kernelspec": {
   "display_name": "sabre-dev",
   "language": "python",
   "name": "python3"
  },
  "language_info": {
   "codemirror_mode": {
    "name": "ipython",
    "version": 3
   },
   "file_extension": ".py",
   "mimetype": "text/x-python",
   "name": "python",
   "nbconvert_exporter": "python",
   "pygments_lexer": "ipython3",
   "version": "3.11.4"
  }
 },
 "nbformat": 4,
 "nbformat_minor": 2
}
