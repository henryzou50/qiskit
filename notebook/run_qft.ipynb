{
 "cells": [
  {
   "cell_type": "code",
   "execution_count": null,
   "metadata": {},
   "outputs": [],
   "source": [
    "from qiskit.transpiler import CouplingMap, PassManager\n",
    "from qiskit.transpiler.passes import SabreLayout, SabreSwap\n",
    "from qiskit.transpiler.passes import FullAncillaAllocation, EnlargeWithAncilla, ApplyLayout\n",
    "from utils import file_to_coupling_map, directory_to_circuits\n",
    "\n",
    "import random\n",
    "import time\n",
    "import os\n",
    "import numpy as np\n"
   ]
  },
  {
   "cell_type": "code",
   "execution_count": null,
   "metadata": {},
   "outputs": [],
   "source": [
    "seed = 42\n",
    "random.seed(seed)\n",
    "\n",
    "cmap_names = [\"ring_127.txt\", \"heavy_hex_127.txt\", \"square_144.txt\"]\n",
    "qc_name = \"qft\"\n",
    "heuristic_list = [\"basic\", \"lookahead\", \"decay\", \"depth\", \"critical\"]\n",
    "qc_list = directory_to_circuits(f\"circuits/{qc_name}\")\n",
    "seed_list = [random.randint(0, 100000) for _ in range(len(qc_list))]\n",
    "pass_trials = 20\n",
    "\n",
    "# CSV file to store the results\n",
    "csv_path = f\"results/{qc_name}.csv\"\n",
    "# Columns are: \"swap_count\", \"depth\", \"runtime\", \"num_qubits\", \"heuristic\", \"cmap\", \"trials\", \"seed\"\n",
    "with open(csv_path, \"w\") as f:\n",
    "    f.write(\"swap_count,depth,runtime,num_qubits,heuristic,cmap,trials,seed\\n\")\n",
    "\n",
    "\n"
   ]
  },
  {
   "cell_type": "code",
   "execution_count": null,
   "metadata": {},
   "outputs": [],
   "source": [
    "# Run on all heuristics\n",
    "for heuristic in heuristic_list:\n",
    "    print(f\"Running {heuristic} heuristic\")\n",
    "    # Run on all coupling maps\n",
    "    for cmap_name in cmap_names: \n",
    "        print(f\"    Loading coupling map {cmap_name}\")\n",
    "        cmap = file_to_coupling_map(f\"coupling_maps/{cmap_name}\")\n",
    "        # Run on all circuits\n",
    "        for qc in qc_list:\n",
    "            num_qubits = qc.num_qubits\n",
    "            curr_seed = seed_list[qc_list.index(qc)]\n",
    "            print(f\"        Running {qc.name} on {cmap_name} with seed {curr_seed}\")\n",
    "            # Create the routing pass\n",
    "            rp = SabreSwap(coupling_map=cmap, heuristic=heuristic, seed=curr_seed, trials=pass_trials)\n",
    "            lp = SabreLayout(coupling_map=cmap, routing_pass=rp, seed=curr_seed)\n",
    "            # Create the pass manager\n",
    "            pm = PassManager([lp, FullAncillaAllocation(cmap), EnlargeWithAncilla(), ApplyLayout(), rp])\n",
    "            # Execute the pass manager\n",
    "            start = time.time()\n",
    "            qc_tr = pm.run(qc)\n",
    "            end = time.time()\n",
    "            # Collect the metrics for this trial\n",
    "            runtime = end - start\n",
    "            swap_count = qc_tr.count_ops().get(\"swap\", 0)\n",
    "            depth = qc_tr.depth(lambda x: x.operation.num_qubits == 2)\n",
    "\n",
    "            # Write the results to the CSV file\n",
    "            # Columns are: \"swap_count\", \"depth\", \"runtime\", \"num_qubits\", \"heuristic\", \"cmap\", \"trials\", \"seed\"\n",
    "            with open(csv_path, \"a\") as f:\n",
    "                f.write(f\"{swap_count},{depth},{runtime},{num_qubits},{heuristic},{cmap_name},{pass_trials},{curr_seed}\\n\")\n",
    "            print(f\"            Swap count: {swap_count}, Depth: {depth}, Runtime: {runtime}\")\n",
    "\n",
    "    "
   ]
  },
  {
   "cell_type": "code",
   "execution_count": null,
   "metadata": {},
   "outputs": [],
   "source": []
  }
 ],
 "metadata": {
  "kernelspec": {
   "display_name": "sabre-dev",
   "language": "python",
   "name": "python3"
  },
  "language_info": {
   "codemirror_mode": {
    "name": "ipython",
    "version": 3
   },
   "file_extension": ".py",
   "mimetype": "text/x-python",
   "name": "python",
   "nbconvert_exporter": "python",
   "pygments_lexer": "ipython3",
   "version": "3.11.4"
  }
 },
 "nbformat": 4,
 "nbformat_minor": 2
}
