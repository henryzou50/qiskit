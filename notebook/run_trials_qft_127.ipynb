{
 "cells": [
  {
   "cell_type": "code",
   "execution_count": 1,
   "metadata": {},
   "outputs": [],
   "source": [
    "from qiskit.transpiler import CouplingMap, PassManager\n",
    "from qiskit.transpiler.passes import SabreLayout, SabreSwap\n",
    "from qiskit.transpiler.passes import FullAncillaAllocation, EnlargeWithAncilla, ApplyLayout\n",
    "from qiskit.converters import circuit_to_dag, dag_to_circuit\n",
    "from utils import file_to_coupling_map, directory_to_circuits\n",
    "import random\n",
    "import time\n",
    "import os\n",
    "import numpy as np\n"
   ]
  },
  {
   "cell_type": "code",
   "execution_count": 2,
   "metadata": {},
   "outputs": [],
   "source": [
    "seed = 42\n",
    "random.seed(seed)\n",
    "\n",
    "cmap_name= \"heavy_hex_127.txt\"\n",
    "cmap = file_to_coupling_map(f\"coupling_maps/{cmap_name}\")\n",
    "qc_name = \"qft_127\"\n",
    "heuristic = \"decay\"\n",
    "curr_seed = 42\n",
    "qc_list = directory_to_circuits(f\"circuits/{qc_name}\")\n",
    "\n",
    "pass_trials_list = sorted(set(np.logspace(0, 3, num=10, dtype=int)))\n",
    "\n",
    "\n",
    "# CSV file to store the results\n",
    "csv_path = f\"results/trials_{qc_name}_10.csv\"\n",
    "# Columns are: \"swap_count\", \"depth\", \"runtime\", \"num_qubits\", \"heuristic\", \"cmap\", \"trials\", \"seed\"\n",
    "with open(csv_path, \"w\") as f:\n",
    "    f.write(\"swap_count,depth,runtime,num_qubits,heuristic,cmap,trials,seed\\n\")\n",
    "\n",
    "\n"
   ]
  },
  {
   "cell_type": "code",
   "execution_count": 3,
   "metadata": {},
   "outputs": [
    {
     "name": "stdout",
     "output_type": "stream",
     "text": [
      "    Running qft_127.qasm \n",
      "Running 1 trials\n",
      "            Swap count: 13923, Depth: 3424, Runtime: 10.155338048934937\n",
      "Running 2 trials\n",
      "            Swap count: 13312, Depth: 2943, Runtime: 13.11972689628601\n",
      "Running 4 trials\n",
      "            Swap count: 13009, Depth: 3892, Runtime: 17.084058046340942\n",
      "Running 10 trials\n",
      "            Swap count: 12129, Depth: 2982, Runtime: 36.09167289733887\n",
      "Running 21 trials\n",
      "            Swap count: 12129, Depth: 2982, Runtime: 108.78556203842163\n",
      "Running 46 trials\n",
      "            Swap count: 12129, Depth: 2982, Runtime: 426.7843179702759\n",
      "Running 100 trials\n",
      "            Swap count: 11410, Depth: 2716, Runtime: 1817.668897151947\n",
      "Running 215 trials\n"
     ]
    }
   ],
   "source": [
    "# Run the circuits\n",
    "for qc in qc_list:\n",
    "    num_qubits = qc.num_qubits\n",
    "    print(f\"    Running {qc.name} \")\n",
    "    # Run the circuits for different number of trials\n",
    "    for pass_trials in pass_trials_list:\n",
    "        print(f\"Running {pass_trials} trials\")\n",
    "        # Create the sabre pass\n",
    "        sabre_pass = SabreLayout(cmap, seed=curr_seed, max_iterations=4, swap_trials=pass_trials, layout_trials=pass_trials )\n",
    "        dag = circuit_to_dag(qc)\n",
    "        \n",
    "        # Execute the pass manager\n",
    "        start = time.time()\n",
    "        dag_tr = sabre_pass.run(dag)\n",
    "        end = time.time()\n",
    "        # Collect the metrics for this trial\n",
    "        runtime = end - start\n",
    "\n",
    "        qc_tr = dag_to_circuit(dag_tr)\n",
    "        swap_count = qc_tr.count_ops().get(\"swap\", 0)\n",
    "        depth = qc_tr.depth(lambda x: x.operation.num_qubits == 2)\n",
    "\n",
    "        # Write the results to the CSV file\n",
    "        # Columns are: \"swap_count\", \"depth\", \"runtime\", \"num_qubits\", \"heuristic\", \"cmap\", \"trials\", \"seed\"\n",
    "        with open(csv_path, \"a\") as f:\n",
    "            f.write(f\"{swap_count},{depth},{runtime},{num_qubits},{heuristic},{cmap_name},{pass_trials},{curr_seed}\\n\")\n",
    "        print(f\"            Swap count: {swap_count}, Depth: {depth}, Runtime: {runtime}\")\n",
    "\n",
    "    "
   ]
  }
 ],
 "metadata": {
  "kernelspec": {
   "display_name": "sabre-dev",
   "language": "python",
   "name": "python3"
  },
  "language_info": {
   "codemirror_mode": {
    "name": "ipython",
    "version": 3
   },
   "file_extension": ".py",
   "mimetype": "text/x-python",
   "name": "python",
   "nbconvert_exporter": "python",
   "pygments_lexer": "ipython3",
   "version": "3.11.4"
  }
 },
 "nbformat": 4,
 "nbformat_minor": 2
}
