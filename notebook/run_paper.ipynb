{
 "cells": [
  {
   "cell_type": "code",
   "execution_count": 1,
   "metadata": {},
   "outputs": [],
   "source": [
    "from qiskit.transpiler import CouplingMap, PassManager\n",
    "from qiskit.transpiler.passes import SabreLayout, SabreSwap\n",
    "from qiskit.transpiler.passes import FullAncillaAllocation, EnlargeWithAncilla, ApplyLayout\n",
    "from utils import file_to_coupling_map, directory_to_circuits\n",
    "\n",
    "import random\n",
    "import time\n",
    "import os\n",
    "import numpy as np\n"
   ]
  },
  {
   "cell_type": "code",
   "execution_count": 2,
   "metadata": {},
   "outputs": [],
   "source": [
    "seed = 42\n",
    "random.seed(seed)\n",
    "\n",
    "cmap_names = [\"toyko_20.txt\"]\n",
    "qc_name = \"paper\"\n",
    "heuristic_list = [\"lookahead\"]\n",
    "qc_list = directory_to_circuits(f\"circuits/{qc_name}\")\n",
    "seed_list = [42] * len(qc_list)\n",
    "pass_trials = 20\n",
    "\n",
    "# CSV file to store the results\n",
    "csv_path = f\"results/{qc_name}.csv\"\n",
    "# Columns are: \"qc_label, swap_count\", \"depth\", \"runtime\", \"num_qubits\", \"heuristic\", \"cmap\", \"trials\", \"seed\"\n",
    "with open(csv_path, \"w\") as f:\n",
    "    f.write(\"qc_label,swap_count,depth,runtime,num_qubits,heuristic,cmap,trials,seed\\n\")\n",
    "\n",
    "\n"
   ]
  },
  {
   "cell_type": "code",
   "execution_count": 3,
   "metadata": {},
   "outputs": [
    {
     "name": "stdout",
     "output_type": "stream",
     "text": [
      "Running lookahead heuristic\n",
      "    Loading coupling map toyko_20.txt\n",
      "        Running qft_10.qasm on toyko_20.txt with seed 42\n",
      "            Swap count: 20, Depth: 44, Runtime: 0.04926109313964844\n",
      "        Running qft_13.qasm on toyko_20.txt with seed 42\n",
      "            Swap count: 41, Depth: 71, Runtime: 0.07844305038452148\n",
      "        Running qft_16.qasm on toyko_20.txt with seed 42\n",
      "            Swap count: 61, Depth: 101, Runtime: 0.116455078125\n",
      "        Running qft_20.qasm on toyko_20.txt with seed 42\n",
      "            Swap count: 113, Depth: 131, Runtime: 0.18312287330627441\n",
      "        Running rd84_142.qasm on toyko_20.txt with seed 42\n",
      "            Swap count: 15, Depth: 101, Runtime: 0.13555407524108887\n",
      "        Running ising_model_10.qasm on toyko_20.txt with seed 42\n",
      "            Swap count: 0, Depth: 20, Runtime: 0.15352606773376465\n",
      "        Running ising_model_13.qasm on toyko_20.txt with seed 42\n",
      "            Swap count: 3, Depth: 41, Runtime: 0.20154285430908203\n",
      "        Running ising_model_16.qasm on toyko_20.txt with seed 42\n",
      "            Swap count: 0, Depth: 20, Runtime: 0.2781069278717041\n",
      "        Running z4_268.qasm on toyko_20.txt with seed 42\n",
      "            Swap count: 192, Depth: 1118, Runtime: 1.027587890625\n",
      "        Running radd_250.qasm on toyko_20.txt with seed 42\n",
      "            Swap count: 227, Depth: 1156, Runtime: 1.1608939170837402\n",
      "        Running adr4_197.qasm on toyko_20.txt with seed 42\n",
      "            Swap count: 217, Depth: 1212, Runtime: 1.2068920135498047\n",
      "        Running sym6_145.qasm on toyko_20.txt with seed 42\n",
      "            Swap count: 248, Depth: 1212, Runtime: 1.1377131938934326\n",
      "        Running misex1_241.qasm on toyko_20.txt with seed 42\n",
      "            Swap count: 309, Depth: 1753, Runtime: 1.6399500370025635\n",
      "        Running rd73_252.qasm on toyko_20.txt with seed 42\n",
      "            Swap count: 410, Depth: 2026, Runtime: 1.8872697353363037\n",
      "        Running cycle10_2_110.qasm on toyko_20.txt with seed 42\n",
      "            Swap count: 567, Depth: 3023, Runtime: 2.7686519622802734\n",
      "        Running sqn_258.qasm on toyko_20.txt with seed 42\n",
      "            Swap count: 716, Depth: 3669, Runtime: 3.355030059814453\n",
      "        Running rd84_253.qasm on toyko_20.txt with seed 42\n",
      "            Swap count: 1403, Depth: 6015, Runtime: 5.634883880615234\n",
      "        Running square_root_7.qasm on toyko_20.txt with seed 42\n",
      "            Swap count: 1785, Depth: 8744, Runtime: 7.737200021743774\n",
      "        Running co14_215.qasm on toyko_20.txt with seed 42\n",
      "            Swap count: 3298, Depth: 15640, Runtime: 12.764038324356079\n",
      "        Running 9symml_195.qasm on toyko_20.txt with seed 42\n",
      "            Swap count: 4022, Depth: 16843, Runtime: 14.962302923202515\n",
      "        Running sym9_193.qasm on toyko_20.txt with seed 42\n",
      "            Swap count: 4022, Depth: 16843, Runtime: 15.02048397064209\n"
     ]
    }
   ],
   "source": [
    "# Run on all heuristics\n",
    "for heuristic in heuristic_list:\n",
    "    print(f\"Running {heuristic} heuristic\")\n",
    "    # Run on all coupling maps\n",
    "    for cmap_name in cmap_names: \n",
    "        print(f\"    Loading coupling map {cmap_name}\")\n",
    "        cmap = file_to_coupling_map(f\"coupling_maps/{cmap_name}\")\n",
    "        # Run on all circuits\n",
    "        for qc in qc_list:\n",
    "            qc_label = qc.name\n",
    "            num_qubits = qc.num_qubits\n",
    "            curr_seed = seed_list[qc_list.index(qc)]\n",
    "            print(f\"        Running {qc.name} on {cmap_name} with seed {curr_seed}\")\n",
    "            # Create the routing pass\n",
    "            rp = SabreSwap(coupling_map=cmap, heuristic=heuristic, seed=curr_seed, trials=pass_trials)\n",
    "            lp = SabreLayout(coupling_map=cmap, routing_pass=rp, seed=curr_seed)\n",
    "            # Create the pass manager\n",
    "            pm = PassManager([lp, FullAncillaAllocation(cmap), EnlargeWithAncilla(), ApplyLayout(), rp])\n",
    "            # Execute the pass manager\n",
    "            start = time.time()\n",
    "            qc_tr = pm.run(qc)\n",
    "            end = time.time()\n",
    "            # Collect the metrics for this trial\n",
    "            runtime = end - start\n",
    "            swap_count = qc_tr.count_ops().get(\"swap\", 0)\n",
    "            depth = qc_tr.depth(lambda x: x.operation.num_qubits == 2)\n",
    "\n",
    "            # Write the results to the CSV file\n",
    "            # Columns are: \"qc_label, swap_count\", \"depth\", \"runtime\", \"num_qubits\", \"heuristic\", \"cmap\", \"trials\", \"seed\"\n",
    "            with open(csv_path, \"a\") as f:\n",
    "                f.write(f\"{qc_label},{swap_count},{depth},{runtime},{num_qubits},{heuristic},{cmap_name},{pass_trials},{curr_seed}\\n\")\n",
    "            print(f\"            Swap count: {swap_count}, Depth: {depth}, Runtime: {runtime}\")\n",
    "\n",
    "    "
   ]
  },
  {
   "cell_type": "code",
   "execution_count": null,
   "metadata": {},
   "outputs": [],
   "source": []
  }
 ],
 "metadata": {
  "kernelspec": {
   "display_name": "sabre-dev",
   "language": "python",
   "name": "python3"
  },
  "language_info": {
   "codemirror_mode": {
    "name": "ipython",
    "version": 3
   },
   "file_extension": ".py",
   "mimetype": "text/x-python",
   "name": "python",
   "nbconvert_exporter": "python",
   "pygments_lexer": "ipython3",
   "version": "3.11.4"
  }
 },
 "nbformat": 4,
 "nbformat_minor": 2
}
