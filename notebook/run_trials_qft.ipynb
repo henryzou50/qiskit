{
 "cells": [
  {
   "cell_type": "code",
   "execution_count": 3,
   "metadata": {},
   "outputs": [],
   "source": [
    "from qiskit.transpiler import CouplingMap, PassManager\n",
    "from qiskit.transpiler.passes import SabreLayout, SabreSwap\n",
    "from qiskit.transpiler.passes import FullAncillaAllocation, EnlargeWithAncilla, ApplyLayout\n",
    "from utils import file_to_coupling_map, directory_to_circuits\n",
    "\n",
    "import random\n",
    "import time\n",
    "import os\n",
    "import numpy as np\n"
   ]
  },
  {
   "cell_type": "code",
   "execution_count": 4,
   "metadata": {},
   "outputs": [],
   "source": [
    "seed = 42\n",
    "random.seed(seed)\n",
    "\n",
    "cmap_name= \"heavy_hex_127.txt\"\n",
    "cmap = file_to_coupling_map(f\"coupling_maps/{cmap_name}\")\n",
    "qc_name = \"qft\"\n",
    "heuristic = \"decay\"\n",
    "curr_seed = 42\n",
    "qc_list = directory_to_circuits(f\"circuits/{qc_name}\")\n",
    "\n",
    "pass_trials_list = [1, 5]\n",
    "\n",
    "\n",
    "# CSV file to store the results\n",
    "csv_path = f\"results/trials_{qc_name}.csv\"\n",
    "# Columns are: \"swap_count\", \"depth\", \"runtime\", \"num_qubits\", \"heuristic\", \"cmap\", \"trials\", \"seed\"\n",
    "with open(csv_path, \"w\") as f:\n",
    "    f.write(\"swap_count,depth,runtime,num_qubits,heuristic,cmap,trials,seed\\n\")\n",
    "\n",
    "\n"
   ]
  },
  {
   "cell_type": "code",
   "execution_count": 5,
   "metadata": {},
   "outputs": [
    {
     "name": "stdout",
     "output_type": "stream",
     "text": [
      "Running 1 trials\n",
      "    Running qft_10.qasm on heavy_hex_127.txt with seed 42\n",
      "            Swap count: 61, Depth: 57, Runtime: 0.06658506393432617\n",
      "    Running qft_29.qasm on heavy_hex_127.txt with seed 42\n",
      "            Swap count: 681, Depth: 338, Runtime: 0.37375617027282715\n",
      "    Running qft_49.qasm on heavy_hex_127.txt with seed 42\n",
      "            Swap count: 2169, Depth: 815, Runtime: 1.0169780254364014\n",
      "    Running qft_68.qasm on heavy_hex_127.txt with seed 42\n",
      "            Swap count: 4176, Depth: 1454, Runtime: 1.963526964187622\n",
      "    Running qft_88.qasm on heavy_hex_127.txt with seed 42\n",
      "            Swap count: 7482, Depth: 2102, Runtime: 3.293938159942627\n",
      "    Running qft_107.qasm on heavy_hex_127.txt with seed 42\n",
      "            Swap count: 9667, Depth: 2517, Runtime: 4.774640798568726\n",
      "    Running qft_127.qasm on heavy_hex_127.txt with seed 42\n",
      "            Swap count: 15679, Depth: 6173, Runtime: 6.907954931259155\n",
      "Running 5 trials\n",
      "    Running qft_10.qasm on heavy_hex_127.txt with seed 42\n",
      "            Swap count: 77, Depth: 58, Runtime: 0.06716585159301758\n",
      "    Running qft_29.qasm on heavy_hex_127.txt with seed 42\n",
      "            Swap count: 643, Depth: 265, Runtime: 0.4623141288757324\n",
      "    Running qft_49.qasm on heavy_hex_127.txt with seed 42\n",
      "            Swap count: 1792, Depth: 668, Runtime: 0.9737510681152344\n",
      "    Running qft_68.qasm on heavy_hex_127.txt with seed 42\n",
      "            Swap count: 3475, Depth: 1056, Runtime: 2.020354986190796\n",
      "    Running qft_88.qasm on heavy_hex_127.txt with seed 42\n",
      "            Swap count: 5754, Depth: 1723, Runtime: 3.392456293106079\n",
      "    Running qft_107.qasm on heavy_hex_127.txt with seed 42\n",
      "            Swap count: 9214, Depth: 2637, Runtime: 5.150938034057617\n",
      "    Running qft_127.qasm on heavy_hex_127.txt with seed 42\n",
      "            Swap count: 12427, Depth: 3161, Runtime: 7.315289735794067\n"
     ]
    }
   ],
   "source": [
    "# Vary the pass trials\n",
    "for pass_trials in pass_trials_list:\n",
    "    print(f\"Running {pass_trials} trials\")\n",
    "    # Run on all circuits\n",
    "    for qc in qc_list:\n",
    "        num_qubits = qc.num_qubits\n",
    "        print(f\"    Running {qc.name} on {cmap_name} with seed {curr_seed}\")\n",
    "        # Create the routing pass\n",
    "        rp = SabreSwap(coupling_map=cmap, heuristic=heuristic, seed=curr_seed, trials=pass_trials)\n",
    "        lp = SabreLayout(coupling_map=cmap, routing_pass=rp, seed=curr_seed)\n",
    "        # Create the pass manager\n",
    "        pm = PassManager([lp, FullAncillaAllocation(cmap), EnlargeWithAncilla(), ApplyLayout(), rp])\n",
    "        # Execute the pass manager\n",
    "        start = time.time()\n",
    "        qc_tr = pm.run(qc)\n",
    "        end = time.time()\n",
    "        # Collect the metrics for this trial\n",
    "        runtime = end - start\n",
    "        swap_count = qc_tr.count_ops().get(\"swap\", 0)\n",
    "        depth = qc_tr.depth(lambda x: x.operation.num_qubits == 2)\n",
    "\n",
    "        # Write the results to the CSV file\n",
    "        # Columns are: \"swap_count\", \"depth\", \"runtime\", \"num_qubits\", \"heuristic\", \"cmap\", \"trials\", \"seed\"\n",
    "        with open(csv_path, \"a\") as f:\n",
    "            f.write(f\"{swap_count},{depth},{runtime},{num_qubits},{heuristic},{cmap_name},{pass_trials},{curr_seed}\\n\")\n",
    "        print(f\"            Swap count: {swap_count}, Depth: {depth}, Runtime: {runtime}\")\n",
    "\n",
    "    "
   ]
  }
 ],
 "metadata": {
  "kernelspec": {
   "display_name": "sabre-dev",
   "language": "python",
   "name": "python3"
  },
  "language_info": {
   "codemirror_mode": {
    "name": "ipython",
    "version": 3
   },
   "file_extension": ".py",
   "mimetype": "text/x-python",
   "name": "python",
   "nbconvert_exporter": "python",
   "pygments_lexer": "ipython3",
   "version": "3.11.4"
  }
 },
 "nbformat": 4,
 "nbformat_minor": 2
}
